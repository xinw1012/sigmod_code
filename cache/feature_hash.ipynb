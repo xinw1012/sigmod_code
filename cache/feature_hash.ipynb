{
 "cells": [
  {
   "cell_type": "code",
   "execution_count": 1,
   "metadata": {
    "collapsed": true
   },
   "outputs": [],
   "source": [
    "%reload_ext autoreload\n",
    "%autoreload 2\n",
    "%matplotlib inline"
   ]
  },
  {
   "cell_type": "code",
   "execution_count": 2,
   "metadata": {
    "collapsed": false
   },
   "outputs": [],
   "source": [
    "import pandas as pd\n",
    "import numpy as np\n",
    "from sklearn import linear_model as lm\n",
    "import matplotlib.pylab as pylab\n",
    "import matplotlib.pyplot as plt\n",
    "import classification as lg\n",
    "import digit_class as digits\n",
    "import digits_functions as dif\n",
    "#import digits_function as digitsfunc\n",
    "from datetime import datetime\n",
    "import time\n",
    "from sklearn import svm, ensemble"
   ]
  },
  {
   "cell_type": "code",
   "execution_count": 3,
   "metadata": {
    "collapsed": false
   },
   "outputs": [
    {
     "name": "stdout",
     "output_type": "stream",
     "text": [
      "Source file: /Users/xinw/Documents/projects/velox-centipede/data/mnist_train.csv\n",
      "Number of image files: 60000\n",
      "Source file: /Users/xinw/Documents/projects/velox-centipede/data/mnist_test.csv\n",
      "Number of image files: 10000\n"
     ]
    }
   ],
   "source": [
    "train_x, train_y = digits.load_digits(\"/Users/xinw/Documents/projects/velox-centipede/data\", digits_filename = \"mnist_train.csv\")\n",
    "Z = digits.normalize_digits(train_x)\n",
    "test_x, test_y = digits.load_digits(\"/Users/xinw/Documents/projects/velox-centipede/data\", digits_filename = \"mnist_test.csv\")\n",
    "test_Z = digits.normalize_digits(test_x)\n",
    "#Z = digits.fourier_project(train_x)"
   ]
  },
  {
   "cell_type": "code",
   "execution_count": 27,
   "metadata": {
    "collapsed": false
   },
   "outputs": [
    {
     "data": {
      "text/plain": [
       "10000"
      ]
     },
     "execution_count": 27,
     "metadata": {},
     "output_type": "execute_result"
    }
   ],
   "source": [
    "len(test_x)"
   ]
  },
  {
   "cell_type": "code",
   "execution_count": 4,
   "metadata": {
    "collapsed": false
   },
   "outputs": [],
   "source": [
    "L = dif.fourier_project(test_x, 100)"
   ]
  },
  {
   "cell_type": "code",
   "execution_count": 5,
   "metadata": {
    "collapsed": false
   },
   "outputs": [],
   "source": [
    "lala = (L+0.5).astype('int64')"
   ]
  },
  {
   "cell_type": "code",
   "execution_count": 6,
   "metadata": {
    "collapsed": false
   },
   "outputs": [],
   "source": [
    "dic = {}\n",
    "cnt = 0\n",
    "for i in range(lala.shape[0]):\n",
    "    key = str(lala[i].tolist())\n",
    "    if key in dic:\n",
    "        dic[key] += 1\n",
    "    else:\n",
    "        cnt += 1\n",
    "        dic[key] = 1"
   ]
  },
  {
   "cell_type": "code",
   "execution_count": null,
   "metadata": {
    "collapsed": false
   },
   "outputs": [],
   "source": []
  },
  {
   "cell_type": "code",
   "execution_count": 7,
   "metadata": {
    "collapsed": false
   },
   "outputs": [
    {
     "data": {
      "text/plain": [
       "5266"
      ]
     },
     "execution_count": 7,
     "metadata": {},
     "output_type": "execute_result"
    }
   ],
   "source": [
    "cnt"
   ]
  },
  {
   "cell_type": "markdown",
   "metadata": {},
   "source": [
    "# Error VS Cache Miss"
   ]
  },
  {
   "cell_type": "code",
   "execution_count": 9,
   "metadata": {
    "collapsed": false
   },
   "outputs": [
    {
     "name": "stdout",
     "output_type": "stream",
     "text": [
      "finish generate data for user specific model!\n"
     ]
    }
   ],
   "source": [
    "tasks = digits.create_mtl_datasets(Z, train_y, nTasks=100, taskSize=30, testSize=100)\n",
    "xs,ys,dy,ss,test_xs,test_ys,test_dy,test_ts = digits.generate_data(tasks)"
   ]
  },
  {
   "cell_type": "code",
   "execution_count": 13,
   "metadata": {
    "collapsed": false
   },
   "outputs": [
    {
     "data": {
      "text/plain": [
       "784"
      ]
     },
     "execution_count": 13,
     "metadata": {},
     "output_type": "execute_result"
    }
   ],
   "source": [
    "len(test_xs[0])"
   ]
  },
  {
   "cell_type": "code",
   "execution_count": 14,
   "metadata": {
    "collapsed": false
   },
   "outputs": [
    {
     "data": {
      "text/plain": [
       "784"
      ]
     },
     "execution_count": 14,
     "metadata": {},
     "output_type": "execute_result"
    }
   ],
   "source": [
    "len(test_x[0])"
   ]
  },
  {
   "cell_type": "code",
   "execution_count": null,
   "metadata": {
    "collapsed": false,
    "scrolled": false
   },
   "outputs": [
    {
     "name": "stdout",
     "output_type": "stream",
     "text": [
      "TOTALS: fit time: 15.264370\n",
      "start training ws!\n",
      "ws: feature_time (s): 0.061827, train_time (s): 0.027055\n",
      "Finish Training!\n",
      "cache size is  1\n",
      "error rate is  0.434\n",
      "cache miss is  1\n",
      "\n",
      "cache size is  2\n",
      "error rate is  0.434\n",
      "cache miss is  1\n",
      "\n",
      "cache size is  3\n",
      "error rate is  0.434\n",
      "cache miss is  1\n",
      "\n",
      "cache size is  4\n",
      "error rate is  0.434\n",
      "cache miss is  1\n",
      "\n",
      "cache size is  5\n",
      "error rate is  0.434\n",
      "cache miss is  1\n",
      "\n",
      "cache size is  6\n",
      "error rate is  0.434\n",
      "cache miss is  1\n",
      "\n",
      "cache size is  7\n",
      "error rate is  0.434\n",
      "cache miss is  1\n",
      "\n",
      "cache size is  8\n",
      "error rate is  0.434\n",
      "cache miss is  1\n",
      "\n",
      "cache size is  9\n",
      "error rate is  0.434\n",
      "cache miss is  1\n",
      "\n",
      "cache size is  10\n",
      "error rate is  0.434\n",
      "cache miss is  1\n",
      "\n",
      "cache size is  11\n",
      "error rate is  0.434\n",
      "cache miss is  1\n",
      "\n",
      "cache size is  12\n",
      "error rate is  0.434\n",
      "cache miss is  1\n",
      "\n",
      "cache size is  13\n",
      "error rate is  0.434\n",
      "cache miss is  1\n",
      "\n",
      "cache size is  14\n",
      "error rate is  0.434\n",
      "cache miss is  3\n",
      "\n",
      "cache size is  15\n",
      "error rate is  0.434\n",
      "cache miss is  1\n",
      "\n",
      "cache size is  16\n",
      "error rate is  0.4339\n",
      "cache miss is  2\n",
      "\n",
      "cache size is  17\n",
      "error rate is  0.4339\n",
      "cache miss is  3\n",
      "\n",
      "cache size is  18\n",
      "error rate is  0.4314\n",
      "cache miss is  2\n",
      "\n",
      "cache size is  19\n",
      "error rate is  0.434\n",
      "cache miss is  1\n",
      "\n",
      "cache size is  20\n",
      "error rate is  0.434\n",
      "cache miss is  1\n",
      "\n",
      "cache size is  21\n",
      "error rate is  0.434\n",
      "cache miss is  1\n",
      "\n",
      "cache size is  22\n",
      "error rate is  0.434\n",
      "cache miss is  1\n",
      "\n",
      "cache size is  23\n",
      "error rate is  0.4339\n",
      "cache miss is  2\n",
      "\n",
      "cache size is  24\n",
      "error rate is  0.434\n",
      "cache miss is  1\n",
      "\n",
      "cache size is  25\n",
      "error rate is  0.434\n",
      "cache miss is  1\n",
      "\n",
      "cache size is  26\n",
      "error rate is  0.434\n",
      "cache miss is  1\n",
      "\n",
      "cache size is  27\n",
      "error rate is  0.434\n",
      "cache miss is  1\n",
      "\n",
      "cache size is  28\n",
      "error rate is  0.4346\n",
      "cache miss is  2\n",
      "\n",
      "cache size is  29\n",
      "error rate is  0.434\n",
      "cache miss is  2\n",
      "\n",
      "cache size is  30\n",
      "error rate is  0.434\n",
      "cache miss is  1\n",
      "\n",
      "cache size is  31\n",
      "error rate is  0.434\n",
      "cache miss is  2\n",
      "\n",
      "cache size is  32\n",
      "error rate is  0.434\n",
      "cache miss is  1\n",
      "\n",
      "cache size is  33\n",
      "error rate is  0.4338\n",
      "cache miss is  2\n",
      "\n",
      "cache size is  34\n",
      "error rate is  0.4341\n",
      "cache miss is  2\n",
      "\n",
      "cache size is  35\n",
      "error rate is  0.4339\n",
      "cache miss is  4\n",
      "\n",
      "cache size is  36\n",
      "error rate is  0.434\n",
      "cache miss is  1\n",
      "\n",
      "cache size is  37\n",
      "error rate is  0.433\n",
      "cache miss is  2\n",
      "\n",
      "cache size is  38\n",
      "error rate is  0.434\n",
      "cache miss is  2\n",
      "\n",
      "cache size is  39\n",
      "error rate is  0.434\n",
      "cache miss is  1\n",
      "\n",
      "cache size is  40\n",
      "error rate is  0.434\n",
      "cache miss is  4\n",
      "\n",
      "cache size is  41\n",
      "error rate is  0.4339\n",
      "cache miss is  2\n",
      "\n",
      "cache size is  42\n",
      "error rate is  0.4354\n",
      "cache miss is  2\n",
      "\n",
      "cache size is  43\n",
      "error rate is  0.434\n",
      "cache miss is  1\n",
      "\n",
      "cache size is  44\n",
      "error rate is  0.434\n",
      "cache miss is  1\n",
      "\n",
      "cache size is  45\n",
      "error rate is  0.4356\n",
      "cache miss is  2\n",
      "\n",
      "cache size is  46\n",
      "error rate is  0.4341\n",
      "cache miss is  2\n",
      "\n",
      "cache size is  47\n",
      "error rate is  0.4338\n",
      "cache miss is  2\n",
      "\n",
      "cache size is  48\n",
      "error rate is  0.4222\n",
      "cache miss is  2\n",
      "\n",
      "cache size is  49\n",
      "error rate is  0.434\n",
      "cache miss is  1\n",
      "\n",
      "cache size is  50\n",
      "error rate is  0.434\n",
      "cache miss is  1\n",
      "\n",
      "cache size is  51\n",
      "error rate is  0.434\n",
      "cache miss is  3\n",
      "\n",
      "cache size is  52\n",
      "error rate is  0.421\n",
      "cache miss is  4\n",
      "\n",
      "cache size is  53\n",
      "error rate is  0.4048\n",
      "cache miss is  3\n",
      "\n",
      "cache size is  54\n",
      "error rate is  0.434\n",
      "cache miss is  1\n",
      "\n",
      "cache size is  55\n",
      "error rate is  0.434\n",
      "cache miss is  2\n",
      "\n",
      "cache size is  56\n",
      "error rate is  0.4341\n",
      "cache miss is  3\n",
      "\n",
      "cache size is  57\n",
      "error rate is  0.4341\n",
      "cache miss is  3\n",
      "\n",
      "cache size is  58\n",
      "error rate is  0.434\n",
      "cache miss is  1\n",
      "\n",
      "cache size is  59\n",
      "error rate is  0.434\n",
      "cache miss is  3\n",
      "\n",
      "cache size is  60\n",
      "error rate is  0.426\n",
      "cache miss is  6\n",
      "\n",
      "cache size is  61\n",
      "error rate is  0.434\n",
      "cache miss is  2\n",
      "\n",
      "cache size is  62\n",
      "error rate is  0.434\n",
      "cache miss is  1\n",
      "\n",
      "cache size is  63\n",
      "error rate is  0.4338\n",
      "cache miss is  2\n",
      "\n",
      "cache size is  64\n",
      "error rate is  0.434\n",
      "cache miss is  2\n",
      "\n",
      "cache size is  65\n",
      "error rate is  0.4339\n",
      "cache miss is  3\n",
      "\n",
      "cache size is  66\n",
      "error rate is  0.4336\n",
      "cache miss is  2\n",
      "\n",
      "cache size is  67\n",
      "error rate is  0.4338\n",
      "cache miss is  5\n",
      "\n",
      "cache size is  68\n",
      "error rate is  0.4341\n",
      "cache miss is  5\n",
      "\n",
      "cache size is  69\n",
      "error rate is  0.4337\n",
      "cache miss is  2\n",
      "\n",
      "cache size is  70\n",
      "error rate is  0.4338\n",
      "cache miss is  4\n",
      "\n",
      "cache size is  71\n",
      "error rate is  0.4343\n",
      "cache miss is  3\n",
      "\n",
      "cache size is  72\n",
      "error rate is  0.434\n",
      "cache miss is  2\n",
      "\n",
      "cache size is  73\n",
      "error rate is  0.434\n",
      "cache miss is  2\n",
      "\n",
      "cache size is  74\n",
      "error rate is  0.436\n",
      "cache miss is  4\n",
      "\n",
      "cache size is  75\n",
      "error rate is  0.4339\n",
      "cache miss is  3\n",
      "\n",
      "cache size is  76\n",
      "error rate is  0.434\n",
      "cache miss is  1\n",
      "\n",
      "cache size is  77\n",
      "error rate is  0.4326\n",
      "cache miss is  6\n",
      "\n",
      "cache size is  78\n",
      "error rate is  0.4342\n",
      "cache miss is  3\n",
      "\n",
      "cache size is  79\n",
      "error rate is  0.4339\n",
      "cache miss is  2\n",
      "\n",
      "cache size is  80\n",
      "error rate is  0.4335\n",
      "cache miss is  5\n",
      "\n",
      "cache size is  81\n",
      "error rate is "
     ]
    }
   ],
   "source": [
    "k = 10\n",
    "svm_mtl = lg.UserDefineModel(xs,ys,dy,ss,'train-all','l2') # using the default value \n",
    "svm_mtl.train_all_fs()\n",
    "svm_mtl.train_ws()\n",
    "print 'Finish Training!'\n",
    "\n",
    "error_list = []\n",
    "cache_miss = []\n",
    "for s in range(1,1000):\n",
    "    print 'cache size is ', s\n",
    "    key = (dif.fourier_project(np.asarray(test_xs),s)+0.5).astype('int64')\n",
    "    dic = {}\n",
    "    svm_err = lg.seg_model_error_01(svm_mtl,test_xs,test_ys,test_ts, key, dic)\n",
    "    error_list.append(svm_err)\n",
    "    print 'error rate is ', svm_err\n",
    "    cache_miss.append(svm_mtl.hit)\n",
    "    print 'cache miss is ', svm_mtl.hit\n",
    "    svm_mtl.hit = 0\n",
    "    print \n",
    "\n",
    "\n",
    "\n",
    "\n",
    "\n"
   ]
  },
  {
   "cell_type": "code",
   "execution_count": 13,
   "metadata": {
    "collapsed": false
   },
   "outputs": [
    {
     "data": {
      "text/plain": [
       "numpy.ndarray"
      ]
     },
     "execution_count": 13,
     "metadata": {},
     "output_type": "execute_result"
    }
   ],
   "source": [
    "type(test_x)"
   ]
  },
  {
   "cell_type": "code",
   "execution_count": 15,
   "metadata": {
    "collapsed": false
   },
   "outputs": [
    {
     "data": {
      "text/plain": [
       "<function matplotlib.pyplot.show>"
      ]
     },
     "execution_count": 15,
     "metadata": {},
     "output_type": "execute_result"
    },
    {
     "data": {
      "image/png": "[encoded data removed]",
      "text/plain": [
       "<matplotlib.figure.Figure at 0x109a83b10>"
      ]
     },
     "metadata": {},
     "output_type": "display_data"
    }
   ],
   "source": [
    "plt.plot(cache_miss, error_list)\n",
    "plt.show"
   ]
  },
  {
   "cell_type": "code",
   "execution_count": null,
   "metadata": {
    "collapsed": true
   },
   "outputs": [],
   "source": []
  }
 ],
 "metadata": {
  "kernelspec": {
   "display_name": "Python 2",
   "language": "python",
   "name": "python2"
  },
  "language_info": {
   "codemirror_mode": {
    "name": "ipython",
    "version": 2
   },
   "file_extension": ".py",
   "mimetype": "text/x-python",
   "name": "python",
   "nbconvert_exporter": "python",
   "pygments_lexer": "ipython2",
   "version": "2.7.10"
  }
 },
 "nbformat": 4,
 "nbformat_minor": 0
}
