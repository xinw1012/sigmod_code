{
 "cells": [
  {
   "cell_type": "code",
   "execution_count": 1,
   "metadata": {
    "collapsed": false
   },
   "outputs": [],
   "source": [
    "%reload_ext autoreload\n",
    "%autoreload 2\n",
    "%matplotlib inline"
   ]
  },
  {
   "cell_type": "code",
   "execution_count": 2,
   "metadata": {
    "collapsed": true
   },
   "outputs": [],
   "source": [
    "import pandas as pd\n",
    "import numpy as np\n",
    "from sklearn import linear_model as lm\n",
    "import matplotlib.pylab as pylab\n",
    "import matplotlib.pyplot as plt\n",
    "import classification as lg\n",
    "import digit_class as digits\n",
    "#import digits_function as digitsfunc\n",
    "from datetime import datetime\n",
    "import time\n",
    "from sklearn import svm, ensemble"
   ]
  },
  {
   "cell_type": "code",
   "execution_count": 3,
   "metadata": {
    "collapsed": false
   },
   "outputs": [
    {
     "name": "stdout",
     "output_type": "stream",
     "text": [
      "Source file: /Users/xinw/Documents/projects/velox-centipede/data/mnist_train.csv\n",
      "Number of image files: 60000\n",
      "Source file: /Users/xinw/Documents/projects/velox-centipede/data/mnist_test.csv\n",
      "Number of image files: 10000\n"
     ]
    }
   ],
   "source": [
    "###### Load Data #################\n",
    "\n",
    "train_x, train_y = digits.load_digits(\"/Users/xinw/Documents/projects/velox-centipede/data\", digits_filename = \"mnist_train.csv\")\n",
    "Z = digits.normalize_digits(train_x)\n",
    "test_x, test_y = digits.load_digits(\"/Users/xinw/Documents/projects/velox-centipede/data\", digits_filename = \"mnist_test.csv\")\n",
    "test_Z = digits.normalize_digits(test_x)\n",
    "#Z = digits.fourier_project(train_x)\n"
   ]
  },
  {
   "cell_type": "code",
   "execution_count": 3,
   "metadata": {
    "collapsed": true
   },
   "outputs": [],
   "source": [
    "### Partial Concept Drift \n",
    "\n",
    "####### Initialization ##########\n",
    "tasks = digits.create_mtl_datasets(Z, train_y, nTasks=100, taskSize=20, testSize=40)\n",
    "#xs,ys,dy,ss,test_xs,test_ys,test_dy,test_ts = digits.generate_data(tasks)\n",
    "xs = []\n",
    "ys = []\n",
    "dy = []\n",
    "ss = []\n",
    "k = 20\n",
    "k_svm = 10\n",
    "train_iter = 2\n"
   ]
  },
  {
   "cell_type": "code",
   "execution_count": null,
   "metadata": {
    "collapsed": false
   },
   "outputs": [
    {
     "name": "stdout",
     "output_type": "stream",
     "text": [
      "TOTALS: fit time: 12.055393\n",
      "start training ws!\n",
      "ws: feature_time (s): 0.044092, train_time (s): 0.024299\n",
      "Initial Error SVM_mtl---Train All:  0.1135\n",
      "TOTALS: fit time: 22.912378\n",
      "start training ws!\n",
      "ws: feature_time (s): 0.102453, train_time (s): 0.041574"
     ]
    }
   ],
   "source": [
    "ntask = 20\n",
    "## Strategy: Train All data\n",
    "oracle_train_all_errors = []\n",
    "oracle_train_all = lg.LgSegmentModel(xs,ys,ss,'train-all',k) \n",
    "svm_train_all = lg.UserDefineModel(xs,ys,dy,ss,'train-all') # using the default value \n",
    "test_xs,test_ys,test_ss = digits.generate_additional_data (tasks, oracle_train_all, svm_train_all,3)\n",
    "\"\"\"\n",
    "for j in range(train_iter):\n",
    "    oracle_train_all.train_all_fs()\n",
    "    oracle_train_all.train_ws()\n",
    "oracle_err = lg.seg_model_error_01(oracle_train_all, test_xs, test_ys, test_ss, num=20)\n",
    "oracle_train_all_errors.append(oracle_err)\n",
    "#oracle_mtl_errors.append(oracle_err)\n",
    "print \"Initial Error OracleMTL---Train All: %f\" % oracle_err\n",
    "\"\"\"\n",
    "svm_train_all.train_all_fs()\n",
    "svm_train_all.train_ws()\n",
    "svm_err = lg.seg_model_error_01(svm_train_all,test_xs,test_ys,test_ss)\n",
    "print 'Initial Error SVM_mtl---Train All: ', svm_err\n",
    "svm_train_all_errors = []\n",
    "\n",
    "\n",
    "## strategy: retrain-new\n",
    "oracle_retrain_new_errors = []\n",
    "oracle_retrain_new = lg.LgSegmentModel(xs,ys,ss,'train-all',k)\n",
    "svm_retrain_new = lg.UserDefineModel(xs,ys,dy,ss,'train-all') # using the default value \n",
    "test_xs,test_ys,test_ss = digits.generate_additional_data (tasks, oracle_retrain_new, svm_retrain_new,3)\n",
    "\"\"\"\n",
    "for j in range(train_iter):\n",
    "    oracle_retrain_new.train_all_fs()\n",
    "    oracle_retrain_new.train_ws()\n",
    "oracle_retrain_new.strategy = 'retrain-new'    \n",
    "\"\"\"\n",
    "svm_retrain_new.train_all_fs()\n",
    "svm_retrain_new.train_ws()\n",
    "svm_retrain_new_errors = []\n",
    "svm_retrain_new.strategy = 'retrain-new'\n",
    "\"\"\"\n",
    "oracle_err = lg.seg_model_error_01(oracle_retrain_new, test_xs, test_ys, test_ss, num=20)\n",
    "oracle_retrain_new_errors.append(oracle_err)\n",
    "\"\"\"\n",
    "svm_err = lg.seg_model_error_01(svm_retrain_new,test_xs,test_ys,test_ss)\n",
    "#svm_retrain_new_errors.append(svm_err)\n",
    "#print \"Initial Error OracleMTL---Train All: %f\" % oracle_err\n",
    "print 'Initial Error SVM_mtl---Train All: ', svm_err\n",
    "\n",
    "\n",
    "\n",
    "## strategy: average-weight\n",
    "oracle_average_weight_errors = []\n",
    "oracle_average_weight = lg.LgSegmentModel(xs,ys,ss,'train-all',k) \n",
    "svm_average_weight = lg.UserDefineModel(xs,ys,dy,ss,'train-all') # using the default value \n",
    "test_xs,test_ys,test_ss = digits.generate_additional_data (tasks, oracle_average_weight, svm_average_weight,3)\n",
    "\"\"\"\n",
    "for j in range(train_iter):\n",
    "    oracle_average_weight.train_all_fs()\n",
    "    oracle_average_weight.train_ws()\n",
    "oracle_average_weight.strategy = 'average-weight'    \n",
    "\"\"\"\n",
    "svm_average_weight.train_all_fs()\n",
    "svm_average_weight.train_ws()\n",
    "svm_average_weight_errors = []\n",
    "svm_average_weight.strategy = 'average-weight'\n",
    "\"\"\"\n",
    "oracle_err = lg.seg_model_error_01(oracle_average_weight, test_xs, test_ys, test_ss, num=20)\n",
    "oracle_retrain_new_errors.append(oracle_err)\n",
    "\"\"\"\n",
    "svm_err = lg.seg_model_error_01(svm_average_weight,test_xs,test_ys,test_ss)\n",
    "#svm_average_weight_errors.append(svm_err)\n",
    "#print \"Initial Error OracleMTL---Train All: %f\" % oracle_err\n",
    "print 'Initial Error SVM_mtl---Train All: ', svm_err\n",
    "\n",
    "## strategy: last-point\n",
    "oracle_last_point_errors = []\n",
    "oracle_last_point = lg.LgSegmentModel(xs,ys,ss,'train-all',k)\n",
    "svm_last_point = lg.UserDefineModel(xs,ys,dy,ss,'train-all') # using the default value \n",
    "test_xs,test_ys,test_ss = digits.generate_additional_data (tasks, oracle_last_point, svm_last_point,3)\n",
    "print len(test_ss)\n",
    "\"\"\"\n",
    "for j in range(train_iter):\n",
    "    oracle_last_point.train_all_fs()\n",
    "    oracle_last_point.train_ws()\n",
    "oracle_last_point.strategy = 'last-point'    \n",
    "\"\"\"\n",
    "svm_last_point.train_all_fs()\n",
    "svm_last_point.train_ws()\n",
    "svm_last_point_errors = []\n",
    "svm_last_point.strategy = 'last-point'\n",
    "\n",
    "\"\"\"\n",
    "oracle_err = lg.seg_model_error_01(oracle_last_point, test_xs, test_ys, test_ss, num=20)\n",
    "oracle_retrain_new_errors.append(oracle_err)\n",
    "\"\"\"\n",
    "svm_err = lg.seg_model_error_01(svm_last_point,test_xs,test_ys,test_ss)\n",
    "#svm_last_point_errors.append(svm_err)\n",
    "#print \"Initial Error OracleMTL---Train All: %f\" % oracle_err\n",
    "print 'Initial Error SVM_mtl---Train All: ', svm_err\n",
    "\n",
    "\n",
    "## strategy: Gradient-step\n",
    "oracle_gradient_step_errors = []\n",
    "oracle_gradient_step = lg.LgSegmentModel(xs,ys,ss,'train-all',k)\n",
    "svm_gradient_step = lg.UserDefineModel(xs,ys,dy,ss,'train-all') # using the default value \n",
    "test_xs,test_ys,test_ss = digits.generate_additional_data (tasks, oracle_gradient_step, svm_gradient_step,3)\n",
    "\"\"\"\n",
    "for j in range(train_iter):\n",
    "    oracle_gradient_step.train_all_fs()\n",
    "    oracle_gradient_step.train_ws()\n",
    "oracle_gradient_step.strategy = 'Gradient-step'    \n",
    "\"\"\"\n",
    "\n",
    "svm_gradient_step.train_all_fs()\n",
    "svm_gradient_step.train_ws()\n",
    "svm_gradient_step_errors = []\n",
    "svm_gradient_step.strategy = 'Gradient-step'\n",
    "\n",
    "\"\"\"\n",
    "oracle_err = lg.seg_model_error_01(oracle_gradient_step, test_xs, test_ys, test_ss, num=20)\n",
    "oracle_retrain_new_errors.append(oracle_err)\n",
    "\"\"\"\n",
    "svm_err = lg.seg_model_error_01(svm_gradient_step,test_xs,test_ys,test_ss)\n",
    "#svm_gradient_step_errors.append(svm_err)\n",
    "#print \"Initial Error OracleMTL---Train All: %f\" % oracle_err\n",
    "print 'Initial Error SVM_mtl---Train All: ', svm_err\n",
    "\n",
    "print '\\n\\n Finish Initialization!'\n"
   ]
  },
  {
   "cell_type": "code",
   "execution_count": 6,
   "metadata": {
    "collapsed": false
   },
   "outputs": [
    {
     "name": "stdout",
     "output_type": "stream",
     "text": [
      "4000\n"
     ]
    }
   ],
   "source": [
    "print len(test_xs)"
   ]
  },
  {
   "cell_type": "code",
   "execution_count": null,
   "metadata": {
    "collapsed": true
   },
   "outputs": [],
   "source": []
  },
  {
   "cell_type": "code",
   "execution_count": 7,
   "metadata": {
    "collapsed": false
   },
   "outputs": [],
   "source": [
    "test_xa = list(test_xs)\n",
    "test_ya = list(test_ys)\n",
    "test_ta = list(test_ss)"
   ]
  },
  {
   "cell_type": "code",
   "execution_count": 53,
   "metadata": {
    "collapsed": false
   },
   "outputs": [
    {
     "name": "stderr",
     "output_type": "stream",
     "text": [
      "digit_class.py:447: FutureWarning: comparison to `None` will result in an elementwise object comparison in the future.\n",
      "  perm = np.random.permutation(len(y)) # shuffle dataset\n"
     ]
    }
   ],
   "source": [
    "test_xs1,test_ys1,test_ts1 = digits.generate_data_concept_drift(Z, train_y, oracle_train_all,svm_train_all,i,'partial')\n",
    "test_xs2,test_ys2,test_ts2 = digits.generate_data_concept_drift(Z, train_y, oracle_retrain_new,svm_retrain_new,i,'partial')\n",
    "test_xs3,test_ys3,test_ts3 = digits.generate_data_concept_drift(Z, train_y, oracle_average_weight,svm_average_weight,i,'partial')\n",
    "test_xs4,test_ys4,test_ts4 = digits.generate_data_concept_drift(Z, train_y, oracle_last_point,svm_last_point,i,'partial')\n",
    "test_xs5,test_ys5,test_ts5 = digits.generate_data_concept_drift(Z, train_y, oracle_gradient_step,svm_gradient_step,i,'partial')\n"
   ]
  },
  {
   "cell_type": "code",
   "execution_count": 56,
   "metadata": {
    "collapsed": false
   },
   "outputs": [
    {
     "data": {
      "text/plain": [
       "40"
      ]
     },
     "execution_count": 56,
     "metadata": {},
     "output_type": "execute_result"
    }
   ],
   "source": [
    "len(svm_train_all.segments[0].ys)"
   ]
  },
  {
   "cell_type": "code",
   "execution_count": 57,
   "metadata": {
    "collapsed": false,
    "scrolled": true
   },
   "outputs": [
    {
     "name": "stdout",
     "output_type": "stream",
     "text": [
      "update-strategy: # of points:  20\n",
      "start training ws!\n",
      "ws: feature_time (s): 0.119688, train_time (s): 0.053971\n",
      "Testing Error of svm model-- train-all is  0.22125\n",
      "start training ws!\n",
      "ws: feature_time (s): 0.146294, train_time (s): 0.043099\n",
      "Testing Error of svm model-- retrain_new is  0.52375\n",
      "start training ws!\n",
      "ws: feature_time (s): 0.197951, train_time (s): 0.048806\n",
      "Testing Error of svm model-- average_weight is  0.4965\n",
      "start training ws!\n",
      "ws: feature_time (s): 0.198691, train_time (s): 0.003562\n",
      "Testing Error of svm model-- last_point is  0.48725\n",
      "start training ws!\n",
      "ws: feature_time (s): 0.234908, train_time (s): 0.005531\n",
      "Testing Error of svm model-- gradient_step is  0.49825\n",
      "update-strategy: # of points:  21\n",
      "start training ws!\n",
      "ws: feature_time (s): 0.146569, train_time (s): 0.057529\n",
      "Testing Error of svm model-- train-all is  0.22125\n",
      "start training ws!\n",
      "ws: feature_time (s): 0.173383, train_time (s): 0.046046\n",
      "Testing Error of svm model-- retrain_new is  0.52375\n",
      "start training ws!\n",
      "ws: feature_time (s): 0.251173, train_time (s): 0.056695\n",
      "Testing Error of svm model-- average_weight is  0.4965\n",
      "start training ws!\n",
      "ws: feature_time (s): 0.229166, train_time (s): 0.004182\n",
      "Testing Error of svm model-- last_point is  0.48725\n",
      "start training ws!\n",
      "ws: feature_time (s): 0.237183, train_time (s): 0.005428\n",
      "Testing Error of svm model-- gradient_step is  0.49825\n",
      "update-strategy: # of points:  22\n",
      "start training ws!\n",
      "ws: feature_time (s): 0.137048, train_time (s): 0.058554\n",
      "Testing Error of svm model-- train-all is  0.22125\n",
      "start training ws!\n",
      "ws: feature_time (s): 0.254669, train_time (s): 0.062596\n",
      "Testing Error of svm model-- retrain_new is  0.52375\n",
      "start training ws!\n",
      "ws: feature_time (s): 0.250346, train_time (s): 0.061245\n",
      "Testing Error of svm model-- average_weight is  0.4965\n",
      "start training ws!\n",
      "ws: feature_time (s): 0.186321, train_time (s): 0.003402\n",
      "Testing Error of svm model-- last_point is  0.48725\n",
      "start training ws!\n",
      "ws: feature_time (s): 0.224804, train_time (s): 0.005248\n",
      "Testing Error of svm model-- gradient_step is  0.49825\n",
      "update-strategy: # of points:  23\n",
      "start training ws!\n",
      "ws: feature_time (s): 0.096072, train_time (s): 0.037350\n",
      "Testing Error of svm model-- train-all is  0.22125\n",
      "start training ws!\n",
      "ws: feature_time (s): 0.117376, train_time (s): 0.034436\n",
      "Testing Error of svm model-- retrain_new is  0.52375\n",
      "start training ws!\n",
      "ws: feature_time (s): 0.145909, train_time (s): 0.039777\n",
      "Testing Error of svm model-- average_weight is  0.4965\n",
      "start training ws!\n",
      "ws: feature_time (s): 0.187774, train_time (s): 0.003532\n",
      "Testing Error of svm model-- last_point is  0.48725\n",
      "start training ws!\n",
      "ws: feature_time (s): 0.205325, train_time (s): 0.004661\n",
      "Testing Error of svm model-- gradient_step is  0.49825\n",
      "update-strategy: # of points:  24\n",
      "start training ws!\n",
      "ws: feature_time (s): 0.087069, train_time (s): 0.035421\n",
      "Testing Error of svm model-- train-all is  0.22125\n",
      "start training ws!\n",
      "ws: feature_time (s): 0.118372, train_time (s): 0.036176\n",
      "Testing Error of svm model-- retrain_new is  0.52375\n",
      "start training ws!\n",
      "ws: feature_time (s): 0.148135, train_time (s): 0.040265\n",
      "Testing Error of svm model-- average_weight is  0.4965\n",
      "start training ws!\n",
      "ws: feature_time (s): 0.169802, train_time (s): 0.002882\n",
      "Testing Error of svm model-- last_point is  0.48725\n",
      "start training ws!\n",
      "ws: feature_time (s): 0.211243, train_time (s): 0.005229\n",
      "Testing Error of svm model-- gradient_step is  0.49825\n",
      "update-strategy: # of points:  25\n",
      "start training ws!\n",
      "ws: feature_time (s): 0.143789, train_time (s): 0.057376\n",
      "Testing Error of svm model-- train-all is  0.22125\n",
      "start training ws!\n",
      "ws: feature_time (s): 0.128852, train_time (s): 0.039720\n",
      "Testing Error of svm model-- retrain_new is  0.52375\n",
      "start training ws!\n",
      "ws: feature_time (s): 0.150814, train_time (s): 0.040579\n",
      "Testing Error of svm model-- average_weight is  0.4965\n",
      "start training ws!\n",
      "ws: feature_time (s): 0.265895, train_time (s): 0.005132\n",
      "Testing Error of svm model-- last_point is  0.48725\n",
      "start training ws!\n",
      "ws: feature_time (s): 0.372044, train_time (s): 0.009109\n",
      "Testing Error of svm model-- gradient_step is  0.49825\n",
      "update-strategy: # of points:  26\n",
      "start training ws!\n",
      "ws: feature_time (s): 0.162918, train_time (s): 0.070490\n",
      "Testing Error of svm model-- train-all is  0.22125\n",
      "start training ws!\n",
      "ws: feature_time (s): 0.128089, train_time (s): 0.037870\n",
      "Testing Error of svm model-- retrain_new is  0.52375\n",
      "start training ws!\n",
      "ws: feature_time (s): 0.147450, train_time (s): 0.038199\n",
      "Testing Error of svm model-- average_weight is  0.4965\n",
      "start training ws!\n",
      "ws: feature_time (s): 0.180020, train_time (s): 0.003279\n",
      "Testing Error of svm model-- last_point is  0.48725\n",
      "start training ws!\n",
      "ws: feature_time (s): 0.278637, train_time (s): 0.006244\n",
      "Testing Error of svm model-- gradient_step is  0.49825\n",
      "update-strategy: # of points:  27\n",
      "start training ws!\n",
      "ws: feature_time (s): 0.093307, train_time (s): 0.038037\n",
      "Testing Error of svm model-- train-all is  0.22125\n",
      "start training ws!\n",
      "ws: feature_time (s): 0.141163, train_time (s): 0.043934\n",
      "Testing Error of svm model-- retrain_new is  0.52375\n",
      "start training ws!\n",
      "ws: feature_time (s): 0.302268, train_time (s): 0.066543\n",
      "Testing Error of svm model-- average_weight is  0.4965\n",
      "start training ws!\n",
      "ws: feature_time (s): 0.194773, train_time (s): 0.003569\n",
      "Testing Error of svm model-- last_point is  0.48725\n",
      "start training ws!\n",
      "ws: feature_time (s): 0.292657, train_time (s): 0.005951\n",
      "Testing Error of svm model-- gradient_step is  0.49825\n",
      "update-strategy: # of points:  28\n",
      "start training ws!\n",
      "ws: feature_time (s): 0.154003, train_time (s): 0.064654\n",
      "Testing Error of svm model-- train-all is  0.22125\n",
      "start training ws!\n",
      "ws: feature_time (s): 0.218181, train_time (s): 0.062439\n",
      "Testing Error of svm model-- retrain_new is  0.52375\n",
      "start training ws!\n",
      "ws: feature_time (s): 0.152876, train_time (s): 0.038306\n",
      "Testing Error of svm model-- average_weight is  0.4965\n",
      "start training ws!\n",
      "ws: feature_time (s): 0.195665, train_time (s): 0.004066\n",
      "Testing Error of svm model-- last_point is  0.48725\n",
      "start training ws!\n",
      "ws: feature_time (s): 0.236944, train_time (s): 0.005629\n",
      "Testing Error of svm model-- gradient_step is  0.49825\n",
      "update-strategy: # of points:  29\n",
      "start training ws!\n",
      "ws: feature_time (s): 0.104244, train_time (s): 0.041400\n",
      "Testing Error of svm model-- train-all is  0.22125\n",
      "start training ws!\n",
      "ws: feature_time (s): 0.261568, train_time (s): 0.068149\n",
      "Testing Error of svm model-- retrain_new is  0.52375\n",
      "start training ws!\n",
      "ws: feature_time (s): 0.195587, train_time (s): 0.047641\n",
      "Testing Error of svm model-- average_weight is  0.4965\n",
      "start training ws!\n",
      "ws: feature_time (s): 0.191803, train_time (s): 0.003762\n",
      "Testing Error of svm model-- last_point is  0.48725\n",
      "start training ws!\n",
      "ws: feature_time (s): 0.215244, train_time (s): 0.005006\n",
      "Testing Error of svm model-- gradient_step is  0.49825\n",
      "update-strategy: # of points:  30\n",
      "start training ws!\n",
      "ws: feature_time (s): 0.094178, train_time (s): 0.038696\n",
      "Testing Error of svm model-- train-all is  0.22125\n",
      "start training ws!\n",
      "ws: feature_time (s): 0.170722, train_time (s): 0.051354\n",
      "Testing Error of svm model-- retrain_new is  0.52375\n",
      "start training ws!\n",
      "ws: feature_time (s): 0.160788, train_time (s): 0.039544\n",
      "Testing Error of svm model-- average_weight is  0.4965\n",
      "start training ws!\n",
      "ws: feature_time (s): 0.192588, train_time (s): 0.003699\n",
      "Testing Error of svm model-- last_point is  0.48725\n",
      "start training ws!\n",
      "ws: feature_time (s): 0.346967, train_time (s): 0.008640\n",
      "Testing Error of svm model-- gradient_step is  0.49825\n",
      "update-strategy: # of points:  31\n",
      "start training ws!\n",
      "ws: feature_time (s): 0.155172, train_time (s): 0.066312\n",
      "Testing Error of svm model-- train-all is  0.22125\n",
      "start training ws!\n",
      "ws: feature_time (s): 0.239496, train_time (s): 0.080301\n",
      "Testing Error of svm model-- retrain_new is  0.52375\n",
      "start training ws!\n",
      "ws: feature_time (s): 0.156412, train_time (s): 0.038888\n",
      "Testing Error of svm model-- average_weight is  0.4965\n",
      "start training ws!\n",
      "ws: feature_time (s): 0.362343, train_time (s): 0.006444\n",
      "Testing Error of svm model-- last_point is  0.48725\n",
      "start training ws!\n",
      "ws: feature_time (s): 0.332999, train_time (s): 0.006878\n",
      "Testing Error of svm model-- gradient_step is  0.49825\n",
      "update-strategy: # of points:  32\n",
      "start training ws!\n",
      "ws: feature_time (s): 0.209804, train_time (s): 0.086970\n",
      "Testing Error of svm model-- train-all is  0.22125\n",
      "start training ws!\n",
      "ws: feature_time (s): 0.258189, train_time (s): 0.067956\n",
      "Testing Error of svm model-- retrain_new is  0.52375\n",
      "start training ws!\n",
      "ws: feature_time (s): 0.218431, train_time (s): 0.048187\n",
      "Testing Error of svm model-- average_weight is  0.4965\n",
      "start training ws!\n",
      "ws: feature_time (s): 0.307455, train_time (s): 0.004338\n",
      "Testing Error of svm model-- last_point is  0.48725\n",
      "start training ws!\n",
      "ws: feature_time (s): 0.243475, train_time (s): 0.005291\n",
      "Testing Error of svm model-- gradient_step is  0.49825\n",
      "update-strategy: # of points:  33\n",
      "start training ws!\n",
      "ws: feature_time (s): 0.097048, train_time (s): 0.038443\n",
      "Testing Error of svm model-- train-all is  0.22125\n",
      "start training ws!\n",
      "ws: feature_time (s): 0.147090, train_time (s): 0.038999\n",
      "Testing Error of svm model-- retrain_new is  0.52375\n",
      "start training ws!\n",
      "ws: feature_time (s): 0.149870, train_time (s): 0.040414\n",
      "Testing Error of svm model-- average_weight is  0.4965\n",
      "start training ws!\n",
      "ws: feature_time (s): 0.192846, train_time (s): 0.003584\n",
      "Testing Error of svm model-- last_point is  0.48725\n",
      "start training ws!\n",
      "ws: feature_time (s): 0.250458, train_time (s): 0.006372\n",
      "Testing Error of svm model-- gradient_step is  0.49825\n",
      "update-strategy: # of points:  34\n",
      "start training ws!\n",
      "ws: feature_time (s): 0.109414, train_time (s): 0.051952\n",
      "Testing Error of svm model-- train-all is  0.22125\n",
      "start training ws!\n",
      "ws: feature_time (s): 0.123580, train_time (s): 0.037809\n",
      "Testing Error of svm model-- retrain_new is  0.52375\n",
      "start training ws!\n",
      "ws: feature_time (s): 0.214040, train_time (s): 0.053119\n",
      "Testing Error of svm model-- average_weight is  0.4965\n",
      "start training ws!\n",
      "ws: feature_time (s): 0.191100, train_time (s): 0.006435\n",
      "Testing Error of svm model-- last_point is  0.48725\n",
      "start training ws!\n",
      "ws: feature_time (s): 0.255850, train_time (s): 0.005609\n",
      "Testing Error of svm model-- gradient_step is  0.49825\n",
      "update-strategy: # of points:  35\n",
      "start training ws!\n",
      "ws: feature_time (s): 0.094576, train_time (s): 0.038075\n",
      "Testing Error of svm model-- train-all is  0.22125\n",
      "start training ws!\n",
      "ws: feature_time (s): 0.240271, train_time (s): 0.063981\n",
      "Testing Error of svm model-- retrain_new is  0.52375\n",
      "start training ws!\n",
      "ws: feature_time (s): 0.242344, train_time (s): 0.056580\n",
      "Testing Error of svm model-- average_weight is  0.4965\n",
      "start training ws!\n",
      "ws: feature_time (s): 0.220164, train_time (s): 0.005372\n",
      "Testing Error of svm model-- last_point is  0.48725\n",
      "start training ws!\n",
      "ws: feature_time (s): 0.247298, train_time (s): 0.005836\n",
      "Testing Error of svm model-- gradient_step is  0.49825\n",
      "update-strategy: # of points:  36\n",
      "start training ws!\n",
      "ws: feature_time (s): 0.202907, train_time (s): 0.083328\n",
      "Testing Error of svm model-- train-all is  0.22125\n",
      "start training ws!\n",
      "ws: feature_time (s): 0.130360, train_time (s): 0.037548\n",
      "Testing Error of svm model-- retrain_new is  0.52375\n",
      "start training ws!\n",
      "ws: feature_time (s): 0.200648, train_time (s): 0.044501\n",
      "Testing Error of svm model-- average_weight is  0.4965\n",
      "start training ws!\n",
      "ws: feature_time (s): 0.209840, train_time (s): 0.004403\n",
      "Testing Error of svm model-- last_point is  0.48725\n",
      "start training ws!\n",
      "ws: feature_time (s): 0.279137, train_time (s): 0.006971\n",
      "Testing Error of svm model-- gradient_step is  0.49825\n",
      "update-strategy: # of points:  37\n",
      "start training ws!\n",
      "ws: feature_time (s): 0.093443, train_time (s): 0.037509\n",
      "Testing Error of svm model-- train-all is  0.22125\n",
      "start training ws!\n",
      "ws: feature_time (s): 0.136848, train_time (s): 0.039250\n",
      "Testing Error of svm model-- retrain_new is  0.52375\n",
      "start training ws!\n",
      "ws: feature_time (s): 0.176717, train_time (s): 0.041501\n",
      "Testing Error of svm model-- average_weight is  0.4965\n",
      "start training ws!\n",
      "ws: feature_time (s): 0.243398, train_time (s): 0.004051\n",
      "Testing Error of svm model-- last_point is  0.48725\n",
      "start training ws!\n",
      "ws: feature_time (s): 0.349299, train_time (s): 0.007933\n",
      "Testing Error of svm model-- gradient_step is  0.49825\n",
      "update-strategy: # of points:  38\n",
      "start training ws!\n",
      "ws: feature_time (s): 0.179758, train_time (s): 0.073665\n",
      "Testing Error of svm model-- train-all is  0.22125\n",
      "start training ws!\n",
      "ws: feature_time (s): 0.127063, train_time (s): 0.038333\n",
      "Testing Error of svm model-- retrain_new is  0.52375\n",
      "start training ws!\n",
      "ws: feature_time (s): 0.148057, train_time (s): 0.037665\n",
      "Testing Error of svm model-- average_weight is  0.4965\n",
      "start training ws!\n",
      "ws: feature_time (s): 0.176425, train_time (s): 0.003255\n",
      "Testing Error of svm model-- last_point is  0.48725\n",
      "start training ws!\n",
      "ws: feature_time (s): 0.233331, train_time (s): 0.005277\n",
      "Testing Error of svm model-- gradient_step is  0.49825\n",
      "update-strategy: # of points:  39\n",
      "start training ws!\n",
      "ws: feature_time (s): 0.093388, train_time (s): 0.037802\n",
      "Testing Error of svm model-- train-all is  0.22125\n",
      "start training ws!\n",
      "ws: feature_time (s): 0.203158, train_time (s): 0.060350\n",
      "Testing Error of svm model-- retrain_new is  0.52375\n",
      "start training ws!\n",
      "ws: feature_time (s): 0.332747, train_time (s): 0.068575\n",
      "Testing Error of svm model-- average_weight is  0.4965\n",
      "start training ws!\n",
      "ws: feature_time (s): 0.189968, train_time (s): 0.003475\n",
      "Testing Error of svm model-- last_point is  0.48725\n",
      "start training ws!\n",
      "ws: feature_time (s): 0.227593, train_time (s): 0.005580\n",
      "Testing Error of svm model-- gradient_step is  0.49825\n"
     ]
    }
   ],
   "source": [
    "\n",
    "####### Update Strategy Experiment #################\n",
    "# number of points range from 20-200, step = 10\n",
    "\n",
    "\n",
    "iters = [i+20 for i in range(20)]\n",
    "for i in iters:\n",
    "    print 'update-strategy: # of points: ', i\n",
    "    ## oracle\n",
    "    \"\"\"\n",
    "    oracle_train_all.train_ws()\n",
    "    oracle_err = lg.seg_model_error_01(oracle_train_all, test_xs, test_ys, test_ts, num=20)\n",
    "    oracle_train_all_errors.append(oracle_err)\n",
    "    print 'Testing Error of oracle model-- train-all is ', oracle_err\n",
    "\n",
    "    oracle_retrain_new.train_ws()\n",
    "    oracle_err = lg.seg_model_error_01(oracle_retrain_new, test_xs, test_ys, test_ts, num=20)\n",
    "    oracle_retrain_new_errors.append(oracle_err)\n",
    "    print 'Testing Error of oracle model-- retrain_new is ', oracle_err\n",
    "\n",
    "    oracle_average_weight.train_ws()\n",
    "    oracle_err = lg.seg_model_error_01(oracle_average_weight, test_xs, test_ys, test_ts, num=20)\n",
    "    oracle_average_weight_errors.append(oracle_err)\n",
    "    print 'Testing Error of oracle model-- average_weight is ', oracle_err\n",
    "    \n",
    "    oracle_last_point.train_ws()\n",
    "    oracle_err = lg.seg_model_error_01(oracle_last_point, test_xs, test_ys, test_ts, num=20)\n",
    "    oracle_last_point_errors.append(oracle_err)\n",
    "    print 'Testing Error of oracle model-- last_point is ', oracle_err\n",
    "    \n",
    "    oracle_gradient_step.train_ws()\n",
    "    oracle_err = lg.seg_model_error_01(oracle_gradient_step, test_xs, test_ys, test_ts, num=20)\n",
    "    oracle_gradient_step_errors.append(oracle_err)\n",
    "    print 'Testing Error of oracle model-- gradient_step is ', oracle_err    \n",
    "    \"\"\"\n",
    "    ### svm\n",
    "    \n",
    "    svm_train_all.train_ws(i)\n",
    "    svm_err = lg.seg_model_error_01(svm_train_all, test_xs1, test_ys1, test_ts1)\n",
    "    svm_train_all_errors.append(svm_err)\n",
    "    print 'Testing Error of svm model-- train-all is ', svm_err\n",
    "    \n",
    "    \n",
    "    svm_retrain_new.train_ws(i)\n",
    "    svm_err = lg.seg_model_error_01(svm_retrain_new, test_xs2, test_ys2, test_ts2)\n",
    "    svm_retrain_new_errors.append(svm_err)\n",
    "    print 'Testing Error of svm model-- retrain_new is ', svm_err\n",
    "    \n",
    "    \n",
    "    svm_average_weight.train_ws(i)\n",
    "    svm_err = lg.seg_model_error_01(svm_average_weight, test_xs3, test_ys3, test_ts3)\n",
    "    svm_average_weight_errors.append(svm_err)\n",
    "    print 'Testing Error of svm model-- average_weight is ', svm_err\n",
    "    \n",
    "    svm_last_point.train_ws(i)\n",
    "    svm_err = lg.seg_model_error_01(svm_last_point, test_xs4, test_ys4, test_ts4)\n",
    "    svm_last_point_errors.append(svm_err)\n",
    "    print 'Testing Error of svm model-- last_point is ', svm_err\n",
    "    \n",
    "    \n",
    "    svm_gradient_step.train_ws(i)\n",
    "    svm_err = lg.seg_model_error_01(svm_gradient_step, test_xs5, test_ys5, test_ts5)\n",
    "    svm_gradient_step_errors.append(svm_err)\n",
    "    print 'Testing Error of svm model-- gradient_step is ', svm_err  \n",
    "\n",
    " "
   ]
  },
  {
   "cell_type": "code",
   "execution_count": 58,
   "metadata": {
    "collapsed": true
   },
   "outputs": [],
   "source": [
    "iters = [20]+iters"
   ]
  },
  {
   "cell_type": "code",
   "execution_count": 14,
   "metadata": {
    "collapsed": false
   },
   "outputs": [
    {
     "name": "stdout",
     "output_type": "stream",
     "text": [
      "[20, 21, 22, 23, 24, 25, 26, 27, 28, 29, 30, 31, 32, 33, 34, 35, 36, 37, 38, 39, 40, 41, 42, 43, 44, 45, 46, 47, 48, 49, 50]\n"
     ]
    }
   ],
   "source": [
    "print iters"
   ]
  },
  {
   "cell_type": "code",
   "execution_count": 22,
   "metadata": {
    "collapsed": false
   },
   "outputs": [
    {
     "name": "stdout",
     "output_type": "stream",
     "text": [
      "31\n",
      "31\n"
     ]
    }
   ],
   "source": [
    "print len(iters)\n",
    "del svm_retrain_new_errors[1]\n",
    "del svm_retrain_new_errors[2]\n",
    "del svm_retrain_new_errors[3]\n",
    "print len(svm_retrain_new_errors)"
   ]
  },
  {
   "cell_type": "code",
   "execution_count": 416,
   "metadata": {
    "collapsed": false
   },
   "outputs": [],
   "source": [
    "\n",
    "## Write Files ###\n",
    "\n",
    "#f = open('update-strategy-experiment-partial-concept-drift.txt','w')\n",
    "#f = open('update-strategy-experiment-total-concept-drift.txt','w')\n",
    "#f = open('update-strategy-experiment-stationery-distribution.txt','w')\n",
    "f = open('stationery-distribution-6lines.txt','w')\n",
    "f.write('strategy: train-all\\n')\n",
    "\"\"\"\n",
    "f.write('Oracle Model:\\n')\n",
    "f.write('# of points:')\n",
    "for i in iters:\n",
    "    f.write('\\t'+str(i))\n",
    "f.write('\\n\\t')     \n",
    "\n",
    "for t in oracle_train_all_errors:\n",
    "    f.write('\\t'+str(t))\n",
    "\"\"\"    \n",
    "f.write('SVM Model:\\n# of points:')\n",
    "for i in iters:\n",
    "    f.write('\\t'+str(i))\n",
    "f.write('\\n')  \n",
    "for t in svm_train_all_errors:\n",
    "    f.write('\\t'+str(t))\n",
    "f.write('\\n\\n')\n",
    "\n",
    "f.write('strategy: retrain_new\\n')\n",
    "\"\"\"\n",
    "f.write('Oracle Model:\\n')\n",
    "f.write('# of points:')\n",
    "for i in iters:\n",
    "    f.write('\\t'+str(i))\n",
    "f.write('\\n\\t')     \n",
    "\n",
    "for t in oracle_retrain_new_errors:\n",
    "    f.write('\\t'+str(t))\n",
    "\"\"\"\n",
    "    \n",
    "f.write('SVM Model:\\n# of points:')\n",
    "for i in iters:\n",
    "    f.write('\\t'+str(i))\n",
    "f.write('\\n')  \n",
    "for t in svm_retrain_new_errors:\n",
    "    f.write('\\t'+str(t))\n",
    "f.write('\\n\\n')\n",
    "\n",
    "\n",
    "f.write('strategy: average_weight\\n')\n",
    "\n",
    "\"\"\"\n",
    "f.write('Oracle Model:\\n')\n",
    "f.write('# of points:')\n",
    "for i in iters:\n",
    "    f.write('\\t'+str(i))\n",
    "f.write('\\n\\t')     \n",
    "\n",
    "for t in oracle_average_weight_errors:\n",
    "    f.write('\\t'+str(t))\n",
    "\"\"\"    \n",
    "    \n",
    "f.write('\\n\\nSVM Model:\\n# of points:')\n",
    "for i in iters:\n",
    "    f.write('\\t'+str(i))\n",
    "f.write('\\n')  \n",
    "for t in svm_average_weight_errors:\n",
    "    f.write('\\t'+str(t))\n",
    "f.write('\\n\\n')\n",
    "\n",
    "f.write('strategy: last_point\\n')\n",
    "\"\"\"\n",
    "f.write('Oracle Model:\\n')\n",
    "f.write('# of points:')\n",
    "for i in iters:\n",
    "    f.write('\\t'+str(i))\n",
    "f.write('\\n\\t')     \n",
    "\n",
    "for t in oracle_last_point_errors:\n",
    "    f.write('\\t'+str(t))\n",
    "\"\"\"    \n",
    "    \n",
    "f.write('\\n\\nSVM Model:\\n# of points:')\n",
    "for i in iters:\n",
    "    f.write('\\t'+str(i))\n",
    "f.write('\\n')  \n",
    "for t in svm_last_point_errors:\n",
    "    f.write('\\t'+str(t))\n",
    "f.write('\\n\\n')\n",
    "\n",
    "f.write('strategy: gradient_step\\n')\n",
    "\"\"\"\n",
    "f.write('Oracle Model:\\n')\n",
    "f.write('# of points:')\n",
    "for i in iters:\n",
    "    f.write('\\t'+str(i))\n",
    "f.write('\\n\\t')     \n",
    "\n",
    "for t in oracle_gradient_step_errors:\n",
    "    f.write('\\t'+str(t))\n",
    "\"\"\"    \n",
    "    \n",
    "f.write('\\n\\nSVM Model:\\n# of points:')\n",
    "for i in iters:\n",
    "    f.write('\\t'+str(i))\n",
    "f.write('\\n')  \n",
    "for t in svm_gradient_step_errors:\n",
    "    f.write('\\t'+str(t))\n",
    "f.write('\\n\\n')\n",
    "\n",
    "\n",
    "f.write('strategy: no retrain:')\n",
    "f.write('\\n\\nSVM Model:\\n# of points:')\n",
    "for i in iters:\n",
    "    f.write('\\t'+str(i))\n",
    "f.write('\\n')  \n",
    "for t in svm_no_retrain_errors:\n",
    "    f.write('\\t'+str(t))\n",
    "f.write('\\n')\n",
    "\n",
    "f.close()"
   ]
  },
  {
   "cell_type": "code",
   "execution_count": 415,
   "metadata": {
    "collapsed": false
   },
   "outputs": [
    {
     "data": {
      "image/png": "[encoded data removed]",
      "text/plain": [
       "<matplotlib.figure.Figure at 0x109e26cd0>"
      ]
     },
     "metadata": {},
     "output_type": "display_data"
    }
   ],
   "source": [
    "## plot ###\n",
    "\"\"\"\n",
    "fig,ax = plt.subplots()\n",
    "#ax.plot(iters, oracle_train_all_errors, label='train_all')\n",
    "ax.plot(iters, oracle_retrain_new_errors, label = 'retrain_new')\n",
    "#ax.plot(iters, oracle_average_weight_errors, label = 'average_weight')\n",
    "#ax.plot(iters, oracle_last_point_errors, label = 'last_point')\n",
    "#ax.plot(iters, oracle_gradient_step_errors, label = 'gradient_step')\n",
    "ax.set_xlabel('Size of the task')\n",
    "ax.set_ylabel('Error rate')\n",
    "ax.set_title('Update-strategy -- Partial-Concept-Drift --Oracle ')\n",
    "ax.legend(loc='center left', bbox_to_anchor=(1, 0.5))\n",
    "default_size = fig.get_size_inches()\n",
    "size_mult = 1.7\n",
    "ax.set_ylim((0.0, ax.get_ylim()[1]))\n",
    "fig.set_size_inches(default_size[0]*size_mult,default_size[1]*size_mult)\n",
    "plt.show()\n",
    "\"\"\"\n",
    "fig,ax = plt.subplots()\n",
    "ax.plot(iters, svm_train_all_errors, label='train_all')\n",
    "ax.plot(iters, svm_retrain_new_errors, label = 'retrain_new')\n",
    "ax.plot(iters, svm_average_weight_errors, label = 'average_weight')\n",
    "ax.plot(iters, svm_last_point_errors, label = 'last_point')\n",
    "ax.plot(iters, svm_gradient_step_errors, label = 'gradient_step')\n",
    "ax.plot(iters, svm_no_retrain_errors, label = 'no_retrain')\n",
    "ax.set_xlabel('Size of the task')\n",
    "ax.set_ylabel('Error rate')\n",
    "ax.set_title('Update-strategy -- Stationery-Distribution --svm ')\n",
    "#ax.set_title('Update-strategy -- Total-Concept-Drift --svm ')\n",
    "#ax.set_title('Update-strategy -- Parital-Concept-Drift --svm ')\n",
    "ax.legend(loc='center left', bbox_to_anchor=(1, 0.5))\n",
    "default_size = fig.get_size_inches()\n",
    "size_mult = 1.7\n",
    "ax.set_ylim((0.0, ax.get_ylim()[1]))\n",
    "fig.set_size_inches(default_size[0]*size_mult,default_size[1]*size_mult)\n",
    "plt.show()\n"
   ]
  },
  {
   "cell_type": "code",
   "execution_count": null,
   "metadata": {
    "collapsed": true
   },
   "outputs": [],
   "source": []
  },
  {
   "cell_type": "code",
   "execution_count": 347,
   "metadata": {
    "collapsed": true
   },
   "outputs": [],
   "source": [
    "### Partial Concept Drift \n",
    "\n",
    "####### Initialization ##########\n",
    "tasks = digits.create_mtl_datasets(Z, train_y, nTasks=100, taskSize=20, testSize=40)\n",
    "#xs,ys,dy,ss,test_xs,test_ys,test_dy,test_ts = digits.generate_data(tasks)\n",
    "xs = []\n",
    "ys = []\n",
    "dy = []\n",
    "ss = []\n",
    "k = 20\n",
    "k_svm = 10\n",
    "train_iter = 2"
   ]
  },
  {
   "cell_type": "code",
   "execution_count": 383,
   "metadata": {
    "collapsed": true
   },
   "outputs": [],
   "source": [
    "tasks = digits.create_mtl_datasets(Z, train_y, nTasks=100, taskSize=20, testSize=40)"
   ]
  },
  {
   "cell_type": "markdown",
   "metadata": {},
   "source": [
    "# retrain New"
   ]
  },
  {
   "cell_type": "code",
   "execution_count": 384,
   "metadata": {
    "collapsed": true
   },
   "outputs": [],
   "source": [
    "### Partial Concept Drift \n",
    "\n",
    "####### Initialization ##########\n",
    "#tasks = digits.create_mtl_datasets(Z, train_y, nTasks=100, taskSize=20, testSize=40)\n",
    "#xs,ys,dy,ss,test_xs,test_ys,test_dy,test_ts = digits.generate_data(tasks)\n",
    "xs = []\n",
    "ys = []\n",
    "dy = []\n",
    "ss = []\n",
    "k = 20\n",
    "k_svm = 10\n",
    "train_iter = 2"
   ]
  },
  {
   "cell_type": "code",
   "execution_count": 385,
   "metadata": {
    "collapsed": false
   },
   "outputs": [
    {
     "name": "stdout",
     "output_type": "stream",
     "text": [
      "TOTALS: fit time: 9.950414\n",
      "start training ws!\n",
      "ws: feature_time (s): 0.045588, train_time (s): 0.025146\n",
      "Initial Error SVM_mtl---Train All:  0.09725\n"
     ]
    }
   ],
   "source": [
    "oracle_retrain_new_errors = []\n",
    "oracle_retrain_new = lg.LgSegmentModel(xs,ys,ss,'train-all',k)\n",
    "svm_retrain_new = lg.UserDefineModel(xs,ys,dy,ss,'train-all') # using the default value \n",
    "test_xs,test_ys,test_ss = digits.generate_additional_data (tasks, oracle_retrain_new, svm_retrain_new,3)\n",
    "\"\"\"\n",
    "for j in range(train_iter):\n",
    "    oracle_retrain_new.train_all_fs()\n",
    "    oracle_retrain_new.train_ws()\n",
    "oracle_retrain_new.strategy = 'retrain-new'    \n",
    "\"\"\"\n",
    "svm_retrain_new.train_all_fs()\n",
    "svm_retrain_new.train_ws()\n",
    "svm_retrain_new_errors = []\n",
    "svm_retrain_new.strategy = 'retrain-new'\n",
    "\"\"\"\n",
    "oracle_err = lg.seg_model_error_01(oracle_retrain_new, test_xs, test_ys, test_ss, num=20)\n",
    "oracle_retrain_new_errors.append(oracle_err)\n",
    "\"\"\"\n",
    "svm_err = lg.seg_model_error_01(svm_retrain_new,test_xs,test_ys,test_ss)\n",
    "svm_retrain_new_errors.append(svm_err)\n",
    "#print \"Initial Error OracleMTL---Train All: %f\" % oracle_err\n",
    "print 'Initial Error SVM_mtl---Train All: ', svm_err\n"
   ]
  },
  {
   "cell_type": "code",
   "execution_count": 386,
   "metadata": {
    "collapsed": false
   },
   "outputs": [],
   "source": [
    "test_xss,test_yss,test_tss = digits.generate_data_concept_drift(Z, train_y, oracle_retrain_new,svm_retrain_new,'same')"
   ]
  },
  {
   "cell_type": "code",
   "execution_count": 387,
   "metadata": {
    "collapsed": true
   },
   "outputs": [],
   "source": [
    "test_xss1,test_yss1,test_tss1 = digits.generate_data_concept_drift(Z, train_y, oracle_retrain_new,svm_retrain_new,'same')"
   ]
  },
  {
   "cell_type": "code",
   "execution_count": 288,
   "metadata": {
    "collapsed": false
   },
   "outputs": [
    {
     "data": {
      "text/plain": [
       "4000"
      ]
     },
     "execution_count": 288,
     "metadata": {},
     "output_type": "execute_result"
    }
   ],
   "source": [
    "len(test_xss1)"
   ]
  },
  {
   "cell_type": "code",
   "execution_count": 289,
   "metadata": {
    "collapsed": true
   },
   "outputs": [],
   "source": [
    "segment= svm_retrain_new.segments"
   ]
  },
  {
   "cell_type": "code",
   "execution_count": 322,
   "metadata": {
    "collapsed": false
   },
   "outputs": [
    {
     "data": {
      "text/plain": [
       "70"
      ]
     },
     "execution_count": 322,
     "metadata": {},
     "output_type": "execute_result"
    }
   ],
   "source": [
    "len(segment[0].xs)"
   ]
  },
  {
   "cell_type": "code",
   "execution_count": 388,
   "metadata": {
    "collapsed": false,
    "scrolled": true
   },
   "outputs": [
    {
     "name": "stdout",
     "output_type": "stream",
     "text": [
      "# of points is 20\n",
      "start training ws!\n",
      "ws: feature_time (s): 0.203766, train_time (s): 0.042717\n",
      "0.096\n",
      "# of points is 21\n",
      "start training ws!\n",
      "ws: feature_time (s): 0.219152, train_time (s): 0.047558\n",
      "0.10425\n",
      "# of points is 22\n",
      "start training ws!\n",
      "ws: feature_time (s): 0.189709, train_time (s): 0.045680\n",
      "0.107\n",
      "# of points is 23\n",
      "start training ws!\n",
      "ws: feature_time (s): 0.180614, train_time (s): 0.037424\n",
      "0.1105\n",
      "# of points is 24\n",
      "start training ws!\n",
      "ws: feature_time (s): 0.185385, train_time (s): 0.040746\n",
      "0.10925\n",
      "# of points is 25\n",
      "start training ws!\n",
      "ws: feature_time (s): 0.177775, train_time (s): 0.035675\n",
      "0.111\n",
      "# of points is 26\n",
      "start training ws!\n",
      "ws: feature_time (s): 0.214677, train_time (s): 0.045584\n",
      "0.1115\n",
      "# of points is 27\n",
      "start training ws!\n",
      "ws: feature_time (s): 0.179499, train_time (s): 0.037830\n",
      "0.11525\n",
      "# of points is 28\n",
      "start training ws!\n",
      "ws: feature_time (s): 0.296262, train_time (s): 0.070738\n",
      "0.11725\n",
      "# of points is 29\n",
      "start training ws!\n",
      "ws: feature_time (s): 0.287999, train_time (s): 0.084021\n",
      "0.122\n",
      "# of points is 30\n",
      "start training ws!\n",
      "ws: feature_time (s): 0.197124, train_time (s): 0.040003\n",
      "0.121\n",
      "# of points is 31\n",
      "start training ws!\n",
      "ws: feature_time (s): 0.199247, train_time (s): 0.041604\n",
      "0.1255\n",
      "# of points is 32\n",
      "start training ws!\n",
      "ws: feature_time (s): 0.234193, train_time (s): 0.047673\n",
      "0.12425\n",
      "# of points is 33\n",
      "start training ws!\n",
      "ws: feature_time (s): 0.187267, train_time (s): 0.040975\n",
      "0.1215\n",
      "# of points is 34\n",
      "start training ws!\n",
      "ws: feature_time (s): 0.215386, train_time (s): 0.044436\n",
      "0.127\n",
      "# of points is 35\n",
      "start training ws!\n",
      "ws: feature_time (s): 0.174007, train_time (s): 0.039944\n",
      "0.13025\n",
      "# of points is 36\n",
      "start training ws!\n",
      "ws: feature_time (s): 0.176872, train_time (s): 0.037874\n",
      "0.1335\n",
      "# of points is 37\n",
      "start training ws!\n",
      "ws: feature_time (s): 0.178455, train_time (s): 0.038884\n",
      "0.13725\n",
      "# of points is 38\n",
      "start training ws!\n",
      "ws: feature_time (s): 0.168376, train_time (s): 0.037161\n",
      "0.1355\n",
      "# of points is 39\n",
      "start training ws!\n",
      "ws: feature_time (s): 0.371873, train_time (s): 0.105102\n",
      "0.13125\n",
      "# of points is 40\n",
      "start training ws!\n",
      "ws: feature_time (s): 0.361579, train_time (s): 0.071053\n",
      "0.1305\n",
      "# of points is 41\n",
      "start training ws!\n",
      "ws: feature_time (s): 0.192197, train_time (s): 0.041560\n",
      "0.1335\n",
      "# of points is 42\n",
      "start training ws!\n",
      "ws: feature_time (s): 0.181617, train_time (s): 0.037561\n",
      "0.132\n",
      "# of points is 43\n",
      "start training ws!\n",
      "ws: feature_time (s): 0.278550, train_time (s): 0.056919\n",
      "0.13875\n",
      "# of points is 44\n",
      "start training ws!\n",
      "ws: feature_time (s): 0.174822, train_time (s): 0.038009\n",
      "0.1405\n",
      "# of points is 45\n",
      "start training ws!\n",
      "ws: feature_time (s): 0.175336, train_time (s): 0.038967\n",
      "0.13925\n",
      "# of points is 46\n",
      "start training ws!\n",
      "ws: feature_time (s): 0.279691, train_time (s): 0.054373\n",
      "0.13675\n",
      "# of points is 47\n",
      "start training ws!\n",
      "ws: feature_time (s): 0.177773, train_time (s): 0.039002\n",
      "0.13925\n",
      "# of points is 48\n",
      "start training ws!\n",
      "ws: feature_time (s): 0.198064, train_time (s): 0.041307\n",
      "0.13225\n",
      "# of points is 49\n",
      "start training ws!\n",
      "ws: feature_time (s): 0.184801, train_time (s): 0.042735\n",
      "0.1365\n",
      "# of points is 50\n",
      "start training ws!\n",
      "ws: feature_time (s): 0.180348, train_time (s): 0.040829\n",
      "0.13125\n",
      "# of points is 51\n",
      "start training ws!\n",
      "ws: feature_time (s): 0.179090, train_time (s): 0.039713\n",
      "0.1315\n",
      "# of points is 52\n",
      "start training ws!\n",
      "ws: feature_time (s): 0.188795, train_time (s): 0.041707\n",
      "0.1335\n",
      "# of points is 53\n",
      "start training ws!\n",
      "ws: feature_time (s): 0.176599, train_time (s): 0.040015\n",
      "0.1345\n",
      "# of points is 54\n",
      "start training ws!\n",
      "ws: feature_time (s): 0.191639, train_time (s): 0.041362\n",
      "0.13375\n",
      "# of points is 55\n",
      "start training ws!\n",
      "ws: feature_time (s): 0.168821, train_time (s): 0.038267\n",
      "0.13075\n",
      "# of points is 56\n",
      "start training ws!\n",
      "ws: feature_time (s): 0.227237, train_time (s): 0.047816\n",
      "0.1315\n",
      "# of points is 57\n",
      "start training ws!\n",
      "ws: feature_time (s): 0.215695, train_time (s): 0.045811\n",
      "0.13125\n",
      "# of points is 58\n",
      "start training ws!\n",
      "ws: feature_time (s): 0.183764, train_time (s): 0.040954\n",
      "0.1325\n",
      "# of points is 59\n",
      "start training ws!\n",
      "ws: feature_time (s): 0.185603, train_time (s): 0.039382\n",
      "0.13375\n",
      "# of points is 60\n",
      "start training ws!\n",
      "ws: feature_time (s): 0.185273, train_time (s): 0.038869\n",
      "0.1375\n",
      "# of points is 61\n",
      "start training ws!\n",
      "ws: feature_time (s): 0.175458, train_time (s): 0.038154\n",
      "0.13725\n",
      "# of points is 62\n",
      "start training ws!\n",
      "ws: feature_time (s): 0.174207, train_time (s): 0.037075\n",
      "0.1355\n",
      "# of points is 63\n",
      "start training ws!\n",
      "ws: feature_time (s): 0.172219, train_time (s): 0.037594\n",
      "0.138\n",
      "# of points is 64\n",
      "start training ws!\n",
      "ws: feature_time (s): 0.177101, train_time (s): 0.043503\n",
      "0.1405\n",
      "# of points is 65\n",
      "start training ws!\n",
      "ws: feature_time (s): 0.175103, train_time (s): 0.039355\n",
      "0.1365\n",
      "# of points is 66\n",
      "start training ws!\n",
      "ws: feature_time (s): 0.169196, train_time (s): 0.037754\n",
      "0.13375\n",
      "# of points is 67\n",
      "start training ws!\n",
      "ws: feature_time (s): 0.176637, train_time (s): 0.040776\n",
      "0.136\n",
      "# of points is 68\n",
      "start training ws!\n",
      "ws: feature_time (s): 0.173733, train_time (s): 0.040249\n",
      "0.13325\n",
      "# of points is 69\n",
      "start training ws!\n",
      "ws: feature_time (s): 0.174318, train_time (s): 0.037981\n",
      "0.13325\n"
     ]
    }
   ],
   "source": [
    "for i in range(50):\n",
    "    i+=20\n",
    "    print '# of points is', i\n",
    "    svm_retrain_new.train_ws(i)\n",
    "    if i<45:\n",
    "        svm_err = lg.seg_model_error_01(svm_retrain_new,test_xss,test_yss,test_tss)\n",
    "    else:\n",
    "        svm_err = lg.seg_model_error_01(svm_retrain_new,test_xss1,test_yss1,test_tss1)\n",
    "    print svm_err\n",
    "    svm_retrain_new_errors.append(svm_err)"
   ]
  },
  {
   "cell_type": "code",
   "execution_count": 389,
   "metadata": {
    "collapsed": false
   },
   "outputs": [
    {
     "data": {
      "image/png": "[encoded data removed]",
      "text/plain": [
       "<matplotlib.figure.Figure at 0x10c5a94d0>"
      ]
     },
     "metadata": {},
     "output_type": "display_data"
    }
   ],
   "source": [
    "plt.plot(iters,svm_retrain_new_errors)\n",
    "plt.show()"
   ]
  },
  {
   "cell_type": "code",
   "execution_count": null,
   "metadata": {
    "collapsed": true
   },
   "outputs": [],
   "source": []
  },
  {
   "cell_type": "markdown",
   "metadata": {},
   "source": [
    "# Train All"
   ]
  },
  {
   "cell_type": "code",
   "execution_count": 390,
   "metadata": {
    "collapsed": true
   },
   "outputs": [],
   "source": [
    "### Partial Concept Drift \n",
    "\n",
    "####### Initialization ##########\n",
    "#tasks = digits.create_mtl_datasets(Z, train_y, nTasks=100, taskSize=20, testSize=40)\n",
    "#xs,ys,dy,ss,test_xs,test_ys,test_dy,test_ts = digits.generate_data(tasks)\n",
    "xs = []\n",
    "ys = []\n",
    "dy = []\n",
    "ss = []\n",
    "k = 20\n",
    "k_svm = 10\n",
    "train_iter = 2"
   ]
  },
  {
   "cell_type": "code",
   "execution_count": 244,
   "metadata": {
    "collapsed": true
   },
   "outputs": [],
   "source": []
  },
  {
   "cell_type": "code",
   "execution_count": 391,
   "metadata": {
    "collapsed": false,
    "scrolled": true
   },
   "outputs": [
    {
     "name": "stdout",
     "output_type": "stream",
     "text": [
      "TOTALS: fit time: 8.816129\n",
      "start training ws!\n",
      "ws: feature_time (s): 0.045411, train_time (s): 0.025392\n",
      "Initial Error SVM_mtl---Train All:  0.09725\n"
     ]
    }
   ],
   "source": [
    "oracle_train_all_errors = []\n",
    "oracle_train_all = lg.LgSegmentModel(xs,ys,ss,'train-all',k) \n",
    "svm_train_all = lg.UserDefineModel(xs,ys,dy,ss,'train-all') # using the default value \n",
    "test_xs,test_ys,test_ss = digits.generate_additional_data (tasks, oracle_train_all, svm_train_all,3)\n",
    "\"\"\"\n",
    "for j in range(train_iter):\n",
    "    oracle_train_all.train_all_fs()\n",
    "    oracle_train_all.train_ws()\n",
    "oracle_err = lg.seg_model_error_01(oracle_train_all, test_xs, test_ys, test_ss, num=20)\n",
    "oracle_train_all_errors.append(oracle_err)\n",
    "#oracle_mtl_errors.append(oracle_err)\n",
    "print \"Initial Error OracleMTL---Train All: %f\" % oracle_err\n",
    "\"\"\"\n",
    "svm_train_all.train_all_fs()\n",
    "svm_train_all.train_ws()\n",
    "svm_err = lg.seg_model_error_01(svm_train_all,test_xs,test_ys,test_ss)\n",
    "print 'Initial Error SVM_mtl---Train All: ', svm_err\n",
    "svm_train_all_errors = [svm_err]"
   ]
  },
  {
   "cell_type": "code",
   "execution_count": 252,
   "metadata": {
    "collapsed": false
   },
   "outputs": [
    {
     "data": {
      "text/plain": [
       "2000"
      ]
     },
     "execution_count": 252,
     "metadata": {},
     "output_type": "execute_result"
    }
   ],
   "source": [
    "len(svm_train_all.xs)"
   ]
  },
  {
   "cell_type": "code",
   "execution_count": 392,
   "metadata": {
    "collapsed": false
   },
   "outputs": [],
   "source": [
    "svm_train_all.xs += svm_retrain_new.xs[2000:]\n",
    "svm_train_all.ys += svm_retrain_new.ys[2000:]\n",
    "svm_train_all.ss += svm_retrain_new.ss[2000:]\n",
    "svm_train_all.digitys += svm_retrain_new.digitys[2000:]\n",
    "segment = svm_train_all.segments\n",
    "seg = svm_retrain_new.segments\n",
    "for s in segment:\n",
    "    segment[s].xs += seg[s].xs[20:]\n",
    "    segment[s].ys += seg[s].ys[20:]\n",
    "    segment[s].pref = seg[s].pref"
   ]
  },
  {
   "cell_type": "code",
   "execution_count": 254,
   "metadata": {
    "collapsed": false
   },
   "outputs": [
    {
     "data": {
      "text/plain": [
       "70"
      ]
     },
     "execution_count": 254,
     "metadata": {},
     "output_type": "execute_result"
    }
   ],
   "source": [
    "len(svm_train_all.segments[0].xs)"
   ]
  },
  {
   "cell_type": "code",
   "execution_count": 105,
   "metadata": {
    "collapsed": true
   },
   "outputs": [],
   "source": [
    "test_xss,test_yss,test_tss = digits.generate_data_concept_drift(Z, train_y, oracle_train_all,svm_train_all,'partial')"
   ]
  },
  {
   "cell_type": "code",
   "execution_count": 106,
   "metadata": {
    "collapsed": true
   },
   "outputs": [],
   "source": [
    "test_xss1,test_yss1,test_tss1 = digits.generate_data_concept_drift(Z, train_y, oracle_train_all,svm_train_all,'partial')"
   ]
  },
  {
   "cell_type": "code",
   "execution_count": 393,
   "metadata": {
    "collapsed": false
   },
   "outputs": [
    {
     "name": "stdout",
     "output_type": "stream",
     "text": [
      "# of points is  20\n",
      "start training ws!\n",
      "ws: feature_time (s): 0.192356, train_time (s): 0.040924\n",
      "0.096\n",
      "# of points is  21\n",
      "start training ws!\n",
      "ws: feature_time (s): 0.200549, train_time (s): 0.052286\n",
      "0.09925\n",
      "# of points is  22\n",
      "start training ws!\n",
      "ws: feature_time (s): 0.173927, train_time (s): 0.036047\n",
      "0.0985\n",
      "# of points is  23\n",
      "start training ws!\n",
      "ws: feature_time (s): 0.173898, train_time (s): 0.036458\n",
      "0.09775\n",
      "# of points is  24\n",
      "start training ws!\n",
      "ws: feature_time (s): 0.177861, train_time (s): 0.037117\n",
      "0.09675\n",
      "# of points is  25\n",
      "start training ws!\n",
      "ws: feature_time (s): 0.179112, train_time (s): 0.040130\n",
      "0.09775\n",
      "# of points is  26\n",
      "start training ws!\n",
      "ws: feature_time (s): 0.183827, train_time (s): 0.039073\n",
      "0.097\n",
      "# of points is  27\n",
      "start training ws!\n",
      "ws: feature_time (s): 0.210510, train_time (s): 0.044712\n",
      "0.10125\n",
      "# of points is  28\n",
      "start training ws!\n",
      "ws: feature_time (s): 0.185452, train_time (s): 0.043208\n",
      "0.10575\n",
      "# of points is  29\n",
      "start training ws!\n",
      "ws: feature_time (s): 0.172356, train_time (s): 0.038902\n",
      "0.10675\n",
      "# of points is  30\n",
      "start training ws!\n",
      "ws: feature_time (s): 0.210188, train_time (s): 0.045399\n",
      "0.10625\n",
      "# of points is  31\n",
      "start training ws!\n",
      "ws: feature_time (s): 0.180673, train_time (s): 0.043177\n",
      "0.1045\n",
      "# of points is  32\n",
      "start training ws!\n",
      "ws: feature_time (s): 0.179581, train_time (s): 0.040597\n",
      "0.10425\n",
      "# of points is  33\n",
      "start training ws!\n",
      "ws: feature_time (s): 0.251736, train_time (s): 0.050166\n",
      "0.10175\n",
      "# of points is  34\n",
      "start training ws!\n",
      "ws: feature_time (s): 0.224924, train_time (s): 0.049048\n",
      "0.10325\n",
      "# of points is  35\n",
      "start training ws!\n",
      "ws: feature_time (s): 0.166191, train_time (s): 0.037412\n",
      "0.10425\n",
      "# of points is  36\n",
      "start training ws!\n",
      "ws: feature_time (s): 0.169405, train_time (s): 0.039273\n",
      "0.1045\n",
      "# of points is  37\n",
      "start training ws!\n",
      "ws: feature_time (s): 0.201008, train_time (s): 0.049225\n",
      "0.1065\n",
      "# of points is  38\n",
      "start training ws!\n",
      "ws: feature_time (s): 0.178937, train_time (s): 0.046716\n",
      "0.10575\n",
      "# of points is  39\n",
      "start training ws!\n",
      "ws: feature_time (s): 0.169565, train_time (s): 0.039888\n",
      "0.10375\n",
      "# of points is  40\n",
      "start training ws!\n",
      "ws: feature_time (s): 0.169081, train_time (s): 0.043268\n",
      "0.1035\n",
      "# of points is  41\n",
      "start training ws!\n",
      "ws: feature_time (s): 0.177016, train_time (s): 0.044128\n",
      "0.1045\n",
      "# of points is  42\n",
      "start training ws!\n",
      "ws: feature_time (s): 0.188537, train_time (s): 0.049158\n",
      "0.10675\n",
      "# of points is  43\n",
      "start training ws!\n",
      "ws: feature_time (s): 0.177255, train_time (s): 0.042852\n",
      "0.10725\n",
      "# of points is  44\n",
      "start training ws!\n",
      "ws: feature_time (s): 0.216929, train_time (s): 0.064623\n",
      "0.105\n",
      "# of points is  45\n",
      "start training ws!\n",
      "ws: feature_time (s): 0.239434, train_time (s): 0.057047\n",
      "0.10575\n",
      "# of points is  46\n",
      "start training ws!\n",
      "ws: feature_time (s): 0.238455, train_time (s): 0.057092\n",
      "0.10625\n",
      "# of points is  47\n",
      "start training ws!\n",
      "ws: feature_time (s): 0.174875, train_time (s): 0.045334\n",
      "0.10425\n",
      "# of points is  48\n",
      "start training ws!\n",
      "ws: feature_time (s): 0.250670, train_time (s): 0.065964\n",
      "0.105\n",
      "# of points is  49\n",
      "start training ws!\n",
      "ws: feature_time (s): 0.212408, train_time (s): 0.055417\n",
      "0.10575\n",
      "# of points is  50\n",
      "start training ws!\n",
      "ws: feature_time (s): 0.180179, train_time (s): 0.046090\n",
      "0.10325\n",
      "# of points is  51\n",
      "start training ws!\n",
      "ws: feature_time (s): 0.176584, train_time (s): 0.045147\n",
      "0.1025\n",
      "# of points is  52\n",
      "start training ws!\n",
      "ws: feature_time (s): 0.257715, train_time (s): 0.061090\n",
      "0.10275\n",
      "# of points is  53\n",
      "start training ws!\n",
      "ws: feature_time (s): 0.233293, train_time (s): 0.060941\n",
      "0.10375\n",
      "# of points is  54\n",
      "start training ws!\n",
      "ws: feature_time (s): 0.238796, train_time (s): 0.057864\n",
      "0.105\n",
      "# of points is  55\n",
      "start training ws!\n",
      "ws: feature_time (s): 0.166752, train_time (s): 0.045940\n",
      "0.10575\n",
      "# of points is  56\n",
      "start training ws!\n",
      "ws: feature_time (s): 0.223797, train_time (s): 0.056667\n",
      "0.10425\n",
      "# of points is  57\n",
      "start training ws!\n",
      "ws: feature_time (s): 0.365355, train_time (s): 0.083952\n",
      "0.10275\n",
      "# of points is  58\n",
      "start training ws!\n",
      "ws: feature_time (s): 0.176654, train_time (s): 0.046928\n",
      "0.1015\n",
      "# of points is  59\n",
      "start training ws!\n",
      "ws: feature_time (s): 0.175347, train_time (s): 0.047448\n",
      "0.1035\n",
      "# of points is  60\n",
      "start training ws!\n",
      "ws: feature_time (s): 0.223600, train_time (s): 0.056351\n",
      "0.10475\n",
      "# of points is  61\n",
      "start training ws!\n",
      "ws: feature_time (s): 0.164007, train_time (s): 0.044952\n",
      "0.104\n",
      "# of points is  62\n",
      "start training ws!\n",
      "ws: feature_time (s): 0.162348, train_time (s): 0.044735\n",
      "0.10275\n",
      "# of points is  63\n",
      "start training ws!\n",
      "ws: feature_time (s): 0.156726, train_time (s): 0.043350\n",
      "0.1015\n",
      "# of points is  64\n",
      "start training ws!\n",
      "ws: feature_time (s): 0.156111, train_time (s): 0.042841\n",
      "0.10125\n",
      "# of points is  65\n",
      "start training ws!\n",
      "ws: feature_time (s): 0.222919, train_time (s): 0.058627\n",
      "0.10275\n",
      "# of points is  66\n",
      "start training ws!\n",
      "ws: feature_time (s): 0.266025, train_time (s): 0.078466\n",
      "0.1005\n",
      "# of points is  67\n",
      "start training ws!\n",
      "ws: feature_time (s): 0.186073, train_time (s): 0.052145\n",
      "0.10025\n",
      "# of points is  68\n",
      "start training ws!\n",
      "ws: feature_time (s): 0.264032, train_time (s): 0.078904\n",
      "0.099\n",
      "# of points is  69\n",
      "start training ws!\n",
      "ws: feature_time (s): 0.182647, train_time (s): 0.052984\n",
      "0.09825\n"
     ]
    }
   ],
   "source": [
    "for i in range(50):\n",
    "    i+=20\n",
    "    print '# of points is ', i\n",
    "    svm_train_all.train_ws(i)\n",
    "    if i<45:\n",
    "        svm_err = lg.seg_model_error_01(svm_train_all,test_xss,test_yss,test_tss)\n",
    "    else:\n",
    "        svm_err = lg.seg_model_error_01(svm_train_all,test_xss1,test_yss1,test_tss1)\n",
    "    print svm_err\n",
    "    svm_train_all_errors.append(svm_err)"
   ]
  },
  {
   "cell_type": "code",
   "execution_count": 394,
   "metadata": {
    "collapsed": false
   },
   "outputs": [
    {
     "data": {
      "image/png": "[encoded data removed]",
      "text/plain": [
       "<matplotlib.figure.Figure at 0x108f62710>"
      ]
     },
     "metadata": {},
     "output_type": "display_data"
    }
   ],
   "source": [
    "plt.plot(iters,svm_train_all_errors)\n",
    "plt.show()"
   ]
  },
  {
   "cell_type": "code",
   "execution_count": null,
   "metadata": {
    "collapsed": true
   },
   "outputs": [],
   "source": []
  },
  {
   "cell_type": "markdown",
   "metadata": {},
   "source": [
    "# Average Weight"
   ]
  },
  {
   "cell_type": "code",
   "execution_count": 395,
   "metadata": {
    "collapsed": true
   },
   "outputs": [],
   "source": [
    "### Partial Concept Drift \n",
    "\n",
    "####### Initialization ##########\n",
    "#tasks = digits.create_mtl_datasets(Z, train_y, nTasks=100, taskSize=20, testSize=40)\n",
    "#xs,ys,dy,ss,test_xs,test_ys,test_dy,test_ts = digits.generate_data(tasks)\n",
    "xs = []\n",
    "ys = []\n",
    "dy = []\n",
    "ss = []\n",
    "k = 20\n",
    "k_svm = 10\n",
    "train_iter = 2"
   ]
  },
  {
   "cell_type": "code",
   "execution_count": 396,
   "metadata": {
    "collapsed": false
   },
   "outputs": [
    {
     "name": "stdout",
     "output_type": "stream",
     "text": [
      "TOTALS: fit time: 9.675183\n",
      "start training ws!\n",
      "ws: feature_time (s): 0.044744, train_time (s): 0.025598\n",
      "Initial Error SVM_mtl---Train All:  0.09725\n"
     ]
    }
   ],
   "source": [
    "## strategy: average-weight\n",
    "oracle_average_weight_errors = []\n",
    "oracle_average_weight = lg.LgSegmentModel(xs,ys,ss,'train-all',k) \n",
    "svm_average_weight = lg.UserDefineModel(xs,ys,dy,ss,'train-all') # using the default value \n",
    "test_xs,test_ys,test_ss = digits.generate_additional_data (tasks, oracle_average_weight, svm_average_weight,3)\n",
    "\"\"\"\n",
    "for j in range(train_iter):\n",
    "    oracle_average_weight.train_all_fs()\n",
    "    oracle_average_weight.train_ws()\n",
    "oracle_average_weight.strategy = 'average-weight'    \n",
    "\"\"\"\n",
    "svm_average_weight.train_all_fs()\n",
    "svm_average_weight.train_ws()\n",
    "svm_average_weight_errors = []\n",
    "svm_average_weight.strategy = 'average-weight'\n",
    "\"\"\"\n",
    "oracle_err = lg.seg_model_error_01(oracle_average_weight, test_xs, test_ys, test_ss, num=20)\n",
    "oracle_retrain_new_errors.append(oracle_err)\n",
    "\"\"\"\n",
    "svm_err = lg.seg_model_error_01(svm_average_weight,test_xs,test_ys,test_ss)\n",
    "svm_average_weight_errors.append(svm_err)\n",
    "#print \"Initial Error OracleMTL---Train All: %f\" % oracle_err\n",
    "print 'Initial Error SVM_mtl---Train All: ', svm_err\n"
   ]
  },
  {
   "cell_type": "code",
   "execution_count": 397,
   "metadata": {
    "collapsed": true
   },
   "outputs": [],
   "source": [
    "svm_average_weight.xs += svm_retrain_new.xs[2000:]\n",
    "svm_average_weight.ys += svm_retrain_new.ys[2000:]\n",
    "svm_average_weight.ss += svm_retrain_new.ss[2000:]\n",
    "svm_average_weight.digitys += svm_retrain_new.digitys[2000:]\n",
    "segment = svm_average_weight.segments\n",
    "seg = svm_retrain_new.segments\n",
    "for s in segment:\n",
    "    segment[s].xs += seg[s].xs[20:]\n",
    "    segment[s].ys += seg[s].ys[20:]\n",
    "    segment[s].pref = seg[s].pref"
   ]
  },
  {
   "cell_type": "code",
   "execution_count": 234,
   "metadata": {
    "collapsed": true
   },
   "outputs": [],
   "source": [
    "test_xss,test_yss,test_tss = digits.generate_data_concept_drift(Z, train_y, oracle_average_weight,svm_average_weight,'partial')"
   ]
  },
  {
   "cell_type": "code",
   "execution_count": 235,
   "metadata": {
    "collapsed": true
   },
   "outputs": [],
   "source": [
    "test_xss1,test_yss1,test_tss1 = digits.generate_data_concept_drift(Z, train_y, oracle_average_weight,svm_average_weight,'partial')"
   ]
  },
  {
   "cell_type": "code",
   "execution_count": 398,
   "metadata": {
    "collapsed": false,
    "scrolled": true
   },
   "outputs": [
    {
     "name": "stdout",
     "output_type": "stream",
     "text": [
      "points is i 20\n",
      "start training ws!\n",
      "ws: feature_time (s): 0.201141, train_time (s): 0.043417\n",
      "0.096\n",
      "points is i 21\n",
      "start training ws!\n",
      "ws: feature_time (s): 0.200181, train_time (s): 0.046603\n",
      "0.09725\n",
      "points is i 22\n",
      "start training ws!\n",
      "ws: feature_time (s): 0.185905, train_time (s): 0.041949\n",
      "0.10025\n",
      "points is i 23\n",
      "start training ws!\n",
      "ws: feature_time (s): 0.176851, train_time (s): 0.038481\n",
      "0.1045\n",
      "points is i 24\n",
      "start training ws!\n",
      "ws: feature_time (s): 0.185529, train_time (s): 0.039189\n",
      "0.104\n",
      "points is i 25\n",
      "start training ws!\n",
      "ws: feature_time (s): 0.177550, train_time (s): 0.040445\n",
      "0.1055\n",
      "points is i 26\n",
      "start training ws!\n",
      "ws: feature_time (s): 0.183245, train_time (s): 0.042208\n",
      "0.108\n",
      "points is i 27\n",
      "start training ws!\n",
      "ws: feature_time (s): 0.195307, train_time (s): 0.041869\n",
      "0.10925\n",
      "points is i 28\n",
      "start training ws!\n",
      "ws: feature_time (s): 0.184652, train_time (s): 0.039267\n",
      "0.113\n",
      "points is i 29\n",
      "start training ws!\n",
      "ws: feature_time (s): 0.191429, train_time (s): 0.041052\n",
      "0.11675\n",
      "points is i 30\n",
      "start training ws!\n",
      "ws: feature_time (s): 0.171991, train_time (s): 0.043030\n",
      "0.11475\n",
      "points is i 31\n",
      "start training ws!\n",
      "ws: feature_time (s): 0.258148, train_time (s): 0.049151\n",
      "0.11925\n",
      "points is i 32\n",
      "start training ws!\n",
      "ws: feature_time (s): 0.178306, train_time (s): 0.040372\n",
      "0.11975\n",
      "points is i 33\n",
      "start training ws!\n",
      "ws: feature_time (s): 0.190934, train_time (s): 0.041383\n",
      "0.11975\n",
      "points is i 34\n",
      "start training ws!\n",
      "ws: feature_time (s): 0.169383, train_time (s): 0.038278\n",
      "0.1215\n",
      "points is i 35\n",
      "start training ws!\n",
      "ws: feature_time (s): 0.167671, train_time (s): 0.036512\n",
      "0.12425\n",
      "points is i 36\n",
      "start training ws!\n",
      "ws: feature_time (s): 0.347287, train_time (s): 0.060380\n",
      "0.12825\n",
      "points is i 37\n",
      "start training ws!\n",
      "ws: feature_time (s): 0.350202, train_time (s): 0.066562\n",
      "0.13475\n",
      "points is i 38\n",
      "start training ws!\n",
      "ws: feature_time (s): 0.180800, train_time (s): 0.046649\n",
      "0.13225\n",
      "points is i 39\n",
      "start training ws!\n",
      "ws: feature_time (s): 0.198235, train_time (s): 0.044401\n",
      "0.1285\n",
      "points is i 40\n",
      "start training ws!\n",
      "ws: feature_time (s): 0.233688, train_time (s): 0.048344\n",
      "0.12925\n",
      "points is i 41\n",
      "start training ws!\n",
      "ws: feature_time (s): 0.175188, train_time (s): 0.040840\n",
      "0.1285\n",
      "points is i 42\n",
      "start training ws!\n",
      "ws: feature_time (s): 0.211849, train_time (s): 0.045971\n",
      "0.12975\n",
      "points is i 43\n",
      "start training ws!\n",
      "ws: feature_time (s): 0.233342, train_time (s): 0.048015\n",
      "0.13225\n",
      "points is i 44\n",
      "start training ws!\n",
      "ws: feature_time (s): 0.169350, train_time (s): 0.036617\n",
      "0.133\n",
      "points is i 45\n",
      "start training ws!\n",
      "ws: feature_time (s): 0.171200, train_time (s): 0.038463\n",
      "0.13525\n",
      "points is i 46\n",
      "start training ws!\n",
      "ws: feature_time (s): 0.168824, train_time (s): 0.038710\n",
      "0.13575\n",
      "points is i 47\n",
      "start training ws!\n",
      "ws: feature_time (s): 0.184429, train_time (s): 0.038310\n",
      "0.1355\n",
      "points is i 48\n",
      "start training ws!\n",
      "ws: feature_time (s): 0.167896, train_time (s): 0.038297\n",
      "0.1325\n",
      "points is i 49\n",
      "start training ws!\n",
      "ws: feature_time (s): 0.178433, train_time (s): 0.041678\n",
      "0.13225\n",
      "points is i 50\n",
      "start training ws!\n",
      "ws: feature_time (s): 0.174226, train_time (s): 0.038257\n",
      "0.12875\n",
      "points is i 51\n",
      "start training ws!\n",
      "ws: feature_time (s): 0.175244, train_time (s): 0.039565\n",
      "0.12725\n",
      "points is i 52\n",
      "start training ws!\n",
      "ws: feature_time (s): 0.171187, train_time (s): 0.038235\n",
      "0.12875\n",
      "points is i 53\n",
      "start training ws!\n",
      "ws: feature_time (s): 0.176822, train_time (s): 0.039294\n",
      "0.129\n",
      "points is i 54\n",
      "start training ws!\n",
      "ws: feature_time (s): 0.175336, train_time (s): 0.039961\n",
      "0.131\n",
      "points is i 55\n",
      "start training ws!\n",
      "ws: feature_time (s): 0.174839, train_time (s): 0.038408\n",
      "0.129\n",
      "points is i 56\n",
      "start training ws!\n",
      "ws: feature_time (s): 0.176638, train_time (s): 0.041289\n",
      "0.12825\n",
      "points is i 57\n",
      "start training ws!\n",
      "ws: feature_time (s): 0.221898, train_time (s): 0.046108\n",
      "0.12625\n",
      "points is i 58\n",
      "start training ws!\n",
      "ws: feature_time (s): 0.177644, train_time (s): 0.037464\n",
      "0.1245\n",
      "points is i 59\n",
      "start training ws!\n",
      "ws: feature_time (s): 0.187558, train_time (s): 0.039863\n",
      "0.12575\n",
      "points is i 60\n",
      "start training ws!\n",
      "ws: feature_time (s): 0.169076, train_time (s): 0.037043\n",
      "0.13075\n",
      "points is i 61\n",
      "start training ws!\n",
      "ws: feature_time (s): 0.175625, train_time (s): 0.039524\n",
      "0.131\n",
      "points is i 62\n",
      "start training ws!\n",
      "ws: feature_time (s): 0.175581, train_time (s): 0.039590\n",
      "0.13175\n",
      "points is i 63\n",
      "start training ws!\n",
      "ws: feature_time (s): 0.190662, train_time (s): 0.041500\n",
      "0.13475\n",
      "points is i 64\n",
      "start training ws!\n",
      "ws: feature_time (s): 0.174197, train_time (s): 0.042214\n",
      "0.135\n",
      "points is i 65\n",
      "start training ws!\n",
      "ws: feature_time (s): 0.181508, train_time (s): 0.040938\n",
      "0.133\n",
      "points is i 66\n",
      "start training ws!\n",
      "ws: feature_time (s): 0.169265, train_time (s): 0.038690\n",
      "0.133\n",
      "points is i 67\n",
      "start training ws!\n",
      "ws: feature_time (s): 0.205405, train_time (s): 0.044488\n",
      "0.13275\n",
      "points is i 68\n",
      "start training ws!\n",
      "ws: feature_time (s): 0.180157, train_time (s): 0.040285\n",
      "0.131\n",
      "points is i 69\n",
      "start training ws!\n",
      "ws: feature_time (s): 0.283525, train_time (s): 0.068815\n",
      "0.126\n"
     ]
    }
   ],
   "source": [
    "for i in range(50):\n",
    "    i+=20\n",
    "    print '# of points is ', i\n",
    "    svm_average_weight.train_ws(i)\n",
    "    if i<45:\n",
    "        svm_err = lg.seg_model_error_01(svm_average_weight,test_xss,test_yss,test_tss)\n",
    "    else:\n",
    "        svm_err = lg.seg_model_error_01(svm_average_weight,test_xss1,test_yss1,test_tss1)\n",
    "    print svm_err\n",
    "    svm_average_weight_errors.append(svm_err)"
   ]
  },
  {
   "cell_type": "code",
   "execution_count": 399,
   "metadata": {
    "collapsed": false
   },
   "outputs": [
    {
     "data": {
      "image/png": "[encoded data removed]",
      "text/plain": [
       "<matplotlib.figure.Figure at 0x109ceebd0>"
      ]
     },
     "metadata": {},
     "output_type": "display_data"
    }
   ],
   "source": [
    "plt.plot(iters,svm_average_weight_errors)\n",
    "plt.show()"
   ]
  },
  {
   "cell_type": "code",
   "execution_count": 230,
   "metadata": {
    "collapsed": false
   },
   "outputs": [
    {
     "name": "stdout",
     "output_type": "stream",
     "text": [
      "start training ws!\n",
      "ws: feature_time (s): 0.218509, train_time (s): 0.053800\n"
     ]
    }
   ],
   "source": [
    "svm_average_weight.train_ws(30)"
   ]
  },
  {
   "cell_type": "markdown",
   "metadata": {},
   "source": [
    "# Last Point"
   ]
  },
  {
   "cell_type": "code",
   "execution_count": 400,
   "metadata": {
    "collapsed": true
   },
   "outputs": [],
   "source": [
    "### Partial Concept Drift \n",
    "\n",
    "####### Initialization ##########\n",
    "#tasks = digits.create_mtl_datasets(Z, train_y, nTasks=100, taskSize=20, testSize=40)\n",
    "#xs,ys,dy,ss,test_xs,test_ys,test_dy,test_ts = digits.generate_data(tasks)\n",
    "xs = []\n",
    "ys = []\n",
    "dy = []\n",
    "ss = []\n",
    "k = 20\n",
    "k_svm = 10\n",
    "train_iter = 2"
   ]
  },
  {
   "cell_type": "code",
   "execution_count": 401,
   "metadata": {
    "collapsed": false
   },
   "outputs": [
    {
     "name": "stdout",
     "output_type": "stream",
     "text": [
      "4000\n",
      "TOTALS: fit time: 9.301565\n",
      "start training ws!\n",
      "ws: feature_time (s): 0.045769, train_time (s): 0.025986\n",
      "Initial Error SVM_mtl---Train All:  0.09725\n"
     ]
    }
   ],
   "source": [
    "## strategy: last-point\n",
    "oracle_last_point_errors = []\n",
    "oracle_last_point = lg.LgSegmentModel(xs,ys,ss,'train-all',k)\n",
    "svm_last_point = lg.UserDefineModel(xs,ys,dy,ss,'train-all') # using the default value \n",
    "test_xs,test_ys,test_ss = digits.generate_additional_data (tasks, oracle_last_point, svm_last_point,3)\n",
    "print len(test_ss)\n",
    "\"\"\"\n",
    "for j in range(train_iter):\n",
    "    oracle_last_point.train_all_fs()\n",
    "    oracle_last_point.train_ws()\n",
    "oracle_last_point.strategy = 'last-point'    \n",
    "\"\"\"\n",
    "svm_last_point.train_all_fs()\n",
    "svm_last_point.train_ws()\n",
    "svm_last_point_errors = []\n",
    "svm_last_point.strategy = 'last-point'\n",
    "\n",
    "\"\"\"\n",
    "oracle_err = lg.seg_model_error_01(oracle_last_point, test_xs, test_ys, test_ss, num=20)\n",
    "oracle_retrain_new_errors.append(oracle_err)\n",
    "\"\"\"\n",
    "svm_err = lg.seg_model_error_01(svm_last_point,test_xs,test_ys,test_ss)\n",
    "svm_last_point_errors.append(svm_err)\n",
    "#print \"Initial Error OracleMTL---Train All: %f\" % oracle_err\n",
    "print 'Initial Error SVM_mtl---Train All: ', svm_err"
   ]
  },
  {
   "cell_type": "code",
   "execution_count": 402,
   "metadata": {
    "collapsed": true
   },
   "outputs": [],
   "source": [
    "svm_last_point.xs += svm_retrain_new.xs[2000:]\n",
    "svm_last_point.ys += svm_retrain_new.ys[2000:]\n",
    "svm_last_point.ss += svm_retrain_new.ss[2000:]\n",
    "svm_last_point.digitys += svm_retrain_new.digitys[2000:]\n",
    "segment = svm_last_point.segments\n",
    "seg = svm_retrain_new.segments\n",
    "for s in segment:\n",
    "    segment[s].xs += seg[s].xs[20:]\n",
    "    segment[s].ys += seg[s].ys[20:]\n",
    "    segment[s].pref = seg[s].pref"
   ]
  },
  {
   "cell_type": "code",
   "execution_count": 211,
   "metadata": {
    "collapsed": true
   },
   "outputs": [],
   "source": [
    "test_xss,test_yss,test_tss = digits.generate_data_concept_drift(Z, train_y, oracle_last_point,svm_last_point,'partial')"
   ]
  },
  {
   "cell_type": "code",
   "execution_count": 212,
   "metadata": {
    "collapsed": true
   },
   "outputs": [],
   "source": [
    "test_xss1,test_yss1,test_tss1 = digits.generate_data_concept_drift(Z, train_y, oracle_last_point,svm_last_point,'partial')"
   ]
  },
  {
   "cell_type": "code",
   "execution_count": 403,
   "metadata": {
    "collapsed": false
   },
   "outputs": [
    {
     "name": "stdout",
     "output_type": "stream",
     "text": [
      "points is i 20\n",
      "start training ws!\n",
      "ws: feature_time (s): 0.181730, train_time (s): 0.004314\n",
      "0.1525\n",
      "points is i 21\n",
      "start training ws!\n",
      "ws: feature_time (s): 0.180657, train_time (s): 0.004806\n",
      "0.1605\n",
      "points is i 22\n",
      "start training ws!\n",
      "ws: feature_time (s): 0.173987, train_time (s): 0.003580\n",
      "0.1785\n",
      "points is i 23\n",
      "start training ws!\n",
      "ws: feature_time (s): 0.197334, train_time (s): 0.005197\n",
      "0.19925\n",
      "points is i 24\n",
      "start training ws!\n",
      "ws: feature_time (s): 0.172641, train_time (s): 0.003988\n",
      "0.213\n",
      "points is i 25\n",
      "start training ws!\n",
      "ws: feature_time (s): 0.179014, train_time (s): 0.005083\n",
      "0.21575\n",
      "points is i 26\n",
      "start training ws!\n",
      "ws: feature_time (s): 0.250161, train_time (s): 0.005138\n",
      "0.22325\n",
      "points is i 27\n",
      "start training ws!\n",
      "ws: feature_time (s): 0.186051, train_time (s): 0.004261\n",
      "0.22375\n",
      "points is i 28\n",
      "start training ws!\n",
      "ws: feature_time (s): 0.173750, train_time (s): 0.003852\n",
      "0.24475\n",
      "points is i 29\n",
      "start training ws!\n",
      "ws: feature_time (s): 0.180186, train_time (s): 0.004390\n",
      "0.23025\n",
      "points is i 30\n",
      "start training ws!\n",
      "ws: feature_time (s): 0.169455, train_time (s): 0.004296\n",
      "0.24425\n",
      "points is i 31\n",
      "start training ws!\n",
      "ws: feature_time (s): 0.176339, train_time (s): 0.004202\n",
      "0.246\n",
      "points is i 32\n",
      "start training ws!\n",
      "ws: feature_time (s): 0.173715, train_time (s): 0.004301\n",
      "0.244\n",
      "points is i 33\n",
      "start training ws!\n",
      "ws: feature_time (s): 0.233562, train_time (s): 0.005147\n",
      "0.254\n",
      "points is i 34\n",
      "start training ws!\n",
      "ws: feature_time (s): 0.182038, train_time (s): 0.004826\n",
      "0.262\n",
      "points is i 35\n",
      "start training ws!\n",
      "ws: feature_time (s): 0.194704, train_time (s): 0.005415\n",
      "0.26175\n",
      "points is i 36\n",
      "start training ws!\n",
      "ws: feature_time (s): 0.208123, train_time (s): 0.004766\n",
      "0.2785\n",
      "points is i 37\n",
      "start training ws!\n",
      "ws: feature_time (s): 0.184621, train_time (s): 0.004221\n",
      "0.27275\n",
      "points is i 38\n",
      "start training ws!\n",
      "ws: feature_time (s): 0.189669, train_time (s): 0.005074\n",
      "0.2855\n",
      "points is i 39\n",
      "start training ws!\n",
      "ws: feature_time (s): 0.183065, train_time (s): 0.004775\n",
      "0.28425\n",
      "points is i 40\n",
      "start training ws!\n",
      "ws: feature_time (s): 0.174566, train_time (s): 0.004464\n",
      "0.27975\n",
      "points is i 41\n",
      "start training ws!\n",
      "ws: feature_time (s): 0.176875, train_time (s): 0.004062\n",
      "0.28975\n",
      "points is i 42\n",
      "start training ws!\n",
      "ws: feature_time (s): 0.175198, train_time (s): 0.004304\n",
      "0.2795\n",
      "points is i 43\n",
      "start training ws!\n",
      "ws: feature_time (s): 0.230564, train_time (s): 0.005554\n",
      "0.29825\n",
      "points is i 44\n",
      "start training ws!\n",
      "ws: feature_time (s): 0.238560, train_time (s): 0.007432\n",
      "0.29575\n",
      "points is i 45\n",
      "start training ws!\n",
      "ws: feature_time (s): 0.206580, train_time (s): 0.005035\n",
      "0.2925\n",
      "points is i 46\n",
      "start training ws!\n",
      "ws: feature_time (s): 0.181657, train_time (s): 0.004395\n",
      "0.299\n",
      "points is i 47\n",
      "start training ws!\n",
      "ws: feature_time (s): 0.174182, train_time (s): 0.003906\n",
      "0.30525\n",
      "points is i 48\n",
      "start training ws!\n",
      "ws: feature_time (s): 0.176455, train_time (s): 0.004099\n",
      "0.2995\n",
      "points is i 49\n",
      "start training ws!\n",
      "ws: feature_time (s): 0.224562, train_time (s): 0.005549\n",
      "0.306\n",
      "points is i 50\n",
      "start training ws!\n",
      "ws: feature_time (s): 0.181753, train_time (s): 0.004157\n",
      "0.30575\n",
      "points is i 51\n",
      "start training ws!\n",
      "ws: feature_time (s): 0.177336, train_time (s): 0.004222\n",
      "0.29975\n",
      "points is i 52\n",
      "start training ws!\n",
      "ws: feature_time (s): 0.257512, train_time (s): 0.005682\n",
      "0.30775\n",
      "points is i 53\n",
      "start training ws!\n",
      "ws: feature_time (s): 0.247635, train_time (s): 0.006684\n",
      "0.321\n",
      "points is i 54\n",
      "start training ws!\n",
      "ws: feature_time (s): 0.256434, train_time (s): 0.005481\n",
      "0.3165\n",
      "points is i 55\n",
      "start training ws!\n",
      "ws: feature_time (s): 0.277348, train_time (s): 0.007068\n",
      "0.32075\n",
      "points is i 56\n",
      "start training ws!\n",
      "ws: feature_time (s): 0.330766, train_time (s): 0.012701\n",
      "0.31625\n",
      "points is i 57\n",
      "start training ws!\n",
      "ws: feature_time (s): 0.205822, train_time (s): 0.004745\n",
      "0.326\n",
      "points is i 58\n",
      "start training ws!\n",
      "ws: feature_time (s): 0.201887, train_time (s): 0.004535\n",
      "0.34175\n",
      "points is i 59\n",
      "start training ws!\n",
      "ws: feature_time (s): 0.194629, train_time (s): 0.005372\n",
      "0.3295\n",
      "points is i 60\n",
      "start training ws!\n",
      "ws: feature_time (s): 0.175308, train_time (s): 0.004173\n",
      "0.3305\n",
      "points is i 61\n",
      "start training ws!\n",
      "ws: feature_time (s): 0.226660, train_time (s): 0.005605\n",
      "0.32875\n",
      "points is i 62\n",
      "start training ws!\n",
      "ws: feature_time (s): 0.183232, train_time (s): 0.004577\n",
      "0.3325\n",
      "points is i 63\n",
      "start training ws!\n",
      "ws: feature_time (s): 0.281891, train_time (s): 0.006175\n",
      "0.333\n",
      "points is i 64\n",
      "start training ws!\n",
      "ws: feature_time (s): 0.178125, train_time (s): 0.004261\n",
      "0.3265\n",
      "points is i 65\n",
      "start training ws!\n",
      "ws: feature_time (s): 0.202268, train_time (s): 0.004655\n",
      "0.332\n",
      "points is i 66\n",
      "start training ws!\n",
      "ws: feature_time (s): 0.174315, train_time (s): 0.004114\n",
      "0.335\n",
      "points is i 67\n",
      "start training ws!\n",
      "ws: feature_time (s): 0.261901, train_time (s): 0.006753\n",
      "0.33025\n",
      "points is i 68\n",
      "start training ws!\n",
      "ws: feature_time (s): 0.224194, train_time (s): 0.006257\n",
      "0.32025\n",
      "points is i 69\n",
      "start training ws!\n",
      "ws: feature_time (s): 0.307373, train_time (s): 0.006317\n",
      "0.31825\n"
     ]
    }
   ],
   "source": [
    "for i in range(50):\n",
    "    i+=20\n",
    "    print 'points is i', i\n",
    "    svm_last_point.train_ws(i)\n",
    "    if i<45:\n",
    "        svm_err = lg.seg_model_error_01(svm_last_point,test_xss,test_yss,test_tss)\n",
    "    else:\n",
    "        svm_err = lg.seg_model_error_01(svm_last_point,test_xss1,test_yss1,test_tss1)\n",
    "    print svm_err\n",
    "    svm_last_point_errors.append(svm_err)"
   ]
  },
  {
   "cell_type": "code",
   "execution_count": 404,
   "metadata": {
    "collapsed": false
   },
   "outputs": [
    {
     "data": {
      "image/png": "[encoded data removed]",
      "text/plain": [
       "<matplotlib.figure.Figure at 0x10c49b1d0>"
      ]
     },
     "metadata": {},
     "output_type": "display_data"
    }
   ],
   "source": [
    "plt.plot(iters,svm_last_point_errors)\n",
    "plt.show()"
   ]
  },
  {
   "cell_type": "code",
   "execution_count": 207,
   "metadata": {
    "collapsed": false
   },
   "outputs": [
    {
     "name": "stdout",
     "output_type": "stream",
     "text": [
      "0.30525\n"
     ]
    }
   ],
   "source": [
    "test_y = test_yss + test_yss1\n",
    "test_x = test_xss + test_xss1\n",
    "test_t = test_tss + test_tss1\n",
    "svm_err = lg.seg_model_error_01(svm_last_point,test_xss,test_yss,test_tss)\n",
    "print svm_err"
   ]
  },
  {
   "cell_type": "code",
   "execution_count": 214,
   "metadata": {
    "collapsed": false
   },
   "outputs": [
    {
     "data": {
      "text/plain": [
       "array([ -73.26229593,  -38.74546957, -159.86351126,  -78.36026822,\n",
       "        -31.00441489, -152.5344289 , -119.29978424,  -71.61610208,\n",
       "        -58.61061959,  -21.36368386])"
      ]
     },
     "execution_count": 214,
     "metadata": {},
     "output_type": "execute_result"
    }
   ],
   "source": [
    "svm_last_point.segments[0].ws"
   ]
  },
  {
   "cell_type": "code",
   "execution_count": 208,
   "metadata": {
    "collapsed": false
   },
   "outputs": [
    {
     "data": {
      "text/plain": [
       "array([ 13224.15503567,   8740.38368727,  -2459.64908903,  33445.90224465,\n",
       "        15663.45542369,  15577.57763764,  19718.17634   ,   5538.95911512,\n",
       "         2685.1676557 ,   6869.42426949])"
      ]
     },
     "execution_count": 208,
     "metadata": {},
     "output_type": "execute_result"
    }
   ],
   "source": [
    "svm_last_point.segments[0].ws"
   ]
  },
  {
   "cell_type": "code",
   "execution_count": null,
   "metadata": {
    "collapsed": true
   },
   "outputs": [],
   "source": []
  },
  {
   "cell_type": "markdown",
   "metadata": {},
   "source": [
    "# Gradient Step"
   ]
  },
  {
   "cell_type": "code",
   "execution_count": 405,
   "metadata": {
    "collapsed": true
   },
   "outputs": [],
   "source": [
    "### Partial Concept Drift \n",
    "\n",
    "####### Initialization ##########\n",
    "#tasks = digits.create_mtl_datasets(Z, train_y, nTasks=100, taskSize=20, testSize=40)\n",
    "#xs,ys,dy,ss,test_xs,test_ys,test_dy,test_ts = digits.generate_data(tasks)\n",
    "xs = []\n",
    "ys = []\n",
    "dy = []\n",
    "ss = []\n",
    "k = 20\n",
    "k_svm = 10\n",
    "train_iter = 2"
   ]
  },
  {
   "cell_type": "code",
   "execution_count": 406,
   "metadata": {
    "collapsed": false
   },
   "outputs": [
    {
     "name": "stdout",
     "output_type": "stream",
     "text": [
      "TOTALS: fit time: 10.321076\n",
      "start training ws!\n",
      "ws: feature_time (s): 0.057757, train_time (s): 0.030921\n",
      "Initial Error SVM_mtl---Train All:  0.09725\n"
     ]
    }
   ],
   "source": [
    "## strategy: Gradient-step\n",
    "oracle_gradient_step_errors = []\n",
    "oracle_gradient_step = lg.LgSegmentModel(xs,ys,ss,'train-all',k)\n",
    "svm_gradient_step = lg.UserDefineModel(xs,ys,dy,ss,'train-all') # using the default value \n",
    "test_xs,test_ys,test_ss = digits.generate_additional_data (tasks, oracle_gradient_step, svm_gradient_step,3)\n",
    "\"\"\"\n",
    "for j in range(train_iter):\n",
    "    oracle_gradient_step.train_all_fs()\n",
    "    oracle_gradient_step.train_ws()\n",
    "oracle_gradient_step.strategy = 'Gradient-step'    \n",
    "\"\"\"\n",
    "\n",
    "svm_gradient_step.train_all_fs()\n",
    "svm_gradient_step.train_ws()\n",
    "svm_gradient_step_errors = []\n",
    "svm_gradient_step.strategy = 'Gradient-step'\n",
    "\n",
    "\"\"\"\n",
    "oracle_err = lg.seg_model_error_01(oracle_gradient_step, test_xs, test_ys, test_ss, num=20)\n",
    "oracle_retrain_new_errors.append(oracle_err)\n",
    "\"\"\"\n",
    "svm_err = lg.seg_model_error_01(svm_gradient_step,test_xs,test_ys,test_ss)\n",
    "svm_gradient_step_errors.append(svm_err)\n",
    "#print \"Initial Error OracleMTL---Train All: %f\" % oracle_err\n",
    "print 'Initial Error SVM_mtl---Train All: ', svm_err\n"
   ]
  },
  {
   "cell_type": "code",
   "execution_count": 407,
   "metadata": {
    "collapsed": true
   },
   "outputs": [],
   "source": [
    "svm_gradient_step.xs += svm_retrain_new.xs[2000:]\n",
    "svm_gradient_step.ys += svm_retrain_new.ys[2000:]\n",
    "svm_gradient_step.ss += svm_retrain_new.ss[2000:]\n",
    "svm_gradient_step.digitys += svm_retrain_new.digitys[2000:]\n",
    "segment = svm_gradient_step.segments\n",
    "seg = svm_retrain_new.segments\n",
    "for s in segment:\n",
    "    segment[s].xs += seg[s].xs[20:]\n",
    "    segment[s].ys += seg[s].ys[20:]\n",
    "    segment[s].pref = seg[s].pref"
   ]
  },
  {
   "cell_type": "code",
   "execution_count": 88,
   "metadata": {
    "collapsed": true
   },
   "outputs": [],
   "source": [
    "test_xss,test_yss,test_tss = digits.generate_data_concept_drift(Z, train_y, oracle_gradient_step,svm_gradient_step,'partial')"
   ]
  },
  {
   "cell_type": "code",
   "execution_count": 158,
   "metadata": {
    "collapsed": true
   },
   "outputs": [],
   "source": [
    "test_xss1,test_yss1,test_tss1 = digits.generate_data_concept_drift(Z, train_y, oracle_gradient_step,svm_gradient_step,'partial')"
   ]
  },
  {
   "cell_type": "code",
   "execution_count": 408,
   "metadata": {
    "collapsed": false
   },
   "outputs": [
    {
     "name": "stdout",
     "output_type": "stream",
     "text": [
      "# of points is  20\n",
      "start training ws!\n",
      "ws: feature_time (s): 0.176931, train_time (s): 0.006017\n",
      "0.1015\n",
      "# of points is  21\n",
      "start training ws!\n",
      "ws: feature_time (s): 0.176042, train_time (s): 0.005605\n",
      "0.1045\n",
      "# of points is  22\n",
      "start training ws!\n",
      "ws: feature_time (s): 0.175147, train_time (s): 0.005800\n",
      "0.1075\n",
      "# of points is  23\n",
      "start training ws!\n",
      "ws: feature_time (s): 0.171444, train_time (s): 0.005656\n",
      "0.10975\n",
      "# of points is  24\n",
      "start training ws!\n",
      "ws: feature_time (s): 0.186417, train_time (s): 0.006242\n",
      "0.1115\n",
      "# of points is  25\n",
      "start training ws!\n",
      "ws: feature_time (s): 0.196894, train_time (s): 0.006149\n",
      "0.1145\n",
      "# of points is  26\n",
      "start training ws!\n",
      "ws: feature_time (s): 0.174335, train_time (s): 0.005698\n",
      "0.11775\n",
      "# of points is  27\n",
      "start training ws!\n",
      "ws: feature_time (s): 0.175351, train_time (s): 0.005790\n",
      "0.1195\n",
      "# of points is  28\n",
      "start training ws!\n",
      "ws: feature_time (s): 0.221249, train_time (s): 0.009387\n",
      "0.1225\n",
      "# of points is  29\n",
      "start training ws!\n",
      "ws: feature_time (s): 0.183111, train_time (s): 0.006205\n",
      "0.12575\n",
      "# of points is  30\n",
      "start training ws!\n",
      "ws: feature_time (s): 0.198181, train_time (s): 0.006586\n",
      "0.128\n",
      "# of points is  31\n",
      "start training ws!\n",
      "ws: feature_time (s): 0.174672, train_time (s): 0.005946\n",
      "0.12925\n",
      "# of points is  32\n",
      "start training ws!\n",
      "ws: feature_time (s): 0.178388, train_time (s): 0.007265\n",
      "0.133\n",
      "# of points is  33\n",
      "start training ws!\n",
      "ws: feature_time (s): 0.237697, train_time (s): 0.007190\n",
      "0.1345\n",
      "# of points is  34\n",
      "start training ws!\n",
      "ws: feature_time (s): 0.176657, train_time (s): 0.005301\n",
      "0.13725\n",
      "# of points is  35\n",
      "start training ws!\n",
      "ws: feature_time (s): 0.182804, train_time (s): 0.006552\n",
      "0.14075\n",
      "# of points is  36\n",
      "start training ws!\n",
      "ws: feature_time (s): 0.208122, train_time (s): 0.007771\n",
      "0.14125\n",
      "# of points is  37\n",
      "start training ws!\n",
      "ws: feature_time (s): 0.239394, train_time (s): 0.006953\n",
      "0.1445\n",
      "# of points is  38\n",
      "start training ws!\n",
      "ws: feature_time (s): 0.184136, train_time (s): 0.006605\n",
      "0.14675\n",
      "# of points is  39\n",
      "start training ws!\n",
      "ws: feature_time (s): 0.180751, train_time (s): 0.005935\n",
      "0.1505\n",
      "# of points is  40\n",
      "start training ws!\n",
      "ws: feature_time (s): 0.242269, train_time (s): 0.007422\n",
      "0.1505\n",
      "# of points is  41\n",
      "start training ws!\n",
      "ws: feature_time (s): 0.258842, train_time (s): 0.010038\n",
      "0.1525\n",
      "# of points is  42\n",
      "start training ws!\n",
      "ws: feature_time (s): 0.248269, train_time (s): 0.007553\n",
      "0.154\n",
      "# of points is  43\n",
      "start training ws!\n",
      "ws: feature_time (s): 0.212845, train_time (s): 0.007254\n",
      "0.15625\n",
      "# of points is  44\n",
      "start training ws!\n",
      "ws: feature_time (s): 0.183137, train_time (s): 0.006276\n",
      "0.159\n",
      "# of points is  45\n",
      "start training ws!\n",
      "ws: feature_time (s): 0.186865, train_time (s): 0.006964\n",
      "0.15675\n",
      "# of points is  46\n",
      "start training ws!\n",
      "ws: feature_time (s): 0.242751, train_time (s): 0.008629\n",
      "0.15625\n",
      "# of points is  47\n",
      "start training ws!\n",
      "ws: feature_time (s): 0.222032, train_time (s): 0.007664\n",
      "0.1575\n",
      "# of points is  48\n",
      "start training ws!\n",
      "ws: feature_time (s): 0.245659, train_time (s): 0.007502\n",
      "0.15925\n",
      "# of points is  49\n",
      "start training ws!\n",
      "ws: feature_time (s): 0.202149, train_time (s): 0.006912\n",
      "0.16025\n",
      "# of points is  50\n",
      "start training ws!\n",
      "ws: feature_time (s): 0.245278, train_time (s): 0.008370\n",
      "0.1615\n",
      "# of points is  51\n",
      "start training ws!\n",
      "ws: feature_time (s): 0.233291, train_time (s): 0.008866\n",
      "0.16325\n",
      "# of points is  52\n",
      "start training ws!\n",
      "ws: feature_time (s): 0.265344, train_time (s): 0.008436\n",
      "0.16625\n",
      "# of points is  53\n",
      "start training ws!\n",
      "ws: feature_time (s): 0.285070, train_time (s): 0.009564\n",
      "0.16625\n",
      "# of points is  54\n",
      "start training ws!\n",
      "ws: feature_time (s): 0.174974, train_time (s): 0.005932\n",
      "0.168\n",
      "# of points is  55\n",
      "start training ws!\n",
      "ws: feature_time (s): 0.324879, train_time (s): 0.014756\n",
      "0.16975\n",
      "# of points is  56\n",
      "start training ws!\n",
      "ws: feature_time (s): 0.336958, train_time (s): 0.011080\n",
      "0.1705\n",
      "# of points is  57\n",
      "start training ws!\n",
      "ws: feature_time (s): 0.256815, train_time (s): 0.008825\n",
      "0.17225\n",
      "# of points is  58\n",
      "start training ws!\n",
      "ws: feature_time (s): 0.315155, train_time (s): 0.017142\n",
      "0.17325\n",
      "# of points is  59\n",
      "start training ws!\n",
      "ws: feature_time (s): 0.207537, train_time (s): 0.007525\n",
      "0.1755\n",
      "# of points is  60\n",
      "start training ws!\n",
      "ws: feature_time (s): 0.203462, train_time (s): 0.006648\n",
      "0.176\n",
      "# of points is  61\n",
      "start training ws!\n",
      "ws: feature_time (s): 0.197419, train_time (s): 0.006784\n",
      "0.17725\n",
      "# of points is  62\n",
      "start training ws!\n",
      "ws: feature_time (s): 0.271038, train_time (s): 0.008495\n",
      "0.1785\n",
      "# of points is  63\n",
      "start training ws!\n",
      "ws: feature_time (s): 0.239824, train_time (s): 0.007676\n",
      "0.179\n",
      "# of points is  64\n",
      "start training ws!\n",
      "ws: feature_time (s): 0.270310, train_time (s): 0.008984\n",
      "0.1785\n",
      "# of points is  65\n",
      "start training ws!\n",
      "ws: feature_time (s): 0.287514, train_time (s): 0.016060\n",
      "0.1795\n",
      "# of points is  66\n",
      "start training ws!\n",
      "ws: feature_time (s): 0.177908, train_time (s): 0.005752\n",
      "0.17975\n",
      "# of points is  67\n",
      "start training ws!\n",
      "ws: feature_time (s): 0.185199, train_time (s): 0.006541\n",
      "0.18075\n",
      "# of points is  68\n",
      "start training ws!\n",
      "ws: feature_time (s): 0.186442, train_time (s): 0.006162\n",
      "0.18125\n",
      "# of points is  69\n",
      "start training ws!\n",
      "ws: feature_time (s): 0.265171, train_time (s): 0.008835\n",
      "0.18275\n"
     ]
    }
   ],
   "source": [
    "for i in range(50):\n",
    "    i+=20\n",
    "    print '# of points is ', i\n",
    "    #print svm_gradient_step.segments[0].ws\n",
    "    svm_gradient_step.train_ws(i)\n",
    "    if i <45:\n",
    "        svm_err = lg.seg_model_error_01(svm_gradient_step,test_xss,test_yss,test_tss)\n",
    "    else:\n",
    "        svm_err = lg.seg_model_error_01(svm_gradient_step,test_xss1,test_yss1,test_tss1)\n",
    "    print svm_err\n",
    "    svm_gradient_step_errors.append(svm_err)"
   ]
  },
  {
   "cell_type": "code",
   "execution_count": 409,
   "metadata": {
    "collapsed": false
   },
   "outputs": [
    {
     "data": {
      "image/png": "[encoded data removed]",
      "text/plain": [
       "<matplotlib.figure.Figure at 0x10d1d2e10>"
      ]
     },
     "metadata": {},
     "output_type": "display_data"
    }
   ],
   "source": [
    "plt.plot(iters,svm_gradient_step_errors)\n",
    "plt.show()"
   ]
  },
  {
   "cell_type": "code",
   "execution_count": null,
   "metadata": {
    "collapsed": true
   },
   "outputs": [],
   "source": []
  },
  {
   "cell_type": "markdown",
   "metadata": {},
   "source": [
    "# No Retrain"
   ]
  },
  {
   "cell_type": "code",
   "execution_count": 410,
   "metadata": {
    "collapsed": true
   },
   "outputs": [],
   "source": [
    "xs = []\n",
    "ys = []\n",
    "dy = []\n",
    "ss = []\n",
    "k = 20\n",
    "k_svm = 10\n",
    "train_iter = 2\n"
   ]
  },
  {
   "cell_type": "code",
   "execution_count": 411,
   "metadata": {
    "collapsed": false
   },
   "outputs": [
    {
     "name": "stdout",
     "output_type": "stream",
     "text": [
      "TOTALS: fit time: 9.748455\n",
      "start training ws!\n",
      "ws: feature_time (s): 0.065432, train_time (s): 0.035191\n",
      "Initial Error SVM_mtl---Train All:  0.09725\n"
     ]
    }
   ],
   "source": [
    "oracle_no_retrain_errors = []\n",
    "oracle_no_retrain = lg.LgSegmentModel(xs,ys,ss,'train-all',k)\n",
    "svm_no_retrain = lg.UserDefineModel(xs,ys,dy,ss,'train-all') # using the default value \n",
    "test_xs,test_ys,test_ss = digits.generate_additional_data (tasks, oracle_no_retrain, svm_no_retrain,3)\n",
    "\"\"\"\n",
    "for j in range(train_iter):\n",
    "    oracle_gradient_step.train_all_fs()\n",
    "    oracle_gradient_step.train_ws()\n",
    "oracle_gradient_step.strategy = 'Gradient-step'    \n",
    "\"\"\"\n",
    "\n",
    "svm_no_retrain.train_all_fs()\n",
    "svm_no_retrain.train_ws()\n",
    "svm_no_retrain_errors = []\n",
    "\n",
    "\n",
    "\"\"\"\n",
    "oracle_err = lg.seg_model_error_01(oracle_gradient_step, test_xs, test_ys, test_ss, num=20)\n",
    "oracle_retrain_new_errors.append(oracle_err)\n",
    "\"\"\"\n",
    "svm_err = lg.seg_model_error_01(svm_no_retrain,test_xs,test_ys,test_ss)\n",
    "svm_no_retrain_errors.append(svm_err)\n",
    "#print \"Initial Error OracleMTL---Train All: %f\" % oracle_err\n",
    "print 'Initial Error SVM_mtl---Train All: ', svm_err"
   ]
  },
  {
   "cell_type": "code",
   "execution_count": 412,
   "metadata": {
    "collapsed": true
   },
   "outputs": [],
   "source": [
    "svm_no_retrain.xs += svm_retrain_new.xs[2000:]\n",
    "svm_no_retrain.ys += svm_retrain_new.ys[2000:]\n",
    "svm_no_retrain.ss += svm_retrain_new.ss[2000:]\n",
    "svm_no_retrain.digitys += svm_retrain_new.digitys[2000:]\n",
    "segment = svm_no_retrain.segments\n",
    "seg = svm_retrain_new.segments\n",
    "for s in segment:\n",
    "    segment[s].xs += seg[s].xs[20:]\n",
    "    segment[s].ys += seg[s].ys[20:]\n",
    "    segment[s].pref = seg[s].pref"
   ]
  },
  {
   "cell_type": "code",
   "execution_count": 413,
   "metadata": {
    "collapsed": false
   },
   "outputs": [
    {
     "name": "stdout",
     "output_type": "stream",
     "text": [
      "# of points is  20\n",
      "0.096\n",
      "# of points is  21\n",
      "0.096\n",
      "# of points is  22\n",
      "0.096\n",
      "# of points is  23\n",
      "0.096\n",
      "# of points is  24\n",
      "0.096\n",
      "# of points is  25\n",
      "0.096\n",
      "# of points is  26\n",
      "0.096\n",
      "# of points is  27\n",
      "0.096\n",
      "# of points is  28\n",
      "0.096\n",
      "# of points is  29\n",
      "0.096\n",
      "# of points is  30\n",
      "0.096\n",
      "# of points is  31\n",
      "0.096\n",
      "# of points is  32\n",
      "0.096\n",
      "# of points is  33\n",
      "0.096\n",
      "# of points is  34\n",
      "0.096\n",
      "# of points is  35\n",
      "0.096\n",
      "# of points is  36\n",
      "0.096\n",
      "# of points is  37\n",
      "0.096\n",
      "# of points is  38\n",
      "0.096\n",
      "# of points is  39\n",
      "0.096\n",
      "# of points is  40\n",
      "0.096\n",
      "# of points is  41\n",
      "0.096\n",
      "# of points is  42\n",
      "0.096\n",
      "# of points is  43\n",
      "0.096\n",
      "# of points is  44\n",
      "0.096\n",
      "# of points is  45\n",
      "0.0925\n",
      "# of points is  46\n",
      "0.0925\n",
      "# of points is  47\n",
      "0.0925\n",
      "# of points is  48\n",
      "0.0925\n",
      "# of points is  49\n",
      "0.0925\n",
      "# of points is  50\n",
      "0.0925\n",
      "# of points is  51\n",
      "0.0925\n",
      "# of points is  52\n",
      "0.0925\n",
      "# of points is  53\n",
      "0.0925\n",
      "# of points is  54\n",
      "0.0925\n",
      "# of points is  55\n",
      "0.0925\n",
      "# of points is  56\n",
      "0.0925\n",
      "# of points is  57\n",
      "0.0925\n",
      "# of points is  58\n",
      "0.0925\n",
      "# of points is  59\n",
      "0.0925\n",
      "# of points is  60\n",
      "0.0925\n",
      "# of points is  61\n",
      "0.0925\n",
      "# of points is  62\n",
      "0.0925\n",
      "# of points is  63\n",
      "0.0925\n",
      "# of points is  64\n",
      "0.0925\n",
      "# of points is  65\n",
      "0.0925\n",
      "# of points is  66\n",
      "0.0925\n",
      "# of points is  67\n",
      "0.0925\n",
      "# of points is  68\n",
      "0.0925\n",
      "# of points is  69\n",
      "0.0925\n"
     ]
    }
   ],
   "source": [
    "for i in range(50):\n",
    "    i+=20\n",
    "    print '# of points is ', i\n",
    "    #print svm_gradient_step.segments[0].ws\n",
    "    #svm_gradient_step.train_ws(i)\n",
    "    if i <45:\n",
    "        svm_err = lg.seg_model_error_01(svm_no_retrain,test_xss,test_yss,test_tss)\n",
    "    else:\n",
    "        svm_err = lg.seg_model_error_01(svm_no_retrain,test_xss1,test_yss1,test_tss1)\n",
    "    print svm_err\n",
    "    svm_no_retrain_errors.append(svm_err)"
   ]
  },
  {
   "cell_type": "code",
   "execution_count": 414,
   "metadata": {
    "collapsed": false
   },
   "outputs": [
    {
     "data": {
      "image/png": "[encoded data removed]",
      "text/plain": [
       "<matplotlib.figure.Figure at 0x108e2b210>"
      ]
     },
     "metadata": {},
     "output_type": "display_data"
    }
   ],
   "source": [
    "plt.plot(iters,svm_no_retrain_errors)\n",
    "plt.show()"
   ]
  },
  {
   "cell_type": "code",
   "execution_count": null,
   "metadata": {
    "collapsed": true
   },
   "outputs": [],
   "source": []
  }
 ],
 "metadata": {
  "kernelspec": {
   "display_name": "Python 2",
   "language": "python",
   "name": "python2"
  },
  "language_info": {
   "codemirror_mode": {
    "name": "ipython",
    "version": 2
   },
   "file_extension": ".py",
   "mimetype": "text/x-python",
   "name": "python",
   "nbconvert_exporter": "python",
   "pygments_lexer": "ipython2",
   "version": "2.7.10"
  }
 },
 "nbformat": 4,
 "nbformat_minor": 0
}
