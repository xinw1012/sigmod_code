{
 "cells": [
  {
   "cell_type": "code",
   "execution_count": 1,
   "metadata": {
    "collapsed": false
   },
   "outputs": [],
   "source": [
    "%reload_ext autoreload\n",
    "%autoreload 2\n",
    "%matplotlib inline"
   ]
  },
  {
   "cell_type": "code",
   "execution_count": 2,
   "metadata": {
    "collapsed": true
   },
   "outputs": [],
   "source": [
    "import pandas as pd\n",
    "import numpy as np\n",
    "from sklearn import linear_model as lm\n",
    "import matplotlib.pylab as pylab\n",
    "import matplotlib.pyplot as plt\n",
    "import classification as lg\n",
    "import digit_class as digits\n",
    "#import digits_function as digitsfunc\n",
    "from datetime import datetime\n",
    "import time\n",
    "from sklearn import svm, ensemble"
   ]
  },
  {
   "cell_type": "code",
   "execution_count": 3,
   "metadata": {
    "collapsed": false
   },
   "outputs": [
    {
     "name": "stdout",
     "output_type": "stream",
     "text": [
      "Source file: /Users/xinw/Documents/projects/velox-centipede/data/mnist_train.csv\n",
      "Number of image files: 60000\n",
      "Source file: /Users/xinw/Documents/projects/velox-centipede/data/mnist_test.csv\n",
      "Number of image files: 10000\n"
     ]
    }
   ],
   "source": [
    "###### Load Data #################\n",
    "\n",
    "train_x, train_y = digits.load_digits(\"/Users/xinw/Documents/projects/velox-centipede/data\", digits_filename = \"mnist_train.csv\")\n",
    "Z = digits.normalize_digits(train_x)\n",
    "test_x, test_y = digits.load_digits(\"/Users/xinw/Documents/projects/velox-centipede/data\", digits_filename = \"mnist_test.csv\")\n",
    "test_Z = digits.normalize_digits(test_x)\n",
    "#Z = digits.fourier_project(train_x)\n"
   ]
  },
  {
   "cell_type": "code",
   "execution_count": 3,
   "metadata": {
    "collapsed": true
   },
   "outputs": [],
   "source": [
    "### Partial Concept Drift \n",
    "\n",
    "####### Initialization ##########\n",
    "tasks = digits.create_mtl_datasets(Z, train_y, nTasks=100, taskSize=20, testSize=40)\n",
    "#xs,ys,dy,ss,test_xs,test_ys,test_dy,test_ts = digits.generate_data(tasks)\n",
    "xs = []\n",
    "ys = []\n",
    "dy = []\n",
    "ss = []\n",
    "k = 20\n",
    "k_svm = 10\n",
    "train_iter = 2\n"
   ]
  },
  {
   "cell_type": "code",
   "execution_count": null,
   "metadata": {
    "collapsed": false
   },
   "outputs": [
    {
     "name": "stdout",
     "output_type": "stream",
     "text": [
      "TOTALS: fit time: 12.055393\n",
      "start training ws!\n",
      "ws: feature_time (s): 0.044092, train_time (s): 0.024299\n",
      "Initial Error SVM_mtl---Train All:  0.1135\n",
      "TOTALS: fit time: 22.912378\n",
      "start training ws!\n",
      "ws: feature_time (s): 0.102453, train_time (s): 0.041574"
     ]
    }
   ],
   "source": [
    "ntask = 20\n",
    "## Strategy: Train All data\n",
    "oracle_train_all_errors = []\n",
    "oracle_train_all = lg.LgSegmentModel(xs,ys,ss,'train-all',k) \n",
    "svm_train_all = lg.UserDefineModel(xs,ys,dy,ss,'train-all') # using the default value \n",
    "test_xs,test_ys,test_ss = digits.generate_additional_data (tasks, oracle_train_all, svm_train_all,3)\n",
    "\"\"\"\n",
    "for j in range(train_iter):\n",
    "    oracle_train_all.train_all_fs()\n",
    "    oracle_train_all.train_ws()\n",
    "oracle_err = lg.seg_model_error_01(oracle_train_all, test_xs, test_ys, test_ss, num=20)\n",
    "oracle_train_all_errors.append(oracle_err)\n",
    "#oracle_mtl_errors.append(oracle_err)\n",
    "print \"Initial Error OracleMTL---Train All: %f\" % oracle_err\n",
    "\"\"\"\n",
    "svm_train_all.train_all_fs()\n",
    "svm_train_all.train_ws()\n",
    "svm_err = lg.seg_model_error_01(svm_train_all,test_xs,test_ys,test_ss)\n",
    "print 'Initial Error SVM_mtl---Train All: ', svm_err\n",
    "svm_train_all_errors = []\n",
    "\n",
    "\n",
    "## strategy: retrain-new\n",
    "oracle_retrain_new_errors = []\n",
    "oracle_retrain_new = lg.LgSegmentModel(xs,ys,ss,'train-all',k)\n",
    "svm_retrain_new = lg.UserDefineModel(xs,ys,dy,ss,'train-all') # using the default value \n",
    "test_xs,test_ys,test_ss = digits.generate_additional_data (tasks, oracle_retrain_new, svm_retrain_new,3)\n",
    "\"\"\"\n",
    "for j in range(train_iter):\n",
    "    oracle_retrain_new.train_all_fs()\n",
    "    oracle_retrain_new.train_ws()\n",
    "oracle_retrain_new.strategy = 'retrain-new'    \n",
    "\"\"\"\n",
    "svm_retrain_new.train_all_fs()\n",
    "svm_retrain_new.train_ws()\n",
    "svm_retrain_new_errors = []\n",
    "svm_retrain_new.strategy = 'retrain-new'\n",
    "\"\"\"\n",
    "oracle_err = lg.seg_model_error_01(oracle_retrain_new, test_xs, test_ys, test_ss, num=20)\n",
    "oracle_retrain_new_errors.append(oracle_err)\n",
    "\"\"\"\n",
    "svm_err = lg.seg_model_error_01(svm_retrain_new,test_xs,test_ys,test_ss)\n",
    "#svm_retrain_new_errors.append(svm_err)\n",
    "#print \"Initial Error OracleMTL---Train All: %f\" % oracle_err\n",
    "print 'Initial Error SVM_mtl---Train All: ', svm_err\n",
    "\n",
    "\n",
    "\n",
    "## strategy: average-weight\n",
    "oracle_average_weight_errors = []\n",
    "oracle_average_weight = lg.LgSegmentModel(xs,ys,ss,'train-all',k) \n",
    "svm_average_weight = lg.UserDefineModel(xs,ys,dy,ss,'train-all') # using the default value \n",
    "test_xs,test_ys,test_ss = digits.generate_additional_data (tasks, oracle_average_weight, svm_average_weight,3)\n",
    "\"\"\"\n",
    "for j in range(train_iter):\n",
    "    oracle_average_weight.train_all_fs()\n",
    "    oracle_average_weight.train_ws()\n",
    "oracle_average_weight.strategy = 'average-weight'    \n",
    "\"\"\"\n",
    "svm_average_weight.train_all_fs()\n",
    "svm_average_weight.train_ws()\n",
    "svm_average_weight_errors = []\n",
    "svm_average_weight.strategy = 'average-weight'\n",
    "\"\"\"\n",
    "oracle_err = lg.seg_model_error_01(oracle_average_weight, test_xs, test_ys, test_ss, num=20)\n",
    "oracle_retrain_new_errors.append(oracle_err)\n",
    "\"\"\"\n",
    "svm_err = lg.seg_model_error_01(svm_average_weight,test_xs,test_ys,test_ss)\n",
    "#svm_average_weight_errors.append(svm_err)\n",
    "#print \"Initial Error OracleMTL---Train All: %f\" % oracle_err\n",
    "print 'Initial Error SVM_mtl---Train All: ', svm_err\n",
    "\n",
    "## strategy: last-point\n",
    "oracle_last_point_errors = []\n",
    "oracle_last_point = lg.LgSegmentModel(xs,ys,ss,'train-all',k)\n",
    "svm_last_point = lg.UserDefineModel(xs,ys,dy,ss,'train-all') # using the default value \n",
    "test_xs,test_ys,test_ss = digits.generate_additional_data (tasks, oracle_last_point, svm_last_point,3)\n",
    "print len(test_ss)\n",
    "\"\"\"\n",
    "for j in range(train_iter):\n",
    "    oracle_last_point.train_all_fs()\n",
    "    oracle_last_point.train_ws()\n",
    "oracle_last_point.strategy = 'last-point'    \n",
    "\"\"\"\n",
    "svm_last_point.train_all_fs()\n",
    "svm_last_point.train_ws()\n",
    "svm_last_point_errors = []\n",
    "svm_last_point.strategy = 'last-point'\n",
    "\n",
    "\"\"\"\n",
    "oracle_err = lg.seg_model_error_01(oracle_last_point, test_xs, test_ys, test_ss, num=20)\n",
    "oracle_retrain_new_errors.append(oracle_err)\n",
    "\"\"\"\n",
    "svm_err = lg.seg_model_error_01(svm_last_point,test_xs,test_ys,test_ss)\n",
    "#svm_last_point_errors.append(svm_err)\n",
    "#print \"Initial Error OracleMTL---Train All: %f\" % oracle_err\n",
    "print 'Initial Error SVM_mtl---Train All: ', svm_err\n",
    "\n",
    "\n",
    "## strategy: Gradient-step\n",
    "oracle_gradient_step_errors = []\n",
    "oracle_gradient_step = lg.LgSegmentModel(xs,ys,ss,'train-all',k)\n",
    "svm_gradient_step = lg.UserDefineModel(xs,ys,dy,ss,'train-all') # using the default value \n",
    "test_xs,test_ys,test_ss = digits.generate_additional_data (tasks, oracle_gradient_step, svm_gradient_step,3)\n",
    "\"\"\"\n",
    "for j in range(train_iter):\n",
    "    oracle_gradient_step.train_all_fs()\n",
    "    oracle_gradient_step.train_ws()\n",
    "oracle_gradient_step.strategy = 'Gradient-step'    \n",
    "\"\"\"\n",
    "\n",
    "svm_gradient_step.train_all_fs()\n",
    "svm_gradient_step.train_ws()\n",
    "svm_gradient_step_errors = []\n",
    "svm_gradient_step.strategy = 'Gradient-step'\n",
    "\n",
    "\"\"\"\n",
    "oracle_err = lg.seg_model_error_01(oracle_gradient_step, test_xs, test_ys, test_ss, num=20)\n",
    "oracle_retrain_new_errors.append(oracle_err)\n",
    "\"\"\"\n",
    "svm_err = lg.seg_model_error_01(svm_gradient_step,test_xs,test_ys,test_ss)\n",
    "#svm_gradient_step_errors.append(svm_err)\n",
    "#print \"Initial Error OracleMTL---Train All: %f\" % oracle_err\n",
    "print 'Initial Error SVM_mtl---Train All: ', svm_err\n",
    "\n",
    "print '\\n\\n Finish Initialization!'\n"
   ]
  },
  {
   "cell_type": "code",
   "execution_count": 6,
   "metadata": {
    "collapsed": false
   },
   "outputs": [
    {
     "name": "stdout",
     "output_type": "stream",
     "text": [
      "4000\n"
     ]
    }
   ],
   "source": [
    "print len(test_xs)"
   ]
  },
  {
   "cell_type": "code",
   "execution_count": null,
   "metadata": {
    "collapsed": true
   },
   "outputs": [],
   "source": []
  },
  {
   "cell_type": "code",
   "execution_count": 7,
   "metadata": {
    "collapsed": false
   },
   "outputs": [],
   "source": [
    "test_xa = list(test_xs)\n",
    "test_ya = list(test_ys)\n",
    "test_ta = list(test_ss)"
   ]
  },
  {
   "cell_type": "code",
   "execution_count": 53,
   "metadata": {
    "collapsed": false
   },
   "outputs": [
    {
     "name": "stderr",
     "output_type": "stream",
     "text": [
      "digit_class.py:447: FutureWarning: comparison to `None` will result in an elementwise object comparison in the future.\n",
      "  perm = np.random.permutation(len(y)) # shuffle dataset\n"
     ]
    }
   ],
   "source": [
    "test_xs1,test_ys1,test_ts1 = digits.generate_data_concept_drift(Z, train_y, oracle_train_all,svm_train_all,i,'partial')\n",
    "test_xs2,test_ys2,test_ts2 = digits.generate_data_concept_drift(Z, train_y, oracle_retrain_new,svm_retrain_new,i,'partial')\n",
    "test_xs3,test_ys3,test_ts3 = digits.generate_data_concept_drift(Z, train_y, oracle_average_weight,svm_average_weight,i,'partial')\n",
    "test_xs4,test_ys4,test_ts4 = digits.generate_data_concept_drift(Z, train_y, oracle_last_point,svm_last_point,i,'partial')\n",
    "test_xs5,test_ys5,test_ts5 = digits.generate_data_concept_drift(Z, train_y, oracle_gradient_step,svm_gradient_step,i,'partial')\n"
   ]
  },
  {
   "cell_type": "code",
   "execution_count": 56,
   "metadata": {
    "collapsed": false
   },
   "outputs": [
    {
     "data": {
      "text/plain": [
       "40"
      ]
     },
     "execution_count": 56,
     "metadata": {},
     "output_type": "execute_result"
    }
   ],
   "source": [
    "len(svm_train_all.segments[0].ys)"
   ]
  },
  {
   "cell_type": "code",
   "execution_count": 57,
   "metadata": {
    "collapsed": false,
    "scrolled": true
   },
   "outputs": [
    {
     "name": "stdout",
     "output_type": "stream",
     "text": [
      "update-strategy: # of points:  20\n",
      "start training ws!\n",
      "ws: feature_time (s): 0.119688, train_time (s): 0.053971\n",
      "Testing Error of svm model-- train-all is  0.22125\n",
      "start training ws!\n",
      "ws: feature_time (s): 0.146294, train_time (s): 0.043099\n",
      "Testing Error of svm model-- retrain_new is  0.52375\n",
      "start training ws!\n",
      "ws: feature_time (s): 0.197951, train_time (s): 0.048806\n",
      "Testing Error of svm model-- average_weight is  0.4965\n",
      "start training ws!\n",
      "ws: feature_time (s): 0.198691, train_time (s): 0.003562\n",
      "Testing Error of svm model-- last_point is  0.48725\n",
      "start training ws!\n",
      "ws: feature_time (s): 0.234908, train_time (s): 0.005531\n",
      "Testing Error of svm model-- gradient_step is  0.49825\n",
      "update-strategy: # of points:  21\n",
      "start training ws!\n",
      "ws: feature_time (s): 0.146569, train_time (s): 0.057529\n",
      "Testing Error of svm model-- train-all is  0.22125\n",
      "start training ws!\n",
      "ws: feature_time (s): 0.173383, train_time (s): 0.046046\n",
      "Testing Error of svm model-- retrain_new is  0.52375\n",
      "start training ws!\n",
      "ws: feature_time (s): 0.251173, train_time (s): 0.056695\n",
      "Testing Error of svm model-- average_weight is  0.4965\n",
      "start training ws!\n",
      "ws: feature_time (s): 0.229166, train_time (s): 0.004182\n",
      "Testing Error of svm model-- last_point is  0.48725\n",
      "start training ws!\n",
      "ws: feature_time (s): 0.237183, train_time (s): 0.005428\n",
      "Testing Error of svm model-- gradient_step is  0.49825\n",
      "update-strategy: # of points:  22\n",
      "start training ws!\n",
      "ws: feature_time (s): 0.137048, train_time (s): 0.058554\n",
      "Testing Error of svm model-- train-all is  0.22125\n",
      "start training ws!\n",
      "ws: feature_time (s): 0.254669, train_time (s): 0.062596\n",
      "Testing Error of svm model-- retrain_new is  0.52375\n",
      "start training ws!\n",
      "ws: feature_time (s): 0.250346, train_time (s): 0.061245\n",
      "Testing Error of svm model-- average_weight is  0.4965\n",
      "start training ws!\n",
      "ws: feature_time (s): 0.186321, train_time (s): 0.003402\n",
      "Testing Error of svm model-- last_point is  0.48725\n",
      "start training ws!\n",
      "ws: feature_time (s): 0.224804, train_time (s): 0.005248\n",
      "Testing Error of svm model-- gradient_step is  0.49825\n",
      "update-strategy: # of points:  23\n",
      "start training ws!\n",
      "ws: feature_time (s): 0.096072, train_time (s): 0.037350\n",
      "Testing Error of svm model-- train-all is  0.22125\n",
      "start training ws!\n",
      "ws: feature_time (s): 0.117376, train_time (s): 0.034436\n",
      "Testing Error of svm model-- retrain_new is  0.52375\n",
      "start training ws!\n",
      "ws: feature_time (s): 0.145909, train_time (s): 0.039777\n",
      "Testing Error of svm model-- average_weight is  0.4965\n",
      "start training ws!\n",
      "ws: feature_time (s): 0.187774, train_time (s): 0.003532\n",
      "Testing Error of svm model-- last_point is  0.48725\n",
      "start training ws!\n",
      "ws: feature_time (s): 0.205325, train_time (s): 0.004661\n",
      "Testing Error of svm model-- gradient_step is  0.49825\n",
      "update-strategy: # of points:  24\n",
      "start training ws!\n",
      "ws: feature_time (s): 0.087069, train_time (s): 0.035421\n",
      "Testing Error of svm model-- train-all is  0.22125\n",
      "start training ws!\n",
      "ws: feature_time (s): 0.118372, train_time (s): 0.036176\n",
      "Testing Error of svm model-- retrain_new is  0.52375\n",
      "start training ws!\n",
      "ws: feature_time (s): 0.148135, train_time (s): 0.040265\n",
      "Testing Error of svm model-- average_weight is  0.4965\n",
      "start training ws!\n",
      "ws: feature_time (s): 0.169802, train_time (s): 0.002882\n",
      "Testing Error of svm model-- last_point is  0.48725\n",
      "start training ws!\n",
      "ws: feature_time (s): 0.211243, train_time (s): 0.005229\n",
      "Testing Error of svm model-- gradient_step is  0.49825\n",
      "update-strategy: # of points:  25\n",
      "start training ws!\n",
      "ws: feature_time (s): 0.143789, train_time (s): 0.057376\n",
      "Testing Error of svm model-- train-all is  0.22125\n",
      "start training ws!\n",
      "ws: feature_time (s): 0.128852, train_time (s): 0.039720\n",
      "Testing Error of svm model-- retrain_new is  0.52375\n",
      "start training ws!\n",
      "ws: feature_time (s): 0.150814, train_time (s): 0.040579\n",
      "Testing Error of svm model-- average_weight is  0.4965\n",
      "start training ws!\n",
      "ws: feature_time (s): 0.265895, train_time (s): 0.005132\n",
      "Testing Error of svm model-- last_point is  0.48725\n",
      "start training ws!\n",
      "ws: feature_time (s): 0.372044, train_time (s): 0.009109\n",
      "Testing Error of svm model-- gradient_step is  0.49825\n",
      "update-strategy: # of points:  26\n",
      "start training ws!\n",
      "ws: feature_time (s): 0.162918, train_time (s): 0.070490\n",
      "Testing Error of svm model-- train-all is  0.22125\n",
      "start training ws!\n",
      "ws: feature_time (s): 0.128089, train_time (s): 0.037870\n",
      "Testing Error of svm model-- retrain_new is  0.52375\n",
      "start training ws!\n",
      "ws: feature_time (s): 0.147450, train_time (s): 0.038199\n",
      "Testing Error of svm model-- average_weight is  0.4965\n",
      "start training ws!\n",
      "ws: feature_time (s): 0.180020, train_time (s): 0.003279\n",
      "Testing Error of svm model-- last_point is  0.48725\n",
      "start training ws!\n",
      "ws: feature_time (s): 0.278637, train_time (s): 0.006244\n",
      "Testing Error of svm model-- gradient_step is  0.49825\n",
      "update-strategy: # of points:  27\n",
      "start training ws!\n",
      "ws: feature_time (s): 0.093307, train_time (s): 0.038037\n",
      "Testing Error of svm model-- train-all is  0.22125\n",
      "start training ws!\n",
      "ws: feature_time (s): 0.141163, train_time (s): 0.043934\n",
      "Testing Error of svm model-- retrain_new is  0.52375\n",
      "start training ws!\n",
      "ws: feature_time (s): 0.302268, train_time (s): 0.066543\n",
      "Testing Error of svm model-- average_weight is  0.4965\n",
      "start training ws!\n",
      "ws: feature_time (s): 0.194773, train_time (s): 0.003569\n",
      "Testing Error of svm model-- last_point is  0.48725\n",
      "start training ws!\n",
      "ws: feature_time (s): 0.292657, train_time (s): 0.005951\n",
      "Testing Error of svm model-- gradient_step is  0.49825\n",
      "update-strategy: # of points:  28\n",
      "start training ws!\n",
      "ws: feature_time (s): 0.154003, train_time (s): 0.064654\n",
      "Testing Error of svm model-- train-all is  0.22125\n",
      "start training ws!\n",
      "ws: feature_time (s): 0.218181, train_time (s): 0.062439\n",
      "Testing Error of svm model-- retrain_new is  0.52375\n",
      "start training ws!\n",
      "ws: feature_time (s): 0.152876, train_time (s): 0.038306\n",
      "Testing Error of svm model-- average_weight is  0.4965\n",
      "start training ws!\n",
      "ws: feature_time (s): 0.195665, train_time (s): 0.004066\n",
      "Testing Error of svm model-- last_point is  0.48725\n",
      "start training ws!\n",
      "ws: feature_time (s): 0.236944, train_time (s): 0.005629\n",
      "Testing Error of svm model-- gradient_step is  0.49825\n",
      "update-strategy: # of points:  29\n",
      "start training ws!\n",
      "ws: feature_time (s): 0.104244, train_time (s): 0.041400\n",
      "Testing Error of svm model-- train-all is  0.22125\n",
      "start training ws!\n",
      "ws: feature_time (s): 0.261568, train_time (s): 0.068149\n",
      "Testing Error of svm model-- retrain_new is  0.52375\n",
      "start training ws!\n",
      "ws: feature_time (s): 0.195587, train_time (s): 0.047641\n",
      "Testing Error of svm model-- average_weight is  0.4965\n",
      "start training ws!\n",
      "ws: feature_time (s): 0.191803, train_time (s): 0.003762\n",
      "Testing Error of svm model-- last_point is  0.48725\n",
      "start training ws!\n",
      "ws: feature_time (s): 0.215244, train_time (s): 0.005006\n",
      "Testing Error of svm model-- gradient_step is  0.49825\n",
      "update-strategy: # of points:  30\n",
      "start training ws!\n",
      "ws: feature_time (s): 0.094178, train_time (s): 0.038696\n",
      "Testing Error of svm model-- train-all is  0.22125\n",
      "start training ws!\n",
      "ws: feature_time (s): 0.170722, train_time (s): 0.051354\n",
      "Testing Error of svm model-- retrain_new is  0.52375\n",
      "start training ws!\n",
      "ws: feature_time (s): 0.160788, train_time (s): 0.039544\n",
      "Testing Error of svm model-- average_weight is  0.4965\n",
      "start training ws!\n",
      "ws: feature_time (s): 0.192588, train_time (s): 0.003699\n",
      "Testing Error of svm model-- last_point is  0.48725\n",
      "start training ws!\n",
      "ws: feature_time (s): 0.346967, train_time (s): 0.008640\n",
      "Testing Error of svm model-- gradient_step is  0.49825\n",
      "update-strategy: # of points:  31\n",
      "start training ws!\n",
      "ws: feature_time (s): 0.155172, train_time (s): 0.066312\n",
      "Testing Error of svm model-- train-all is  0.22125\n",
      "start training ws!\n",
      "ws: feature_time (s): 0.239496, train_time (s): 0.080301\n",
      "Testing Error of svm model-- retrain_new is  0.52375\n",
      "start training ws!\n",
      "ws: feature_time (s): 0.156412, train_time (s): 0.038888\n",
      "Testing Error of svm model-- average_weight is  0.4965\n",
      "start training ws!\n",
      "ws: feature_time (s): 0.362343, train_time (s): 0.006444\n",
      "Testing Error of svm model-- last_point is  0.48725\n",
      "start training ws!\n",
      "ws: feature_time (s): 0.332999, train_time (s): 0.006878\n",
      "Testing Error of svm model-- gradient_step is  0.49825\n",
      "update-strategy: # of points:  32\n",
      "start training ws!\n",
      "ws: feature_time (s): 0.209804, train_time (s): 0.086970\n",
      "Testing Error of svm model-- train-all is  0.22125\n",
      "start training ws!\n",
      "ws: feature_time (s): 0.258189, train_time (s): 0.067956\n",
      "Testing Error of svm model-- retrain_new is  0.52375\n",
      "start training ws!\n",
      "ws: feature_time (s): 0.218431, train_time (s): 0.048187\n",
      "Testing Error of svm model-- average_weight is  0.4965\n",
      "start training ws!\n",
      "ws: feature_time (s): 0.307455, train_time (s): 0.004338\n",
      "Testing Error of svm model-- last_point is  0.48725\n",
      "start training ws!\n",
      "ws: feature_time (s): 0.243475, train_time (s): 0.005291\n",
      "Testing Error of svm model-- gradient_step is  0.49825\n",
      "update-strategy: # of points:  33\n",
      "start training ws!\n",
      "ws: feature_time (s): 0.097048, train_time (s): 0.038443\n",
      "Testing Error of svm model-- train-all is  0.22125\n",
      "start training ws!\n",
      "ws: feature_time (s): 0.147090, train_time (s): 0.038999\n",
      "Testing Error of svm model-- retrain_new is  0.52375\n",
      "start training ws!\n",
      "ws: feature_time (s): 0.149870, train_time (s): 0.040414\n",
      "Testing Error of svm model-- average_weight is  0.4965\n",
      "start training ws!\n",
      "ws: feature_time (s): 0.192846, train_time (s): 0.003584\n",
      "Testing Error of svm model-- last_point is  0.48725\n",
      "start training ws!\n",
      "ws: feature_time (s): 0.250458, train_time (s): 0.006372\n",
      "Testing Error of svm model-- gradient_step is  0.49825\n",
      "update-strategy: # of points:  34\n",
      "start training ws!\n",
      "ws: feature_time (s): 0.109414, train_time (s): 0.051952\n",
      "Testing Error of svm model-- train-all is  0.22125\n",
      "start training ws!\n",
      "ws: feature_time (s): 0.123580, train_time (s): 0.037809\n",
      "Testing Error of svm model-- retrain_new is  0.52375\n",
      "start training ws!\n",
      "ws: feature_time (s): 0.214040, train_time (s): 0.053119\n",
      "Testing Error of svm model-- average_weight is  0.4965\n",
      "start training ws!\n",
      "ws: feature_time (s): 0.191100, train_time (s): 0.006435\n",
      "Testing Error of svm model-- last_point is  0.48725\n",
      "start training ws!\n",
      "ws: feature_time (s): 0.255850, train_time (s): 0.005609\n",
      "Testing Error of svm model-- gradient_step is  0.49825\n",
      "update-strategy: # of points:  35\n",
      "start training ws!\n",
      "ws: feature_time (s): 0.094576, train_time (s): 0.038075\n",
      "Testing Error of svm model-- train-all is  0.22125\n",
      "start training ws!\n",
      "ws: feature_time (s): 0.240271, train_time (s): 0.063981\n",
      "Testing Error of svm model-- retrain_new is  0.52375\n",
      "start training ws!\n",
      "ws: feature_time (s): 0.242344, train_time (s): 0.056580\n",
      "Testing Error of svm model-- average_weight is  0.4965\n",
      "start training ws!\n",
      "ws: feature_time (s): 0.220164, train_time (s): 0.005372\n",
      "Testing Error of svm model-- last_point is  0.48725\n",
      "start training ws!\n",
      "ws: feature_time (s): 0.247298, train_time (s): 0.005836\n",
      "Testing Error of svm model-- gradient_step is  0.49825\n",
      "update-strategy: # of points:  36\n",
      "start training ws!\n",
      "ws: feature_time (s): 0.202907, train_time (s): 0.083328\n",
      "Testing Error of svm model-- train-all is  0.22125\n",
      "start training ws!\n",
      "ws: feature_time (s): 0.130360, train_time (s): 0.037548\n",
      "Testing Error of svm model-- retrain_new is  0.52375\n",
      "start training ws!\n",
      "ws: feature_time (s): 0.200648, train_time (s): 0.044501\n",
      "Testing Error of svm model-- average_weight is  0.4965\n",
      "start training ws!\n",
      "ws: feature_time (s): 0.209840, train_time (s): 0.004403\n",
      "Testing Error of svm model-- last_point is  0.48725\n",
      "start training ws!\n",
      "ws: feature_time (s): 0.279137, train_time (s): 0.006971\n",
      "Testing Error of svm model-- gradient_step is  0.49825\n",
      "update-strategy: # of points:  37\n",
      "start training ws!\n",
      "ws: feature_time (s): 0.093443, train_time (s): 0.037509\n",
      "Testing Error of svm model-- train-all is  0.22125\n",
      "start training ws!\n",
      "ws: feature_time (s): 0.136848, train_time (s): 0.039250\n",
      "Testing Error of svm model-- retrain_new is  0.52375\n",
      "start training ws!\n",
      "ws: feature_time (s): 0.176717, train_time (s): 0.041501\n",
      "Testing Error of svm model-- average_weight is  0.4965\n",
      "start training ws!\n",
      "ws: feature_time (s): 0.243398, train_time (s): 0.004051\n",
      "Testing Error of svm model-- last_point is  0.48725\n",
      "start training ws!\n",
      "ws: feature_time (s): 0.349299, train_time (s): 0.007933\n",
      "Testing Error of svm model-- gradient_step is  0.49825\n",
      "update-strategy: # of points:  38\n",
      "start training ws!\n",
      "ws: feature_time (s): 0.179758, train_time (s): 0.073665\n",
      "Testing Error of svm model-- train-all is  0.22125\n",
      "start training ws!\n",
      "ws: feature_time (s): 0.127063, train_time (s): 0.038333\n",
      "Testing Error of svm model-- retrain_new is  0.52375\n",
      "start training ws!\n",
      "ws: feature_time (s): 0.148057, train_time (s): 0.037665\n",
      "Testing Error of svm model-- average_weight is  0.4965\n",
      "start training ws!\n",
      "ws: feature_time (s): 0.176425, train_time (s): 0.003255\n",
      "Testing Error of svm model-- last_point is  0.48725\n",
      "start training ws!\n",
      "ws: feature_time (s): 0.233331, train_time (s): 0.005277\n",
      "Testing Error of svm model-- gradient_step is  0.49825\n",
      "update-strategy: # of points:  39\n",
      "start training ws!\n",
      "ws: feature_time (s): 0.093388, train_time (s): 0.037802\n",
      "Testing Error of svm model-- train-all is  0.22125\n",
      "start training ws!\n",
      "ws: feature_time (s): 0.203158, train_time (s): 0.060350\n",
      "Testing Error of svm model-- retrain_new is  0.52375\n",
      "start training ws!\n",
      "ws: feature_time (s): 0.332747, train_time (s): 0.068575\n",
      "Testing Error of svm model-- average_weight is  0.4965\n",
      "start training ws!\n",
      "ws: feature_time (s): 0.189968, train_time (s): 0.003475\n",
      "Testing Error of svm model-- last_point is  0.48725\n",
      "start training ws!\n",
      "ws: feature_time (s): 0.227593, train_time (s): 0.005580\n",
      "Testing Error of svm model-- gradient_step is  0.49825\n"
     ]
    }
   ],
   "source": [
    "\n",
    "####### Update Strategy Experiment #################\n",
    "# number of points range from 20-200, step = 10\n",
    "\n",
    "\n",
    "iters = [i+20 for i in range(20)]\n",
    "for i in iters:\n",
    "    print 'update-strategy: # of points: ', i\n",
    "    ## oracle\n",
    "    \"\"\"\n",
    "    oracle_train_all.train_ws()\n",
    "    oracle_err = lg.seg_model_error_01(oracle_train_all, test_xs, test_ys, test_ts, num=20)\n",
    "    oracle_train_all_errors.append(oracle_err)\n",
    "    print 'Testing Error of oracle model-- train-all is ', oracle_err\n",
    "\n",
    "    oracle_retrain_new.train_ws()\n",
    "    oracle_err = lg.seg_model_error_01(oracle_retrain_new, test_xs, test_ys, test_ts, num=20)\n",
    "    oracle_retrain_new_errors.append(oracle_err)\n",
    "    print 'Testing Error of oracle model-- retrain_new is ', oracle_err\n",
    "\n",
    "    oracle_average_weight.train_ws()\n",
    "    oracle_err = lg.seg_model_error_01(oracle_average_weight, test_xs, test_ys, test_ts, num=20)\n",
    "    oracle_average_weight_errors.append(oracle_err)\n",
    "    print 'Testing Error of oracle model-- average_weight is ', oracle_err\n",
    "    \n",
    "    oracle_last_point.train_ws()\n",
    "    oracle_err = lg.seg_model_error_01(oracle_last_point, test_xs, test_ys, test_ts, num=20)\n",
    "    oracle_last_point_errors.append(oracle_err)\n",
    "    print 'Testing Error of oracle model-- last_point is ', oracle_err\n",
    "    \n",
    "    oracle_gradient_step.train_ws()\n",
    "    oracle_err = lg.seg_model_error_01(oracle_gradient_step, test_xs, test_ys, test_ts, num=20)\n",
    "    oracle_gradient_step_errors.append(oracle_err)\n",
    "    print 'Testing Error of oracle model-- gradient_step is ', oracle_err    \n",
    "    \"\"\"\n",
    "    ### svm\n",
    "    \n",
    "    svm_train_all.train_ws(i)\n",
    "    svm_err = lg.seg_model_error_01(svm_train_all, test_xs1, test_ys1, test_ts1)\n",
    "    svm_train_all_errors.append(svm_err)\n",
    "    print 'Testing Error of svm model-- train-all is ', svm_err\n",
    "    \n",
    "    \n",
    "    svm_retrain_new.train_ws(i)\n",
    "    svm_err = lg.seg_model_error_01(svm_retrain_new, test_xs2, test_ys2, test_ts2)\n",
    "    svm_retrain_new_errors.append(svm_err)\n",
    "    print 'Testing Error of svm model-- retrain_new is ', svm_err\n",
    "    \n",
    "    \n",
    "    svm_average_weight.train_ws(i)\n",
    "    svm_err = lg.seg_model_error_01(svm_average_weight, test_xs3, test_ys3, test_ts3)\n",
    "    svm_average_weight_errors.append(svm_err)\n",
    "    print 'Testing Error of svm model-- average_weight is ', svm_err\n",
    "    \n",
    "    svm_last_point.train_ws(i)\n",
    "    svm_err = lg.seg_model_error_01(svm_last_point, test_xs4, test_ys4, test_ts4)\n",
    "    svm_last_point_errors.append(svm_err)\n",
    "    print 'Testing Error of svm model-- last_point is ', svm_err\n",
    "    \n",
    "    \n",
    "    svm_gradient_step.train_ws(i)\n",
    "    svm_err = lg.seg_model_error_01(svm_gradient_step, test_xs5, test_ys5, test_ts5)\n",
    "    svm_gradient_step_errors.append(svm_err)\n",
    "    print 'Testing Error of svm model-- gradient_step is ', svm_err  \n",
    "\n",
    " "
   ]
  },
  {
   "cell_type": "code",
   "execution_count": 58,
   "metadata": {
    "collapsed": true
   },
   "outputs": [],
   "source": [
    "iters = [20]+iters"
   ]
  },
  {
   "cell_type": "code",
   "execution_count": 14,
   "metadata": {
    "collapsed": false
   },
   "outputs": [
    {
     "name": "stdout",
     "output_type": "stream",
     "text": [
      "[20, 21, 22, 23, 24, 25, 26, 27, 28, 29, 30, 31, 32, 33, 34, 35, 36, 37, 38, 39, 40, 41, 42, 43, 44, 45, 46, 47, 48, 49, 50]\n"
     ]
    }
   ],
   "source": [
    "print iters"
   ]
  },
  {
   "cell_type": "code",
   "execution_count": 22,
   "metadata": {
    "collapsed": false
   },
   "outputs": [
    {
     "name": "stdout",
     "output_type": "stream",
     "text": [
      "31\n",
      "31\n"
     ]
    }
   ],
   "source": [
    "print len(iters)\n",
    "del svm_retrain_new_errors[1]\n",
    "del svm_retrain_new_errors[2]\n",
    "del svm_retrain_new_errors[3]\n",
    "print len(svm_retrain_new_errors)"
   ]
  },
  {
   "cell_type": "code",
   "execution_count": 375,
   "metadata": {
    "collapsed": false
   },
   "outputs": [],
   "source": [
    "\n",
    "## Write Files ###\n",
    "\n",
    "f = open('update-strategy-experiment-partial-concept-drift.txt','w')\n",
    "#f = open('update-strategy-experiment-total-concept-drift.txt','w')\n",
    "#f = open('update-strategy-experiment-stationery-distribution.txt','w')\n",
    "f.write('strategy: train-all\\n')\n",
    "\"\"\"\n",
    "f.write('Oracle Model:\\n')\n",
    "f.write('# of points:')\n",
    "for i in iters:\n",
    "    f.write('\\t'+str(i))\n",
    "f.write('\\n\\t')     \n",
    "\n",
    "for t in oracle_train_all_errors:\n",
    "    f.write('\\t'+str(t))\n",
    "\"\"\"    \n",
    "f.write('SVM Model:\\n# of points:')\n",
    "for i in iters:\n",
    "    f.write('\\t'+str(i))\n",
    "f.write('\\n')  \n",
    "for t in svm_train_all_errors:\n",
    "    f.write('\\t'+str(t))\n",
    "f.write('\\n\\n')\n",
    "\n",
    "f.write('strategy: retrain_new\\n')\n",
    "\"\"\"\n",
    "f.write('Oracle Model:\\n')\n",
    "f.write('# of points:')\n",
    "for i in iters:\n",
    "    f.write('\\t'+str(i))\n",
    "f.write('\\n\\t')     \n",
    "\n",
    "for t in oracle_retrain_new_errors:\n",
    "    f.write('\\t'+str(t))\n",
    "\"\"\"\n",
    "    \n",
    "f.write('SVM Model:\\n# of points:')\n",
    "for i in iters:\n",
    "    f.write('\\t'+str(i))\n",
    "f.write('\\n')  \n",
    "for t in svm_retrain_new_errors:\n",
    "    f.write('\\t'+str(t))\n",
    "f.write('\\n\\n')\n",
    "\n",
    "\n",
    "f.write('strategy: average_weight\\n')\n",
    "\n",
    "\"\"\"\n",
    "f.write('Oracle Model:\\n')\n",
    "f.write('# of points:')\n",
    "for i in iters:\n",
    "    f.write('\\t'+str(i))\n",
    "f.write('\\n\\t')     \n",
    "\n",
    "for t in oracle_average_weight_errors:\n",
    "    f.write('\\t'+str(t))\n",
    "\"\"\"    \n",
    "    \n",
    "f.write('\\n\\nSVM Model:\\n# of points:')\n",
    "for i in iters:\n",
    "    f.write('\\t'+str(i))\n",
    "f.write('\\n')  \n",
    "for t in svm_average_weight_errors:\n",
    "    f.write('\\t'+str(t))\n",
    "f.write('\\n\\n')\n",
    "\n",
    "f.write('strategy: last_point\\n')\n",
    "\"\"\"\n",
    "f.write('Oracle Model:\\n')\n",
    "f.write('# of points:')\n",
    "for i in iters:\n",
    "    f.write('\\t'+str(i))\n",
    "f.write('\\n\\t')     \n",
    "\n",
    "for t in oracle_last_point_errors:\n",
    "    f.write('\\t'+str(t))\n",
    "\"\"\"    \n",
    "    \n",
    "f.write('\\n\\nSVM Model:\\n# of points:')\n",
    "for i in iters:\n",
    "    f.write('\\t'+str(i))\n",
    "f.write('\\n')  \n",
    "for t in svm_last_point_errors:\n",
    "    f.write('\\t'+str(t))\n",
    "f.write('\\n\\n')\n",
    "\n",
    "f.write('strategy: gradient_step\\n')\n",
    "\"\"\"\n",
    "f.write('Oracle Model:\\n')\n",
    "f.write('# of points:')\n",
    "for i in iters:\n",
    "    f.write('\\t'+str(i))\n",
    "f.write('\\n\\t')     \n",
    "\n",
    "for t in oracle_gradient_step_errors:\n",
    "    f.write('\\t'+str(t))\n",
    "\"\"\"    \n",
    "    \n",
    "f.write('\\n\\nSVM Model:\\n# of points:')\n",
    "for i in iters:\n",
    "    f.write('\\t'+str(i))\n",
    "f.write('\\n')  \n",
    "for t in svm_gradient_step_errors:\n",
    "    f.write('\\t'+str(t))\n",
    "f.write('\\n')\n",
    "\n",
    "f.close()"
   ]
  },
  {
   "cell_type": "code",
   "execution_count": 374,
   "metadata": {
    "collapsed": false
   },
   "outputs": [
    {
     "data": {
      "image/png": "[encoded data removed]",
      "text/plain": [
       "<matplotlib.figure.Figure at 0x10d240f50>"
      ]
     },
     "metadata": {},
     "output_type": "display_data"
    }
   ],
   "source": [
    "## plot ###\n",
    "\"\"\"\n",
    "fig,ax = plt.subplots()\n",
    "#ax.plot(iters, oracle_train_all_errors, label='train_all')\n",
    "ax.plot(iters, oracle_retrain_new_errors, label = 'retrain_new')\n",
    "#ax.plot(iters, oracle_average_weight_errors, label = 'average_weight')\n",
    "#ax.plot(iters, oracle_last_point_errors, label = 'last_point')\n",
    "#ax.plot(iters, oracle_gradient_step_errors, label = 'gradient_step')\n",
    "ax.set_xlabel('Size of the task')\n",
    "ax.set_ylabel('Error rate')\n",
    "ax.set_title('Update-strategy -- Partial-Concept-Drift --Oracle ')\n",
    "ax.legend(loc='center left', bbox_to_anchor=(1, 0.5))\n",
    "default_size = fig.get_size_inches()\n",
    "size_mult = 1.7\n",
    "ax.set_ylim((0.0, ax.get_ylim()[1]))\n",
    "fig.set_size_inches(default_size[0]*size_mult,default_size[1]*size_mult)\n",
    "plt.show()\n",
    "\"\"\"\n",
    "fig,ax = plt.subplots()\n",
    "ax.plot(iters, svm_train_all_errors, label='train_all')\n",
    "ax.plot(iters, svm_retrain_new_errors, label = 'retrain_new')\n",
    "ax.plot(iters, svm_average_weight_errors, label = 'average_weight')\n",
    "ax.plot(iters, svm_last_point_errors, label = 'last_point')\n",
    "ax.plot(iters, svm_gradient_step_errors, label = 'gradient_step')\n",
    "ax.set_xlabel('Size of the task')\n",
    "ax.set_ylabel('Error rate')\n",
    "#ax.set_title('Update-strategy -- Stationery-Distribution --svm ')\n",
    "#ax.set_title('Update-strategy -- Total-Concept-Drift --svm ')\n",
    "ax.set_title('Update-strategy -- Parital-Concept-Drift --svm ')\n",
    "ax.legend(loc='center left', bbox_to_anchor=(1, 0.5))\n",
    "default_size = fig.get_size_inches()\n",
    "size_mult = 1.7\n",
    "ax.set_ylim((0.0, ax.get_ylim()[1]))\n",
    "fig.set_size_inches(default_size[0]*size_mult,default_size[1]*size_mult)\n",
    "plt.show()\n"
   ]
  },
  {
   "cell_type": "code",
   "execution_count": null,
   "metadata": {
    "collapsed": true
   },
   "outputs": [],
   "source": []
  },
  {
   "cell_type": "code",
   "execution_count": 347,
   "metadata": {
    "collapsed": true
   },
   "outputs": [],
   "source": [
    "### Partial Concept Drift \n",
    "\n",
    "####### Initialization ##########\n",
    "tasks = digits.create_mtl_datasets(Z, train_y, nTasks=100, taskSize=20, testSize=40)\n",
    "#xs,ys,dy,ss,test_xs,test_ys,test_dy,test_ts = digits.generate_data(tasks)\n",
    "xs = []\n",
    "ys = []\n",
    "dy = []\n",
    "ss = []\n",
    "k = 20\n",
    "k_svm = 10\n",
    "train_iter = 2"
   ]
  },
  {
   "cell_type": "code",
   "execution_count": 317,
   "metadata": {
    "collapsed": true
   },
   "outputs": [],
   "source": [
    "tasks = digits.create_mtl_datasets(Z, train_y, nTasks=100, taskSize=20, testSize=40)"
   ]
  },
  {
   "cell_type": "markdown",
   "metadata": {},
   "source": [
    "# retrain New"
   ]
  },
  {
   "cell_type": "code",
   "execution_count": 348,
   "metadata": {
    "collapsed": true
   },
   "outputs": [],
   "source": [
    "### Partial Concept Drift \n",
    "\n",
    "####### Initialization ##########\n",
    "#tasks = digits.create_mtl_datasets(Z, train_y, nTasks=100, taskSize=20, testSize=40)\n",
    "#xs,ys,dy,ss,test_xs,test_ys,test_dy,test_ts = digits.generate_data(tasks)\n",
    "xs = []\n",
    "ys = []\n",
    "dy = []\n",
    "ss = []\n",
    "k = 20\n",
    "k_svm = 10\n",
    "train_iter = 2"
   ]
  },
  {
   "cell_type": "code",
   "execution_count": 349,
   "metadata": {
    "collapsed": false
   },
   "outputs": [
    {
     "name": "stdout",
     "output_type": "stream",
     "text": [
      "TOTALS: fit time: 9.286524\n",
      "start training ws!\n",
      "ws: feature_time (s): 0.041514, train_time (s): 0.023275\n",
      "Initial Error SVM_mtl---Train All:  0.1135\n"
     ]
    }
   ],
   "source": [
    "oracle_retrain_new_errors = []\n",
    "oracle_retrain_new = lg.LgSegmentModel(xs,ys,ss,'train-all',k)\n",
    "svm_retrain_new = lg.UserDefineModel(xs,ys,dy,ss,'train-all') # using the default value \n",
    "test_xs,test_ys,test_ss = digits.generate_additional_data (tasks, oracle_retrain_new, svm_retrain_new,3)\n",
    "\"\"\"\n",
    "for j in range(train_iter):\n",
    "    oracle_retrain_new.train_all_fs()\n",
    "    oracle_retrain_new.train_ws()\n",
    "oracle_retrain_new.strategy = 'retrain-new'    \n",
    "\"\"\"\n",
    "svm_retrain_new.train_all_fs()\n",
    "svm_retrain_new.train_ws()\n",
    "svm_retrain_new_errors = []\n",
    "svm_retrain_new.strategy = 'retrain-new'\n",
    "\"\"\"\n",
    "oracle_err = lg.seg_model_error_01(oracle_retrain_new, test_xs, test_ys, test_ss, num=20)\n",
    "oracle_retrain_new_errors.append(oracle_err)\n",
    "\"\"\"\n",
    "svm_err = lg.seg_model_error_01(svm_retrain_new,test_xs,test_ys,test_ss)\n",
    "svm_retrain_new_errors.append(svm_err)\n",
    "#print \"Initial Error OracleMTL---Train All: %f\" % oracle_err\n",
    "print 'Initial Error SVM_mtl---Train All: ', svm_err\n"
   ]
  },
  {
   "cell_type": "code",
   "execution_count": 350,
   "metadata": {
    "collapsed": false
   },
   "outputs": [],
   "source": [
    "test_xss,test_yss,test_tss = digits.generate_data_concept_drift(Z, train_y, oracle_retrain_new,svm_retrain_new,'partial')"
   ]
  },
  {
   "cell_type": "code",
   "execution_count": 351,
   "metadata": {
    "collapsed": true
   },
   "outputs": [],
   "source": [
    "test_xss1,test_yss1,test_tss1 = digits.generate_data_concept_drift(Z, train_y, oracle_retrain_new,svm_retrain_new,'partial')"
   ]
  },
  {
   "cell_type": "code",
   "execution_count": 288,
   "metadata": {
    "collapsed": false
   },
   "outputs": [
    {
     "data": {
      "text/plain": [
       "4000"
      ]
     },
     "execution_count": 288,
     "metadata": {},
     "output_type": "execute_result"
    }
   ],
   "source": [
    "len(test_xss1)"
   ]
  },
  {
   "cell_type": "code",
   "execution_count": 289,
   "metadata": {
    "collapsed": true
   },
   "outputs": [],
   "source": [
    "segment= svm_retrain_new.segments"
   ]
  },
  {
   "cell_type": "code",
   "execution_count": 322,
   "metadata": {
    "collapsed": false
   },
   "outputs": [
    {
     "data": {
      "text/plain": [
       "70"
      ]
     },
     "execution_count": 322,
     "metadata": {},
     "output_type": "execute_result"
    }
   ],
   "source": [
    "len(segment[0].xs)"
   ]
  },
  {
   "cell_type": "code",
   "execution_count": 352,
   "metadata": {
    "collapsed": false,
    "scrolled": true
   },
   "outputs": [
    {
     "name": "stdout",
     "output_type": "stream",
     "text": [
      "points is i 20\n",
      "start training ws!\n",
      "ws: feature_time (s): 0.202794, train_time (s): 0.043634\n",
      "0.309\n",
      "points is i 21\n",
      "start training ws!\n",
      "ws: feature_time (s): 0.160678, train_time (s): 0.036403\n",
      "0.3045\n",
      "points is i 22\n",
      "start training ws!\n",
      "ws: feature_time (s): 0.156346, train_time (s): 0.036992\n",
      "0.294\n",
      "points is i 23\n",
      "start training ws!\n",
      "ws: feature_time (s): 0.157491, train_time (s): 0.035676\n",
      "0.2855\n",
      "points is i 24\n",
      "start training ws!\n",
      "ws: feature_time (s): 0.166958, train_time (s): 0.037271\n",
      "0.28275\n",
      "points is i 25\n",
      "start training ws!\n",
      "ws: feature_time (s): 0.248160, train_time (s): 0.054385\n",
      "0.276\n",
      "points is i 26\n",
      "start training ws!\n",
      "ws: feature_time (s): 0.231093, train_time (s): 0.051231\n",
      "0.26475\n",
      "points is i 27\n",
      "start training ws!\n",
      "ws: feature_time (s): 0.162991, train_time (s): 0.043913\n",
      "0.259\n",
      "points is i 28\n",
      "start training ws!\n",
      "ws: feature_time (s): 0.162875, train_time (s): 0.040561\n",
      "0.24975\n",
      "points is i 29\n",
      "start training ws!\n",
      "ws: feature_time (s): 0.199755, train_time (s): 0.049715\n",
      "0.24825\n",
      "points is i 30\n",
      "start training ws!\n",
      "ws: feature_time (s): 0.176734, train_time (s): 0.038706\n",
      "0.24575\n",
      "points is i 31\n",
      "start training ws!\n",
      "ws: feature_time (s): 0.174234, train_time (s): 0.039246\n",
      "0.242\n",
      "points is i 32\n",
      "start training ws!\n",
      "ws: feature_time (s): 0.155509, train_time (s): 0.039046\n",
      "0.24075\n",
      "points is i 33\n",
      "start training ws!\n",
      "ws: feature_time (s): 0.157246, train_time (s): 0.037894\n",
      "0.23325\n",
      "points is i 34\n",
      "start training ws!\n",
      "ws: feature_time (s): 0.235811, train_time (s): 0.052660\n",
      "0.23375\n",
      "points is i 35\n",
      "start training ws!\n",
      "ws: feature_time (s): 0.173407, train_time (s): 0.040205\n",
      "0.23125\n",
      "points is i 36\n",
      "start training ws!\n",
      "ws: feature_time (s): 0.158338, train_time (s): 0.039441\n",
      "0.22925\n",
      "points is i 37\n",
      "start training ws!\n",
      "ws: feature_time (s): 0.159546, train_time (s): 0.036959\n",
      "0.22275\n",
      "points is i 38\n",
      "start training ws!\n",
      "ws: feature_time (s): 0.154003, train_time (s): 0.035657\n",
      "0.2215\n",
      "points is i 39\n",
      "start training ws!\n",
      "ws: feature_time (s): 0.155233, train_time (s): 0.038757\n",
      "0.221\n",
      "points is i 40\n",
      "start training ws!\n",
      "ws: feature_time (s): 0.164261, train_time (s): 0.039471\n",
      "0.215\n",
      "points is i 41\n",
      "start training ws!\n",
      "ws: feature_time (s): 0.150034, train_time (s): 0.035870\n",
      "0.21725\n",
      "points is i 42\n",
      "start training ws!\n",
      "ws: feature_time (s): 0.160458, train_time (s): 0.039336\n",
      "0.20875\n",
      "points is i 43\n",
      "start training ws!\n",
      "ws: feature_time (s): 0.218895, train_time (s): 0.050867\n",
      "0.214\n",
      "points is i 44\n",
      "start training ws!\n",
      "ws: feature_time (s): 0.293408, train_time (s): 0.063630\n",
      "0.212\n",
      "points is i 45\n",
      "start training ws!\n",
      "ws: feature_time (s): 0.282075, train_time (s): 0.061140\n",
      "0.373\n",
      "points is i 46\n",
      "start training ws!\n",
      "ws: feature_time (s): 0.188280, train_time (s): 0.046909\n",
      "0.365\n",
      "points is i 47\n",
      "start training ws!\n",
      "ws: feature_time (s): 0.196790, train_time (s): 0.044085\n",
      "0.3555\n",
      "points is i 48\n",
      "start training ws!\n",
      "ws: feature_time (s): 0.225605, train_time (s): 0.051509\n",
      "0.34225\n",
      "points is i 49\n",
      "start training ws!\n",
      "ws: feature_time (s): 0.245730, train_time (s): 0.056550\n",
      "0.344\n",
      "points is i 50\n",
      "start training ws!\n",
      "ws: feature_time (s): 0.195000, train_time (s): 0.043976\n",
      "0.3475\n",
      "points is i 51\n",
      "start training ws!\n",
      "ws: feature_time (s): 0.205717, train_time (s): 0.044532\n",
      "0.3355\n",
      "points is i 52\n",
      "start training ws!\n",
      "ws: feature_time (s): 0.173087, train_time (s): 0.039565\n",
      "0.331\n",
      "points is i 53\n",
      "start training ws!\n",
      "ws: feature_time (s): 0.215059, train_time (s): 0.048979\n",
      "0.3225\n",
      "points is i 54\n",
      "start training ws!\n",
      "ws: feature_time (s): 0.164599, train_time (s): 0.040884\n",
      "0.31075\n",
      "points is i 55\n",
      "start training ws!\n",
      "ws: feature_time (s): 0.166679, train_time (s): 0.042954\n",
      "0.30525\n",
      "points is i 56\n",
      "start training ws!\n",
      "ws: feature_time (s): 0.289057, train_time (s): 0.061194\n",
      "0.303\n",
      "points is i 57\n",
      "start training ws!\n",
      "ws: feature_time (s): 0.160853, train_time (s): 0.042684\n",
      "0.2895\n",
      "points is i 58\n",
      "start training ws!\n",
      "ws: feature_time (s): 0.164948, train_time (s): 0.038445\n",
      "0.27425\n",
      "points is i 59\n",
      "start training ws!\n",
      "ws: feature_time (s): 0.157468, train_time (s): 0.042248\n",
      "0.27125\n",
      "points is i 60\n",
      "start training ws!\n",
      "ws: feature_time (s): 0.150595, train_time (s): 0.040174\n",
      "0.26275\n",
      "points is i 61\n",
      "start training ws!\n",
      "ws: feature_time (s): 0.151256, train_time (s): 0.037775\n",
      "0.251\n",
      "points is i 62\n",
      "start training ws!\n",
      "ws: feature_time (s): 0.159781, train_time (s): 0.038847\n",
      "0.2435\n",
      "points is i 63\n",
      "start training ws!\n",
      "ws: feature_time (s): 0.155496, train_time (s): 0.037768\n",
      "0.23375\n",
      "points is i 64\n",
      "start training ws!\n",
      "ws: feature_time (s): 0.150333, train_time (s): 0.037434\n",
      "0.231\n",
      "points is i 65\n",
      "start training ws!\n",
      "ws: feature_time (s): 0.152732, train_time (s): 0.036661\n",
      "0.219\n",
      "points is i 66\n",
      "start training ws!\n",
      "ws: feature_time (s): 0.150934, train_time (s): 0.036989\n",
      "0.2225\n",
      "points is i 67\n",
      "start training ws!\n",
      "ws: feature_time (s): 0.152779, train_time (s): 0.037953\n",
      "0.2145\n",
      "points is i 68\n",
      "start training ws!\n",
      "ws: feature_time (s): 0.156094, train_time (s): 0.037884\n",
      "0.2095\n",
      "points is i 69\n",
      "start training ws!\n",
      "ws: feature_time (s): 0.148330, train_time (s): 0.034683\n",
      "0.21325\n"
     ]
    }
   ],
   "source": [
    "for i in range(50):\n",
    "    i+=20\n",
    "    print 'points is i', i\n",
    "    svm_retrain_new.train_ws(i)\n",
    "    if i<45:\n",
    "        svm_err = lg.seg_model_error_01(svm_retrain_new,test_xss,test_yss,test_tss)\n",
    "    else:\n",
    "        svm_err = lg.seg_model_error_01(svm_retrain_new,test_xss1,test_yss1,test_tss1)\n",
    "    print svm_err\n",
    "    svm_retrain_new_errors.append(svm_err)"
   ]
  },
  {
   "cell_type": "code",
   "execution_count": 353,
   "metadata": {
    "collapsed": false
   },
   "outputs": [
    {
     "data": {
      "image/png": "[encoded data removed]",
      "text/plain": [
       "<matplotlib.figure.Figure at 0x1142772d0>"
      ]
     },
     "metadata": {},
     "output_type": "display_data"
    }
   ],
   "source": [
    "plt.plot(iters,svm_retrain_new_errors)\n",
    "plt.show()"
   ]
  },
  {
   "cell_type": "code",
   "execution_count": null,
   "metadata": {
    "collapsed": true
   },
   "outputs": [],
   "source": []
  },
  {
   "cell_type": "markdown",
   "metadata": {},
   "source": [
    "# Train All"
   ]
  },
  {
   "cell_type": "code",
   "execution_count": 354,
   "metadata": {
    "collapsed": true
   },
   "outputs": [],
   "source": [
    "### Partial Concept Drift \n",
    "\n",
    "####### Initialization ##########\n",
    "#tasks = digits.create_mtl_datasets(Z, train_y, nTasks=100, taskSize=20, testSize=40)\n",
    "#xs,ys,dy,ss,test_xs,test_ys,test_dy,test_ts = digits.generate_data(tasks)\n",
    "xs = []\n",
    "ys = []\n",
    "dy = []\n",
    "ss = []\n",
    "k = 20\n",
    "k_svm = 10\n",
    "train_iter = 2"
   ]
  },
  {
   "cell_type": "code",
   "execution_count": 244,
   "metadata": {
    "collapsed": true
   },
   "outputs": [],
   "source": []
  },
  {
   "cell_type": "code",
   "execution_count": 355,
   "metadata": {
    "collapsed": false,
    "scrolled": true
   },
   "outputs": [
    {
     "name": "stdout",
     "output_type": "stream",
     "text": [
      "TOTALS: fit time: 8.103064\n",
      "start training ws!\n",
      "ws: feature_time (s): 0.042119, train_time (s): 0.024022\n",
      "Initial Error SVM_mtl---Train All:  0.1135\n"
     ]
    }
   ],
   "source": [
    "oracle_train_all_errors = []\n",
    "oracle_train_all = lg.LgSegmentModel(xs,ys,ss,'train-all',k) \n",
    "svm_train_all = lg.UserDefineModel(xs,ys,dy,ss,'train-all') # using the default value \n",
    "test_xs,test_ys,test_ss = digits.generate_additional_data (tasks, oracle_train_all, svm_train_all,3)\n",
    "\"\"\"\n",
    "for j in range(train_iter):\n",
    "    oracle_train_all.train_all_fs()\n",
    "    oracle_train_all.train_ws()\n",
    "oracle_err = lg.seg_model_error_01(oracle_train_all, test_xs, test_ys, test_ss, num=20)\n",
    "oracle_train_all_errors.append(oracle_err)\n",
    "#oracle_mtl_errors.append(oracle_err)\n",
    "print \"Initial Error OracleMTL---Train All: %f\" % oracle_err\n",
    "\"\"\"\n",
    "svm_train_all.train_all_fs()\n",
    "svm_train_all.train_ws()\n",
    "svm_err = lg.seg_model_error_01(svm_train_all,test_xs,test_ys,test_ss)\n",
    "print 'Initial Error SVM_mtl---Train All: ', svm_err\n",
    "svm_train_all_errors = [svm_err]"
   ]
  },
  {
   "cell_type": "code",
   "execution_count": 252,
   "metadata": {
    "collapsed": false
   },
   "outputs": [
    {
     "data": {
      "text/plain": [
       "2000"
      ]
     },
     "execution_count": 252,
     "metadata": {},
     "output_type": "execute_result"
    }
   ],
   "source": [
    "len(svm_train_all.xs)"
   ]
  },
  {
   "cell_type": "code",
   "execution_count": 356,
   "metadata": {
    "collapsed": false
   },
   "outputs": [],
   "source": [
    "svm_train_all.xs += svm_retrain_new.xs[2000:]\n",
    "svm_train_all.ys += svm_retrain_new.ys[2000:]\n",
    "svm_train_all.ss += svm_retrain_new.ss[2000:]\n",
    "svm_train_all.digitys += svm_retrain_new.digitys[2000:]\n",
    "segment = svm_train_all.segments\n",
    "seg = svm_retrain_new.segments\n",
    "for s in segment:\n",
    "    segment[s].xs += seg[s].xs[20:]\n",
    "    segment[s].ys += seg[s].ys[20:]\n",
    "    segment[s].pref = seg[s].pref"
   ]
  },
  {
   "cell_type": "code",
   "execution_count": 254,
   "metadata": {
    "collapsed": false
   },
   "outputs": [
    {
     "data": {
      "text/plain": [
       "70"
      ]
     },
     "execution_count": 254,
     "metadata": {},
     "output_type": "execute_result"
    }
   ],
   "source": [
    "len(svm_train_all.segments[0].xs)"
   ]
  },
  {
   "cell_type": "code",
   "execution_count": 105,
   "metadata": {
    "collapsed": true
   },
   "outputs": [],
   "source": [
    "test_xss,test_yss,test_tss = digits.generate_data_concept_drift(Z, train_y, oracle_train_all,svm_train_all,'partial')"
   ]
  },
  {
   "cell_type": "code",
   "execution_count": 106,
   "metadata": {
    "collapsed": true
   },
   "outputs": [],
   "source": [
    "test_xss1,test_yss1,test_tss1 = digits.generate_data_concept_drift(Z, train_y, oracle_train_all,svm_train_all,'partial')"
   ]
  },
  {
   "cell_type": "code",
   "execution_count": 357,
   "metadata": {
    "collapsed": false
   },
   "outputs": [
    {
     "name": "stdout",
     "output_type": "stream",
     "text": [
      "points is i 20\n",
      "start training ws!\n",
      "ws: feature_time (s): 0.175950, train_time (s): 0.041828\n",
      "0.309\n",
      "points is i 21\n",
      "start training ws!\n",
      "ws: feature_time (s): 0.165284, train_time (s): 0.041000\n",
      "0.306\n",
      "points is i 22\n",
      "start training ws!\n",
      "ws: feature_time (s): 0.160343, train_time (s): 0.037270\n",
      "0.29925\n",
      "points is i 23\n",
      "start training ws!\n",
      "ws: feature_time (s): 0.159816, train_time (s): 0.039015\n",
      "0.2925\n",
      "points is i 24\n",
      "start training ws!\n",
      "ws: feature_time (s): 0.167016, train_time (s): 0.042687\n",
      "0.2885\n",
      "points is i 25\n",
      "start training ws!\n",
      "ws: feature_time (s): 0.161066, train_time (s): 0.039096\n",
      "0.279\n",
      "points is i 26\n",
      "start training ws!\n",
      "ws: feature_time (s): 0.219676, train_time (s): 0.052206\n",
      "0.2695\n",
      "points is i 27\n",
      "start training ws!\n",
      "ws: feature_time (s): 0.204190, train_time (s): 0.047550\n",
      "0.25725\n",
      "points is i 28\n",
      "start training ws!\n",
      "ws: feature_time (s): 0.225835, train_time (s): 0.055873\n",
      "0.25375\n",
      "points is i 29\n",
      "start training ws!\n",
      "ws: feature_time (s): 0.253704, train_time (s): 0.069090\n",
      "0.252\n",
      "points is i 30\n",
      "start training ws!\n",
      "ws: feature_time (s): 0.246194, train_time (s): 0.052495\n",
      "0.24725\n",
      "points is i 31\n",
      "start training ws!\n",
      "ws: feature_time (s): 0.172720, train_time (s): 0.044139\n",
      "0.2375\n",
      "points is i 32\n",
      "start training ws!\n",
      "ws: feature_time (s): 0.163538, train_time (s): 0.041995\n",
      "0.23225\n",
      "points is i 33\n",
      "start training ws!\n",
      "ws: feature_time (s): 0.204006, train_time (s): 0.056981\n",
      "0.22875\n",
      "points is i 34\n",
      "start training ws!\n",
      "ws: feature_time (s): 0.197348, train_time (s): 0.048914\n",
      "0.22825\n",
      "points is i 35\n",
      "start training ws!\n",
      "ws: feature_time (s): 0.216156, train_time (s): 0.054211\n",
      "0.22275\n",
      "points is i 36\n",
      "start training ws!\n",
      "ws: feature_time (s): 0.230653, train_time (s): 0.060007\n",
      "0.225\n",
      "points is i 37\n",
      "start training ws!\n",
      "ws: feature_time (s): 0.168795, train_time (s): 0.045464\n",
      "0.2185\n",
      "points is i 38\n",
      "start training ws!\n",
      "ws: feature_time (s): 0.166770, train_time (s): 0.042633\n",
      "0.212\n",
      "points is i 39\n",
      "start training ws!\n",
      "ws: feature_time (s): 0.219002, train_time (s): 0.058621\n",
      "0.21175\n",
      "points is i 40\n",
      "start training ws!\n",
      "ws: feature_time (s): 0.221874, train_time (s): 0.058660\n",
      "0.20925\n",
      "points is i 41\n",
      "start training ws!\n",
      "ws: feature_time (s): 0.155306, train_time (s): 0.042731\n",
      "0.20825\n",
      "points is i 42\n",
      "start training ws!\n",
      "ws: feature_time (s): 0.166773, train_time (s): 0.045643\n",
      "0.20325\n",
      "points is i 43\n",
      "start training ws!\n",
      "ws: feature_time (s): 0.157813, train_time (s): 0.046061\n",
      "0.20175\n",
      "points is i 44\n",
      "start training ws!\n",
      "ws: feature_time (s): 0.161741, train_time (s): 0.045554\n",
      "0.20125\n",
      "points is i 45\n",
      "start training ws!\n",
      "ws: feature_time (s): 0.222185, train_time (s): 0.060791\n",
      "0.3315\n",
      "points is i 46\n",
      "start training ws!\n",
      "ws: feature_time (s): 0.168075, train_time (s): 0.044882\n",
      "0.324\n",
      "points is i 47\n",
      "start training ws!\n",
      "ws: feature_time (s): 0.154692, train_time (s): 0.045560\n",
      "0.3155\n",
      "points is i 48\n",
      "start training ws!\n",
      "ws: feature_time (s): 0.163888, train_time (s): 0.046782\n",
      "0.31025\n",
      "points is i 49\n",
      "start training ws!\n",
      "ws: feature_time (s): 0.161556, train_time (s): 0.044991\n",
      "0.30725\n",
      "points is i 50\n",
      "start training ws!\n",
      "ws: feature_time (s): 0.163497, train_time (s): 0.049051\n",
      "0.30775\n",
      "points is i 51\n",
      "start training ws!\n",
      "ws: feature_time (s): 0.205006, train_time (s): 0.057750\n",
      "0.3065\n",
      "points is i 52\n",
      "start training ws!\n",
      "ws: feature_time (s): 0.202695, train_time (s): 0.055453\n",
      "0.30225\n",
      "points is i 53\n",
      "start training ws!\n",
      "ws: feature_time (s): 0.220668, train_time (s): 0.058363\n",
      "0.29575\n",
      "points is i 54\n",
      "start training ws!\n",
      "ws: feature_time (s): 0.224868, train_time (s): 0.059786\n",
      "0.2935\n",
      "points is i 55\n",
      "start training ws!\n",
      "ws: feature_time (s): 0.187939, train_time (s): 0.059011\n",
      "0.29375\n",
      "points is i 56\n",
      "start training ws!\n",
      "ws: feature_time (s): 0.218110, train_time (s): 0.061509\n",
      "0.286\n",
      "points is i 57\n",
      "start training ws!\n",
      "ws: feature_time (s): 0.238428, train_time (s): 0.058967\n",
      "0.28025\n",
      "points is i 58\n",
      "start training ws!\n",
      "ws: feature_time (s): 0.299501, train_time (s): 0.081475\n",
      "0.275\n",
      "points is i 59\n",
      "start training ws!\n",
      "ws: feature_time (s): 0.360602, train_time (s): 0.097846\n",
      "0.2735\n",
      "points is i 60\n",
      "start training ws!\n",
      "ws: feature_time (s): 0.172258, train_time (s): 0.046455\n",
      "0.269\n",
      "points is i 61\n",
      "start training ws!\n",
      "ws: feature_time (s): 0.167287, train_time (s): 0.048301\n",
      "0.26\n",
      "points is i 62\n",
      "start training ws!\n",
      "ws: feature_time (s): 0.170575, train_time (s): 0.050175\n",
      "0.25725\n",
      "points is i 63\n",
      "start training ws!\n",
      "ws: feature_time (s): 0.257311, train_time (s): 0.084679\n",
      "0.25325\n",
      "points is i 64\n",
      "start training ws!\n",
      "ws: feature_time (s): 0.250452, train_time (s): 0.071311\n",
      "0.2515\n",
      "points is i 65\n",
      "start training ws!\n",
      "ws: feature_time (s): 0.201665, train_time (s): 0.061115\n",
      "0.2475\n",
      "points is i 66\n",
      "start training ws!\n",
      "ws: feature_time (s): 0.276134, train_time (s): 0.073336\n",
      "0.24375\n",
      "points is i 67\n",
      "start training ws!\n",
      "ws: feature_time (s): 0.247432, train_time (s): 0.066272\n",
      "0.24225\n",
      "points is i 68\n",
      "start training ws!\n",
      "ws: feature_time (s): 0.169835, train_time (s): 0.048222\n",
      "0.239\n",
      "points is i 69\n",
      "start training ws!\n",
      "ws: feature_time (s): 0.166637, train_time (s): 0.048213\n",
      "0.23675\n"
     ]
    }
   ],
   "source": [
    "for i in range(50):\n",
    "    i+=20\n",
    "    print 'points is i', i\n",
    "    svm_train_all.train_ws(i)\n",
    "    if i<45:\n",
    "        svm_err = lg.seg_model_error_01(svm_train_all,test_xss,test_yss,test_tss)\n",
    "    else:\n",
    "        svm_err = lg.seg_model_error_01(svm_train_all,test_xss1,test_yss1,test_tss1)\n",
    "    print svm_err\n",
    "    svm_train_all_errors.append(svm_err)"
   ]
  },
  {
   "cell_type": "code",
   "execution_count": 358,
   "metadata": {
    "collapsed": false
   },
   "outputs": [
    {
     "data": {
      "image/png": "[encoded data removed]",
      "text/plain": [
       "<matplotlib.figure.Figure at 0x114277390>"
      ]
     },
     "metadata": {},
     "output_type": "display_data"
    }
   ],
   "source": [
    "plt.plot(iters,svm_train_all_errors)\n",
    "plt.show()"
   ]
  },
  {
   "cell_type": "code",
   "execution_count": null,
   "metadata": {
    "collapsed": true
   },
   "outputs": [],
   "source": []
  },
  {
   "cell_type": "markdown",
   "metadata": {},
   "source": [
    "# Average Weight"
   ]
  },
  {
   "cell_type": "code",
   "execution_count": 359,
   "metadata": {
    "collapsed": true
   },
   "outputs": [],
   "source": [
    "### Partial Concept Drift \n",
    "\n",
    "####### Initialization ##########\n",
    "#tasks = digits.create_mtl_datasets(Z, train_y, nTasks=100, taskSize=20, testSize=40)\n",
    "#xs,ys,dy,ss,test_xs,test_ys,test_dy,test_ts = digits.generate_data(tasks)\n",
    "xs = []\n",
    "ys = []\n",
    "dy = []\n",
    "ss = []\n",
    "k = 20\n",
    "k_svm = 10\n",
    "train_iter = 2"
   ]
  },
  {
   "cell_type": "code",
   "execution_count": 360,
   "metadata": {
    "collapsed": false
   },
   "outputs": [
    {
     "name": "stdout",
     "output_type": "stream",
     "text": [
      "TOTALS: fit time: 9.609046\n",
      "start training ws!\n",
      "ws: feature_time (s): 0.044574, train_time (s): 0.025140\n",
      "Initial Error SVM_mtl---Train All:  0.1135\n"
     ]
    }
   ],
   "source": [
    "## strategy: average-weight\n",
    "oracle_average_weight_errors = []\n",
    "oracle_average_weight = lg.LgSegmentModel(xs,ys,ss,'train-all',k) \n",
    "svm_average_weight = lg.UserDefineModel(xs,ys,dy,ss,'train-all') # using the default value \n",
    "test_xs,test_ys,test_ss = digits.generate_additional_data (tasks, oracle_average_weight, svm_average_weight,3)\n",
    "\"\"\"\n",
    "for j in range(train_iter):\n",
    "    oracle_average_weight.train_all_fs()\n",
    "    oracle_average_weight.train_ws()\n",
    "oracle_average_weight.strategy = 'average-weight'    \n",
    "\"\"\"\n",
    "svm_average_weight.train_all_fs()\n",
    "svm_average_weight.train_ws()\n",
    "svm_average_weight_errors = []\n",
    "svm_average_weight.strategy = 'average-weight'\n",
    "\"\"\"\n",
    "oracle_err = lg.seg_model_error_01(oracle_average_weight, test_xs, test_ys, test_ss, num=20)\n",
    "oracle_retrain_new_errors.append(oracle_err)\n",
    "\"\"\"\n",
    "svm_err = lg.seg_model_error_01(svm_average_weight,test_xs,test_ys,test_ss)\n",
    "svm_average_weight_errors.append(svm_err)\n",
    "#print \"Initial Error OracleMTL---Train All: %f\" % oracle_err\n",
    "print 'Initial Error SVM_mtl---Train All: ', svm_err\n"
   ]
  },
  {
   "cell_type": "code",
   "execution_count": 361,
   "metadata": {
    "collapsed": true
   },
   "outputs": [],
   "source": [
    "svm_average_weight.xs += svm_retrain_new.xs[2000:]\n",
    "svm_average_weight.ys += svm_retrain_new.ys[2000:]\n",
    "svm_average_weight.ss += svm_retrain_new.ss[2000:]\n",
    "svm_average_weight.digitys += svm_retrain_new.digitys[2000:]\n",
    "segment = svm_average_weight.segments\n",
    "seg = svm_retrain_new.segments\n",
    "for s in segment:\n",
    "    segment[s].xs += seg[s].xs[20:]\n",
    "    segment[s].ys += seg[s].ys[20:]\n",
    "    segment[s].pref = seg[s].pref"
   ]
  },
  {
   "cell_type": "code",
   "execution_count": 234,
   "metadata": {
    "collapsed": true
   },
   "outputs": [],
   "source": [
    "test_xss,test_yss,test_tss = digits.generate_data_concept_drift(Z, train_y, oracle_average_weight,svm_average_weight,'partial')"
   ]
  },
  {
   "cell_type": "code",
   "execution_count": 235,
   "metadata": {
    "collapsed": true
   },
   "outputs": [],
   "source": [
    "test_xss1,test_yss1,test_tss1 = digits.generate_data_concept_drift(Z, train_y, oracle_average_weight,svm_average_weight,'partial')"
   ]
  },
  {
   "cell_type": "code",
   "execution_count": 362,
   "metadata": {
    "collapsed": false,
    "scrolled": true
   },
   "outputs": [
    {
     "name": "stdout",
     "output_type": "stream",
     "text": [
      "points is i 20\n",
      "start training ws!\n",
      "ws: feature_time (s): 0.178535, train_time (s): 0.043241\n",
      "0.309\n",
      "points is i 21\n",
      "start training ws!\n",
      "ws: feature_time (s): 0.171642, train_time (s): 0.039051\n",
      "0.3035\n",
      "points is i 22\n",
      "start training ws!\n",
      "ws: feature_time (s): 0.164833, train_time (s): 0.039652\n",
      "0.2965\n",
      "points is i 23\n",
      "start training ws!\n",
      "ws: feature_time (s): 0.156207, train_time (s): 0.038973\n",
      "0.2925\n",
      "points is i 24\n",
      "start training ws!\n",
      "ws: feature_time (s): 0.156181, train_time (s): 0.037270\n",
      "0.28775\n",
      "points is i 25\n",
      "start training ws!\n",
      "ws: feature_time (s): 0.157164, train_time (s): 0.039158\n",
      "0.277\n",
      "points is i 26\n",
      "start training ws!\n",
      "ws: feature_time (s): 0.216719, train_time (s): 0.048146\n",
      "0.26775\n",
      "points is i 27\n",
      "start training ws!\n",
      "ws: feature_time (s): 0.159408, train_time (s): 0.040173\n",
      "0.26375\n",
      "points is i 28\n",
      "start training ws!\n",
      "ws: feature_time (s): 0.232350, train_time (s): 0.055821\n",
      "0.25175\n",
      "points is i 29\n",
      "start training ws!\n",
      "ws: feature_time (s): 0.187921, train_time (s): 0.043874\n",
      "0.2485\n",
      "points is i 30\n",
      "start training ws!\n",
      "ws: feature_time (s): 0.218763, train_time (s): 0.056626\n",
      "0.24325\n",
      "points is i 31\n",
      "start training ws!\n",
      "ws: feature_time (s): 0.171906, train_time (s): 0.041230\n",
      "0.23975\n",
      "points is i 32\n",
      "start training ws!\n",
      "ws: feature_time (s): 0.298087, train_time (s): 0.057109\n",
      "0.232\n",
      "points is i 33\n",
      "start training ws!\n",
      "ws: feature_time (s): 0.264817, train_time (s): 0.056915\n",
      "0.2315\n",
      "points is i 34\n",
      "start training ws!\n",
      "ws: feature_time (s): 0.171174, train_time (s): 0.041213\n",
      "0.233\n",
      "points is i 35\n",
      "start training ws!\n",
      "ws: feature_time (s): 0.165953, train_time (s): 0.041417\n",
      "0.2255\n",
      "points is i 36\n",
      "start training ws!\n",
      "ws: feature_time (s): 0.158105, train_time (s): 0.040516\n",
      "0.22725\n",
      "points is i 37\n",
      "start training ws!\n",
      "ws: feature_time (s): 0.251078, train_time (s): 0.061636\n",
      "0.22\n",
      "points is i 38\n",
      "start training ws!\n",
      "ws: feature_time (s): 0.165006, train_time (s): 0.039964\n",
      "0.21725\n",
      "points is i 39\n",
      "start training ws!\n",
      "ws: feature_time (s): 0.149728, train_time (s): 0.038048\n",
      "0.2215\n",
      "points is i 40\n",
      "start training ws!\n",
      "ws: feature_time (s): 0.152055, train_time (s): 0.038592\n",
      "0.21625\n",
      "points is i 41\n",
      "start training ws!\n",
      "ws: feature_time (s): 0.241807, train_time (s): 0.071995\n",
      "0.212\n",
      "points is i 42\n",
      "start training ws!\n",
      "ws: feature_time (s): 0.200436, train_time (s): 0.049950\n",
      "0.20975\n",
      "points is i 43\n",
      "start training ws!\n",
      "ws: feature_time (s): 0.187181, train_time (s): 0.044216\n",
      "0.2055\n",
      "points is i 44\n",
      "start training ws!\n",
      "ws: feature_time (s): 0.235197, train_time (s): 0.059192\n",
      "0.205\n",
      "points is i 45\n",
      "start training ws!\n",
      "ws: feature_time (s): 0.177550, train_time (s): 0.039922\n",
      "0.3705\n",
      "points is i 46\n",
      "start training ws!\n",
      "ws: feature_time (s): 0.155925, train_time (s): 0.037324\n",
      "0.36575\n",
      "points is i 47\n",
      "start training ws!\n",
      "ws: feature_time (s): 0.158527, train_time (s): 0.040565\n",
      "0.3575\n",
      "points is i 48\n",
      "start training ws!\n",
      "ws: feature_time (s): 0.249947, train_time (s): 0.056778\n",
      "0.35075\n",
      "points is i 49\n",
      "start training ws!\n",
      "ws: feature_time (s): 0.168404, train_time (s): 0.040962\n",
      "0.346\n",
      "points is i 50\n",
      "start training ws!\n",
      "ws: feature_time (s): 0.280874, train_time (s): 0.058293\n",
      "0.341\n",
      "points is i 51\n",
      "start training ws!\n",
      "ws: feature_time (s): 0.169126, train_time (s): 0.044840\n",
      "0.335\n",
      "points is i 52\n",
      "start training ws!\n",
      "ws: feature_time (s): 0.159903, train_time (s): 0.042870\n",
      "0.33\n",
      "points is i 53\n",
      "start training ws!\n",
      "ws: feature_time (s): 0.170866, train_time (s): 0.049461\n",
      "0.3265\n",
      "points is i 54\n",
      "start training ws!\n",
      "ws: feature_time (s): 0.160799, train_time (s): 0.041414\n",
      "0.31775\n",
      "points is i 55\n",
      "start training ws!\n",
      "ws: feature_time (s): 0.257824, train_time (s): 0.055957\n",
      "0.3075\n",
      "points is i 56\n",
      "start training ws!\n",
      "ws: feature_time (s): 0.233104, train_time (s): 0.055035\n",
      "0.30275\n",
      "points is i 57\n",
      "start training ws!\n",
      "ws: feature_time (s): 0.153285, train_time (s): 0.041592\n",
      "0.29175\n",
      "points is i 58\n",
      "start training ws!\n",
      "ws: feature_time (s): 0.159317, train_time (s): 0.041416\n",
      "0.27875\n",
      "points is i 59\n",
      "start training ws!\n",
      "ws: feature_time (s): 0.266329, train_time (s): 0.081427\n",
      "0.27075\n",
      "points is i 60\n",
      "start training ws!\n",
      "ws: feature_time (s): 0.203511, train_time (s): 0.045916\n",
      "0.2635\n",
      "points is i 61\n",
      "start training ws!\n",
      "ws: feature_time (s): 0.184440, train_time (s): 0.043846\n",
      "0.25025\n",
      "points is i 62\n",
      "start training ws!\n",
      "ws: feature_time (s): 0.180791, train_time (s): 0.044731\n",
      "0.246\n",
      "points is i 63\n",
      "start training ws!\n",
      "ws: feature_time (s): 0.173434, train_time (s): 0.043151\n",
      "0.2305\n",
      "points is i 64\n",
      "start training ws!\n",
      "ws: feature_time (s): 0.266019, train_time (s): 0.069186\n",
      "0.22525\n",
      "points is i 65\n",
      "start training ws!\n",
      "ws: feature_time (s): 0.279321, train_time (s): 0.071630\n",
      "0.2165\n",
      "points is i 66\n",
      "start training ws!\n",
      "ws: feature_time (s): 0.209583, train_time (s): 0.051960\n",
      "0.21725\n",
      "points is i 67\n",
      "start training ws!\n",
      "ws: feature_time (s): 0.163449, train_time (s): 0.040788\n",
      "0.21525\n",
      "points is i 68\n",
      "start training ws!\n",
      "ws: feature_time (s): 0.154916, train_time (s): 0.036888\n",
      "0.20625\n",
      "points is i 69\n",
      "start training ws!\n",
      "ws: feature_time (s): 0.283357, train_time (s): 0.068587\n",
      "0.20525\n"
     ]
    }
   ],
   "source": [
    "for i in range(50):\n",
    "    i+=20\n",
    "    print 'points is i', i\n",
    "    svm_average_weight.train_ws(i)\n",
    "    if i<45:\n",
    "        svm_err = lg.seg_model_error_01(svm_average_weight,test_xss,test_yss,test_tss)\n",
    "    else:\n",
    "        svm_err = lg.seg_model_error_01(svm_average_weight,test_xss1,test_yss1,test_tss1)\n",
    "    print svm_err\n",
    "    svm_average_weight_errors.append(svm_err)"
   ]
  },
  {
   "cell_type": "code",
   "execution_count": 363,
   "metadata": {
    "collapsed": false
   },
   "outputs": [
    {
     "data": {
      "image/png": "[encoded data removed]",
      "text/plain": [
       "<matplotlib.figure.Figure at 0x10d42bf90>"
      ]
     },
     "metadata": {},
     "output_type": "display_data"
    }
   ],
   "source": [
    "plt.plot(iters,svm_average_weight_errors)\n",
    "plt.show()"
   ]
  },
  {
   "cell_type": "code",
   "execution_count": 230,
   "metadata": {
    "collapsed": false
   },
   "outputs": [
    {
     "name": "stdout",
     "output_type": "stream",
     "text": [
      "start training ws!\n",
      "ws: feature_time (s): 0.218509, train_time (s): 0.053800\n"
     ]
    }
   ],
   "source": [
    "svm_average_weight.train_ws(30)"
   ]
  },
  {
   "cell_type": "markdown",
   "metadata": {},
   "source": [
    "# Last Point"
   ]
  },
  {
   "cell_type": "code",
   "execution_count": 364,
   "metadata": {
    "collapsed": true
   },
   "outputs": [],
   "source": [
    "### Partial Concept Drift \n",
    "\n",
    "####### Initialization ##########\n",
    "#tasks = digits.create_mtl_datasets(Z, train_y, nTasks=100, taskSize=20, testSize=40)\n",
    "#xs,ys,dy,ss,test_xs,test_ys,test_dy,test_ts = digits.generate_data(tasks)\n",
    "xs = []\n",
    "ys = []\n",
    "dy = []\n",
    "ss = []\n",
    "k = 20\n",
    "k_svm = 10\n",
    "train_iter = 2"
   ]
  },
  {
   "cell_type": "code",
   "execution_count": 365,
   "metadata": {
    "collapsed": false
   },
   "outputs": [
    {
     "name": "stdout",
     "output_type": "stream",
     "text": [
      "4000\n",
      "TOTALS: fit time: 8.617532\n",
      "start training ws!\n",
      "ws: feature_time (s): 0.046348, train_time (s): 0.026680\n",
      "Initial Error SVM_mtl---Train All:  0.1135\n"
     ]
    }
   ],
   "source": [
    "## strategy: last-point\n",
    "oracle_last_point_errors = []\n",
    "oracle_last_point = lg.LgSegmentModel(xs,ys,ss,'train-all',k)\n",
    "svm_last_point = lg.UserDefineModel(xs,ys,dy,ss,'train-all') # using the default value \n",
    "test_xs,test_ys,test_ss = digits.generate_additional_data (tasks, oracle_last_point, svm_last_point,3)\n",
    "print len(test_ss)\n",
    "\"\"\"\n",
    "for j in range(train_iter):\n",
    "    oracle_last_point.train_all_fs()\n",
    "    oracle_last_point.train_ws()\n",
    "oracle_last_point.strategy = 'last-point'    \n",
    "\"\"\"\n",
    "svm_last_point.train_all_fs()\n",
    "svm_last_point.train_ws()\n",
    "svm_last_point_errors = []\n",
    "svm_last_point.strategy = 'last-point'\n",
    "\n",
    "\"\"\"\n",
    "oracle_err = lg.seg_model_error_01(oracle_last_point, test_xs, test_ys, test_ss, num=20)\n",
    "oracle_retrain_new_errors.append(oracle_err)\n",
    "\"\"\"\n",
    "svm_err = lg.seg_model_error_01(svm_last_point,test_xs,test_ys,test_ss)\n",
    "svm_last_point_errors.append(svm_err)\n",
    "#print \"Initial Error OracleMTL---Train All: %f\" % oracle_err\n",
    "print 'Initial Error SVM_mtl---Train All: ', svm_err"
   ]
  },
  {
   "cell_type": "code",
   "execution_count": 366,
   "metadata": {
    "collapsed": true
   },
   "outputs": [],
   "source": [
    "svm_last_point.xs += svm_retrain_new.xs[2000:]\n",
    "svm_last_point.ys += svm_retrain_new.ys[2000:]\n",
    "svm_last_point.ss += svm_retrain_new.ss[2000:]\n",
    "svm_last_point.digitys += svm_retrain_new.digitys[2000:]\n",
    "segment = svm_last_point.segments\n",
    "seg = svm_retrain_new.segments\n",
    "for s in segment:\n",
    "    segment[s].xs += seg[s].xs[20:]\n",
    "    segment[s].ys += seg[s].ys[20:]\n",
    "    segment[s].pref = seg[s].pref"
   ]
  },
  {
   "cell_type": "code",
   "execution_count": 211,
   "metadata": {
    "collapsed": true
   },
   "outputs": [],
   "source": [
    "test_xss,test_yss,test_tss = digits.generate_data_concept_drift(Z, train_y, oracle_last_point,svm_last_point,'partial')"
   ]
  },
  {
   "cell_type": "code",
   "execution_count": 212,
   "metadata": {
    "collapsed": true
   },
   "outputs": [],
   "source": [
    "test_xss1,test_yss1,test_tss1 = digits.generate_data_concept_drift(Z, train_y, oracle_last_point,svm_last_point,'partial')"
   ]
  },
  {
   "cell_type": "code",
   "execution_count": 367,
   "metadata": {
    "collapsed": false
   },
   "outputs": [
    {
     "name": "stdout",
     "output_type": "stream",
     "text": [
      "points is i 20\n",
      "start training ws!\n",
      "ws: feature_time (s): 0.161372, train_time (s): 0.003980\n",
      "0.319\n",
      "points is i 21\n",
      "start training ws!\n",
      "ws: feature_time (s): 0.168309, train_time (s): 0.004056\n",
      "0.32775\n",
      "points is i 22\n",
      "start training ws!\n",
      "ws: feature_time (s): 0.162996, train_time (s): 0.003993\n",
      "0.34025\n",
      "points is i 23\n",
      "start training ws!\n",
      "ws: feature_time (s): 0.159494, train_time (s): 0.003855\n",
      "0.346\n",
      "points is i 24\n",
      "start training ws!\n",
      "ws: feature_time (s): 0.154283, train_time (s): 0.003853\n",
      "0.3395\n",
      "points is i 25\n",
      "start training ws!\n",
      "ws: feature_time (s): 0.196035, train_time (s): 0.004924\n",
      "0.33925\n",
      "points is i 26\n",
      "start training ws!\n",
      "ws: feature_time (s): 0.209396, train_time (s): 0.006294\n",
      "0.33575\n",
      "points is i 27\n",
      "start training ws!\n",
      "ws: feature_time (s): 0.227530, train_time (s): 0.008000\n",
      "0.33425\n",
      "points is i 28\n",
      "start training ws!\n",
      "ws: feature_time (s): 0.211042, train_time (s): 0.006036\n",
      "0.34475\n",
      "points is i 29\n",
      "start training ws!\n",
      "ws: feature_time (s): 0.168542, train_time (s): 0.004399\n",
      "0.33825\n",
      "points is i 30\n",
      "start training ws!\n",
      "ws: feature_time (s): 0.160294, train_time (s): 0.003681\n",
      "0.33475\n",
      "points is i 31\n",
      "start training ws!\n",
      "ws: feature_time (s): 0.183789, train_time (s): 0.004923\n",
      "0.351\n",
      "points is i 32\n",
      "start training ws!\n",
      "ws: feature_time (s): 0.162967, train_time (s): 0.004192\n",
      "0.34575\n",
      "points is i 33\n",
      "start training ws!\n",
      "ws: feature_time (s): 0.159596, train_time (s): 0.004006\n",
      "0.3425\n",
      "points is i 34\n",
      "start training ws!\n",
      "ws: feature_time (s): 0.213624, train_time (s): 0.005170\n",
      "0.33875\n",
      "points is i 35\n",
      "start training ws!\n",
      "ws: feature_time (s): 0.207082, train_time (s): 0.009795\n",
      "0.34525\n",
      "points is i 36\n",
      "start training ws!\n",
      "ws: feature_time (s): 0.188015, train_time (s): 0.005368\n",
      "0.34225\n",
      "points is i 37\n",
      "start training ws!\n",
      "ws: feature_time (s): 0.174601, train_time (s): 0.004896\n",
      "0.33625\n",
      "points is i 38\n",
      "start training ws!\n",
      "ws: feature_time (s): 0.167527, train_time (s): 0.004347\n",
      "0.3445\n",
      "points is i 39\n",
      "start training ws!\n",
      "ws: feature_time (s): 0.203935, train_time (s): 0.005587\n",
      "0.35125\n",
      "points is i 40\n",
      "start training ws!\n",
      "ws: feature_time (s): 0.194507, train_time (s): 0.005444\n",
      "0.34425\n",
      "points is i 41\n",
      "start training ws!\n",
      "ws: feature_time (s): 0.190130, train_time (s): 0.005392\n",
      "0.34475\n",
      "points is i 42\n",
      "start training ws!\n",
      "ws: feature_time (s): 0.197439, train_time (s): 0.004836\n",
      "0.33475\n",
      "points is i 43\n",
      "start training ws!\n",
      "ws: feature_time (s): 0.171852, train_time (s): 0.004888\n",
      "0.33275\n",
      "points is i 44\n",
      "start training ws!\n",
      "ws: feature_time (s): 0.161360, train_time (s): 0.003942\n",
      "0.33625\n",
      "points is i 45\n",
      "start training ws!\n",
      "ws: feature_time (s): 0.158714, train_time (s): 0.004016\n",
      "0.4035\n",
      "points is i 46\n",
      "start training ws!\n",
      "ws: feature_time (s): 0.221848, train_time (s): 0.006403\n",
      "0.39975\n",
      "points is i 47\n",
      "start training ws!\n",
      "ws: feature_time (s): 0.178421, train_time (s): 0.004489\n",
      "0.3995\n",
      "points is i 48\n",
      "start training ws!\n",
      "ws: feature_time (s): 0.167776, train_time (s): 0.004472\n",
      "0.399\n",
      "points is i 49\n",
      "start training ws!\n",
      "ws: feature_time (s): 0.158706, train_time (s): 0.004204\n",
      "0.38725\n",
      "points is i 50\n",
      "start training ws!\n",
      "ws: feature_time (s): 0.174978, train_time (s): 0.004565\n",
      "0.39325\n",
      "points is i 51\n",
      "start training ws!\n",
      "ws: feature_time (s): 0.200371, train_time (s): 0.005531\n",
      "0.38575\n",
      "points is i 52\n",
      "start training ws!\n",
      "ws: feature_time (s): 0.225313, train_time (s): 0.006249\n",
      "0.38725\n",
      "points is i 53\n",
      "start training ws!\n",
      "ws: feature_time (s): 0.204561, train_time (s): 0.005603\n",
      "0.37825\n",
      "points is i 54\n",
      "start training ws!\n",
      "ws: feature_time (s): 0.215163, train_time (s): 0.005178\n",
      "0.3765\n",
      "points is i 55\n",
      "start training ws!\n",
      "ws: feature_time (s): 0.247053, train_time (s): 0.005922\n",
      "0.3795\n",
      "points is i 56\n",
      "start training ws!\n",
      "ws: feature_time (s): 0.236754, train_time (s): 0.005989\n",
      "0.36775\n",
      "points is i 57\n",
      "start training ws!\n",
      "ws: feature_time (s): 0.224518, train_time (s): 0.006013\n",
      "0.36525\n",
      "points is i 58\n",
      "start training ws!\n",
      "ws: feature_time (s): 0.316814, train_time (s): 0.009138\n",
      "0.377\n",
      "points is i 59\n",
      "start training ws!\n",
      "ws: feature_time (s): 0.233048, train_time (s): 0.009333\n",
      "0.379\n",
      "points is i 60\n",
      "start training ws!\n",
      "ws: feature_time (s): 0.238293, train_time (s): 0.006454\n",
      "0.371\n",
      "points is i 61\n",
      "start training ws!\n",
      "ws: feature_time (s): 0.169422, train_time (s): 0.004157\n",
      "0.3775\n",
      "points is i 62\n",
      "start training ws!\n",
      "ws: feature_time (s): 0.170326, train_time (s): 0.005014\n",
      "0.374\n",
      "points is i 63\n",
      "start training ws!\n",
      "ws: feature_time (s): 0.227758, train_time (s): 0.006296\n",
      "0.374\n",
      "points is i 64\n",
      "start training ws!\n",
      "ws: feature_time (s): 0.163211, train_time (s): 0.004099\n",
      "0.3665\n",
      "points is i 65\n",
      "start training ws!\n",
      "ws: feature_time (s): 0.160006, train_time (s): 0.004006\n",
      "0.3735\n",
      "points is i 66\n",
      "start training ws!\n",
      "ws: feature_time (s): 0.162454, train_time (s): 0.004206\n",
      "0.36925\n",
      "points is i 67\n",
      "start training ws!\n",
      "ws: feature_time (s): 0.168387, train_time (s): 0.004332\n",
      "0.367\n",
      "points is i 68\n",
      "start training ws!\n",
      "ws: feature_time (s): 0.205416, train_time (s): 0.006514\n",
      "0.36325\n",
      "points is i 69\n",
      "start training ws!\n",
      "ws: feature_time (s): 0.274936, train_time (s): 0.008031\n",
      "0.36125\n"
     ]
    }
   ],
   "source": [
    "for i in range(50):\n",
    "    i+=20\n",
    "    print 'points is i', i\n",
    "    svm_last_point.train_ws(i)\n",
    "    if i<45:\n",
    "        svm_err = lg.seg_model_error_01(svm_last_point,test_xss,test_yss,test_tss)\n",
    "    else:\n",
    "        svm_err = lg.seg_model_error_01(svm_last_point,test_xss1,test_yss1,test_tss1)\n",
    "    print svm_err\n",
    "    svm_last_point_errors.append(svm_err)"
   ]
  },
  {
   "cell_type": "code",
   "execution_count": 368,
   "metadata": {
    "collapsed": false
   },
   "outputs": [
    {
     "data": {
      "image/png": "[encoded data removed]",
      "text/plain": [
       "<matplotlib.figure.Figure at 0x10d431dd0>"
      ]
     },
     "metadata": {},
     "output_type": "display_data"
    }
   ],
   "source": [
    "plt.plot(iters,svm_last_point_errors)\n",
    "plt.show()"
   ]
  },
  {
   "cell_type": "code",
   "execution_count": 207,
   "metadata": {
    "collapsed": false
   },
   "outputs": [
    {
     "name": "stdout",
     "output_type": "stream",
     "text": [
      "0.30525\n"
     ]
    }
   ],
   "source": [
    "test_y = test_yss + test_yss1\n",
    "test_x = test_xss + test_xss1\n",
    "test_t = test_tss + test_tss1\n",
    "svm_err = lg.seg_model_error_01(svm_last_point,test_xss,test_yss,test_tss)\n",
    "print svm_err"
   ]
  },
  {
   "cell_type": "code",
   "execution_count": 214,
   "metadata": {
    "collapsed": false
   },
   "outputs": [
    {
     "data": {
      "text/plain": [
       "array([ -73.26229593,  -38.74546957, -159.86351126,  -78.36026822,\n",
       "        -31.00441489, -152.5344289 , -119.29978424,  -71.61610208,\n",
       "        -58.61061959,  -21.36368386])"
      ]
     },
     "execution_count": 214,
     "metadata": {},
     "output_type": "execute_result"
    }
   ],
   "source": [
    "svm_last_point.segments[0].ws"
   ]
  },
  {
   "cell_type": "code",
   "execution_count": 208,
   "metadata": {
    "collapsed": false
   },
   "outputs": [
    {
     "data": {
      "text/plain": [
       "array([ 13224.15503567,   8740.38368727,  -2459.64908903,  33445.90224465,\n",
       "        15663.45542369,  15577.57763764,  19718.17634   ,   5538.95911512,\n",
       "         2685.1676557 ,   6869.42426949])"
      ]
     },
     "execution_count": 208,
     "metadata": {},
     "output_type": "execute_result"
    }
   ],
   "source": [
    "svm_last_point.segments[0].ws"
   ]
  },
  {
   "cell_type": "code",
   "execution_count": null,
   "metadata": {
    "collapsed": true
   },
   "outputs": [],
   "source": []
  },
  {
   "cell_type": "markdown",
   "metadata": {},
   "source": [
    "# Gradient Step"
   ]
  },
  {
   "cell_type": "code",
   "execution_count": 369,
   "metadata": {
    "collapsed": true
   },
   "outputs": [],
   "source": [
    "### Partial Concept Drift \n",
    "\n",
    "####### Initialization ##########\n",
    "#tasks = digits.create_mtl_datasets(Z, train_y, nTasks=100, taskSize=20, testSize=40)\n",
    "#xs,ys,dy,ss,test_xs,test_ys,test_dy,test_ts = digits.generate_data(tasks)\n",
    "xs = []\n",
    "ys = []\n",
    "dy = []\n",
    "ss = []\n",
    "k = 20\n",
    "k_svm = 10\n",
    "train_iter = 2"
   ]
  },
  {
   "cell_type": "code",
   "execution_count": 370,
   "metadata": {
    "collapsed": false
   },
   "outputs": [
    {
     "name": "stdout",
     "output_type": "stream",
     "text": [
      "TOTALS: fit time: 9.233587\n",
      "start training ws!\n",
      "ws: feature_time (s): 0.045235, train_time (s): 0.026869\n",
      "Initial Error SVM_mtl---Train All:  0.1135\n"
     ]
    }
   ],
   "source": [
    "## strategy: Gradient-step\n",
    "oracle_gradient_step_errors = []\n",
    "oracle_gradient_step = lg.LgSegmentModel(xs,ys,ss,'train-all',k)\n",
    "svm_gradient_step = lg.UserDefineModel(xs,ys,dy,ss,'train-all') # using the default value \n",
    "test_xs,test_ys,test_ss = digits.generate_additional_data (tasks, oracle_gradient_step, svm_gradient_step,3)\n",
    "\"\"\"\n",
    "for j in range(train_iter):\n",
    "    oracle_gradient_step.train_all_fs()\n",
    "    oracle_gradient_step.train_ws()\n",
    "oracle_gradient_step.strategy = 'Gradient-step'    \n",
    "\"\"\"\n",
    "\n",
    "svm_gradient_step.train_all_fs()\n",
    "svm_gradient_step.train_ws()\n",
    "svm_gradient_step_errors = []\n",
    "svm_gradient_step.strategy = 'Gradient-step'\n",
    "\n",
    "\"\"\"\n",
    "oracle_err = lg.seg_model_error_01(oracle_gradient_step, test_xs, test_ys, test_ss, num=20)\n",
    "oracle_retrain_new_errors.append(oracle_err)\n",
    "\"\"\"\n",
    "svm_err = lg.seg_model_error_01(svm_gradient_step,test_xs,test_ys,test_ss)\n",
    "svm_gradient_step_errors.append(svm_err)\n",
    "#print \"Initial Error OracleMTL---Train All: %f\" % oracle_err\n",
    "print 'Initial Error SVM_mtl---Train All: ', svm_err\n"
   ]
  },
  {
   "cell_type": "code",
   "execution_count": 371,
   "metadata": {
    "collapsed": true
   },
   "outputs": [],
   "source": [
    "svm_gradient_step.xs += svm_retrain_new.xs[2000:]\n",
    "svm_gradient_step.ys += svm_retrain_new.ys[2000:]\n",
    "svm_gradient_step.ss += svm_retrain_new.ss[2000:]\n",
    "svm_gradient_step.digitys += svm_retrain_new.digitys[2000:]\n",
    "segment = svm_gradient_step.segments\n",
    "seg = svm_retrain_new.segments\n",
    "for s in segment:\n",
    "    segment[s].xs += seg[s].xs[20:]\n",
    "    segment[s].ys += seg[s].ys[20:]\n",
    "    segment[s].pref = seg[s].pref"
   ]
  },
  {
   "cell_type": "code",
   "execution_count": 88,
   "metadata": {
    "collapsed": true
   },
   "outputs": [],
   "source": [
    "test_xss,test_yss,test_tss = digits.generate_data_concept_drift(Z, train_y, oracle_gradient_step,svm_gradient_step,'partial')"
   ]
  },
  {
   "cell_type": "code",
   "execution_count": 158,
   "metadata": {
    "collapsed": true
   },
   "outputs": [],
   "source": [
    "test_xss1,test_yss1,test_tss1 = digits.generate_data_concept_drift(Z, train_y, oracle_gradient_step,svm_gradient_step,'partial')"
   ]
  },
  {
   "cell_type": "code",
   "execution_count": 372,
   "metadata": {
    "collapsed": false
   },
   "outputs": [
    {
     "name": "stdout",
     "output_type": "stream",
     "text": [
      "points is i 20\n",
      "start training ws!\n",
      "ws: feature_time (s): 0.169671, train_time (s): 0.006582\n",
      "0.309\n",
      "points is i 21\n",
      "start training ws!\n",
      "ws: feature_time (s): 0.165236, train_time (s): 0.005821\n",
      "0.3095\n",
      "points is i 22\n",
      "start training ws!\n",
      "ws: feature_time (s): 0.158614, train_time (s): 0.005853\n",
      "0.312\n",
      "points is i 23\n",
      "start training ws!\n",
      "ws: feature_time (s): 0.157111, train_time (s): 0.005730\n",
      "0.31175\n",
      "points is i 24\n",
      "start training ws!\n",
      "ws: feature_time (s): 0.171564, train_time (s): 0.006435\n",
      "0.3145\n",
      "points is i 25\n",
      "start training ws!\n",
      "ws: feature_time (s): 0.183503, train_time (s): 0.006540\n",
      "0.31625\n",
      "points is i 26\n",
      "start training ws!\n",
      "ws: feature_time (s): 0.185980, train_time (s): 0.007100\n",
      "0.314\n",
      "points is i 27\n",
      "start training ws!\n",
      "ws: feature_time (s): 0.214680, train_time (s): 0.007887\n",
      "0.31675\n",
      "points is i 28\n",
      "start training ws!\n",
      "ws: feature_time (s): 0.214285, train_time (s): 0.009840\n",
      "0.317\n",
      "points is i 29\n",
      "start training ws!\n",
      "ws: feature_time (s): 0.206430, train_time (s): 0.007589\n",
      "0.31525\n",
      "points is i 30\n",
      "start training ws!\n",
      "ws: feature_time (s): 0.155950, train_time (s): 0.005363\n",
      "0.31925\n",
      "points is i 31\n",
      "start training ws!\n",
      "ws: feature_time (s): 0.200565, train_time (s): 0.006908\n",
      "0.31675\n",
      "points is i 32\n",
      "start training ws!\n",
      "ws: feature_time (s): 0.162338, train_time (s): 0.006003\n",
      "0.3155\n",
      "points is i 33\n",
      "start training ws!\n",
      "ws: feature_time (s): 0.162204, train_time (s): 0.005696\n",
      "0.316\n",
      "points is i 34\n",
      "start training ws!\n",
      "ws: feature_time (s): 0.223843, train_time (s): 0.007644\n",
      "0.3175\n",
      "points is i 35\n",
      "start training ws!\n",
      "ws: feature_time (s): 0.189190, train_time (s): 0.007412\n",
      "0.3205\n",
      "points is i 36\n",
      "start training ws!\n",
      "ws: feature_time (s): 0.220817, train_time (s): 0.009023\n",
      "0.32375\n",
      "points is i 37\n",
      "start training ws!\n",
      "ws: feature_time (s): 0.209733, train_time (s): 0.007736\n",
      "0.32575\n",
      "points is i 38\n",
      "start training ws!\n",
      "ws: feature_time (s): 0.194019, train_time (s): 0.006479\n",
      "0.32875\n",
      "points is i 39\n",
      "start training ws!\n",
      "ws: feature_time (s): 0.165387, train_time (s): 0.005878\n",
      "0.33125\n",
      "points is i 40\n",
      "start training ws!\n",
      "ws: feature_time (s): 0.198200, train_time (s): 0.007292\n",
      "0.3295\n",
      "points is i 41\n",
      "start training ws!\n",
      "ws: feature_time (s): 0.157643, train_time (s): 0.005684\n",
      "0.32825\n",
      "points is i 42\n",
      "start training ws!\n",
      "ws: feature_time (s): 0.234570, train_time (s): 0.013630\n",
      "0.3295\n",
      "points is i 43\n",
      "start training ws!\n",
      "ws: feature_time (s): 0.165772, train_time (s): 0.006069\n",
      "0.32675\n",
      "points is i 44\n",
      "start training ws!\n",
      "ws: feature_time (s): 0.196408, train_time (s): 0.007589\n",
      "0.325\n",
      "points is i 45\n",
      "start training ws!\n",
      "ws: feature_time (s): 0.229835, train_time (s): 0.008637\n",
      "0.34825\n",
      "points is i 46\n",
      "start training ws!\n",
      "ws: feature_time (s): 0.226250, train_time (s): 0.010407\n",
      "0.3495\n",
      "points is i 47\n",
      "start training ws!\n",
      "ws: feature_time (s): 0.207049, train_time (s): 0.008616\n",
      "0.34875\n",
      "points is i 48\n",
      "start training ws!\n",
      "ws: feature_time (s): 0.211172, train_time (s): 0.010260\n",
      "0.3505\n",
      "points is i 49\n",
      "start training ws!\n",
      "ws: feature_time (s): 0.171584, train_time (s): 0.006443\n",
      "0.34975\n",
      "points is i 50\n",
      "start training ws!\n",
      "ws: feature_time (s): 0.169616, train_time (s): 0.007165\n",
      "0.34925\n",
      "points is i 51\n",
      "start training ws!\n",
      "ws: feature_time (s): 0.174984, train_time (s): 0.005750\n",
      "0.34875\n",
      "points is i 52\n",
      "start training ws!\n",
      "ws: feature_time (s): 0.372652, train_time (s): 0.012230\n",
      "0.349\n",
      "points is i 53\n",
      "start training ws!\n",
      "ws: feature_time (s): 0.192024, train_time (s): 0.007245\n",
      "0.3495\n",
      "points is i 54\n",
      "start training ws!\n",
      "ws: feature_time (s): 0.200685, train_time (s): 0.007051\n",
      "0.351\n",
      "points is i 55\n",
      "start training ws!\n",
      "ws: feature_time (s): 0.350981, train_time (s): 0.012536\n",
      "0.34975\n",
      "points is i 56\n",
      "start training ws!\n",
      "ws: feature_time (s): 0.177358, train_time (s): 0.006614\n",
      "0.35025\n",
      "points is i 57\n",
      "start training ws!\n",
      "ws: feature_time (s): 0.292812, train_time (s): 0.014825\n",
      "0.351\n",
      "points is i 58\n",
      "start training ws!\n",
      "ws: feature_time (s): 0.212773, train_time (s): 0.011326\n",
      "0.35025\n",
      "points is i 59\n",
      "start training ws!\n",
      "ws: feature_time (s): 0.297351, train_time (s): 0.011602\n",
      "0.35125\n",
      "points is i 60\n",
      "start training ws!\n",
      "ws: feature_time (s): 0.321971, train_time (s): 0.011898\n",
      "0.351\n",
      "points is i 61\n",
      "start training ws!\n",
      "ws: feature_time (s): 0.164990, train_time (s): 0.006130\n",
      "0.3535\n",
      "points is i 62\n",
      "start training ws!\n",
      "ws: feature_time (s): 0.258439, train_time (s): 0.010177\n",
      "0.353\n",
      "points is i 63\n",
      "start training ws!\n",
      "ws: feature_time (s): 0.243932, train_time (s): 0.007994\n",
      "0.35375\n",
      "points is i 64\n",
      "start training ws!\n",
      "ws: feature_time (s): 0.167353, train_time (s): 0.006127\n",
      "0.355\n",
      "points is i 65\n",
      "start training ws!\n",
      "ws: feature_time (s): 0.170292, train_time (s): 0.006149\n",
      "0.35575\n",
      "points is i 66\n",
      "start training ws!\n",
      "ws: feature_time (s): 0.330843, train_time (s): 0.009105\n",
      "0.35675\n",
      "points is i 67\n",
      "start training ws!\n",
      "ws: feature_time (s): 0.186808, train_time (s): 0.006820\n",
      "0.35725\n",
      "points is i 68\n",
      "start training ws!\n",
      "ws: feature_time (s): 0.164391, train_time (s): 0.005982\n",
      "0.35575\n",
      "points is i 69\n",
      "start training ws!\n",
      "ws: feature_time (s): 0.324022, train_time (s): 0.016059\n",
      "0.35425\n"
     ]
    }
   ],
   "source": [
    "for i in range(50):\n",
    "    i+=20\n",
    "    print 'points is i', i\n",
    "    #print svm_gradient_step.segments[0].ws\n",
    "    svm_gradient_step.train_ws(i)\n",
    "    if i <45:\n",
    "        svm_err = lg.seg_model_error_01(svm_gradient_step,test_xss,test_yss,test_tss)\n",
    "    else:\n",
    "        svm_err = lg.seg_model_error_01(svm_gradient_step,test_xss1,test_yss1,test_tss1)\n",
    "    print svm_err\n",
    "    svm_gradient_step_errors.append(svm_err)"
   ]
  },
  {
   "cell_type": "code",
   "execution_count": 373,
   "metadata": {
    "collapsed": false
   },
   "outputs": [
    {
     "data": {
      "image/png": "[encoded data removed]",
      "text/plain": [
       "<matplotlib.figure.Figure at 0x10d4148d0>"
      ]
     },
     "metadata": {},
     "output_type": "display_data"
    }
   ],
   "source": [
    "plt.plot(iters,svm_gradient_step_errors)\n",
    "plt.show()"
   ]
  },
  {
   "cell_type": "code",
   "execution_count": null,
   "metadata": {
    "collapsed": true
   },
   "outputs": [],
   "source": []
  }
 ],
 "metadata": {
  "kernelspec": {
   "display_name": "Python 2",
   "language": "python",
   "name": "python2"
  },
  "language_info": {
   "codemirror_mode": {
    "name": "ipython",
    "version": 2
   },
   "file_extension": ".py",
   "mimetype": "text/x-python",
   "name": "python",
   "nbconvert_exporter": "python",
   "pygments_lexer": "ipython2",
   "version": "2.7.10"
  }
 },
 "nbformat": 4,
 "nbformat_minor": 0
}
